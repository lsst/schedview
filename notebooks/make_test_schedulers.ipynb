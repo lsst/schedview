{
 "cells": [
  {
   "cell_type": "markdown",
   "id": "5bd48342-698f-4fa6-bf5a-951034d41f3f",
   "metadata": {
    "execution": {
     "iopub.execute_input": "2023-10-18T17:42:18.128209Z",
     "iopub.status.busy": "2023-10-18T17:42:18.127911Z",
     "iopub.status.idle": "2023-10-18T17:42:18.130573Z",
     "shell.execute_reply": "2023-10-18T17:42:18.130150Z",
     "shell.execute_reply.started": "2023-10-18T17:42:18.128195Z"
    },
    "tags": []
   },
   "source": [
    "# Create scheduler pickles for testing `schedview`"
   ]
  },
  {
   "cell_type": "code",
   "execution_count": null,
   "id": "20b7a7e4-a1dd-4703-8830-d64e6c9a7341",
   "metadata": {
    "tags": []
   },
   "outputs": [],
   "source": [
    "from collections import namedtuple\n",
    "import lzma\n",
    "import pickle\n",
    "from pathlib import Path\n",
    "import warnings"
   ]
  },
  {
   "cell_type": "code",
   "execution_count": null,
   "id": "b89b4ab2-8751-4518-a7dc-db9cb732ac2a",
   "metadata": {
    "tags": []
   },
   "outputs": [],
   "source": [
    "import os\n",
    "import numpy as np\n",
    "import pandas as pd\n",
    "import healpy as hp\n",
    "import rubin_scheduler\n",
    "from astropy.time import Time\n",
    "import astropy.units as u\n",
    "import astropy.coordinates\n",
    "from rubin_scheduler.scheduler.model_observatory import ModelObservatory\n",
    "from rubin_scheduler.scheduler.surveys.field_survey import FieldSurvey\n",
    "from rubin_scheduler.scheduler.schedulers import CoreScheduler\n",
    "import rubin_scheduler.scheduler.basis_functions as bf\n",
    "from rubin_scheduler.scheduler import sim_runner\n",
    "import schedview.collect\n",
    "import schedview.compute\n",
    "from rubin_scheduler.utils import survey_start_mjd"
   ]
  },
  {
   "cell_type": "code",
   "execution_count": null,
   "id": "96800bac-3d6f-4325-ad09-20780c704096",
   "metadata": {
    "tags": []
   },
   "outputs": [],
   "source": [
    "SchedulerPickleContent = namedtuple('SchedulerPickleContent', ['scheduler', 'conditions'])"
   ]
  },
  {
   "cell_type": "code",
   "execution_count": null,
   "id": "1681d2ba-4d80-416b-8dc3-2fdc88ce5fe7",
   "metadata": {
    "tags": []
   },
   "outputs": [],
   "source": [
    "mjd_start = survey_start_mjd()\n",
    "model_observatory = ModelObservatory(mjd_start=mjd_start)\n",
    "nside = model_observatory.nside\n",
    "survey_length = (4*u.hour).to(u.day).value"
   ]
  },
  {
   "cell_type": "markdown",
   "id": "2713726d-4343-4062-8df1-d904df9f77a8",
   "metadata": {},
   "source": [
    "# Create a near-baseline sample scheduler"
   ]
  },
  {
   "cell_type": "markdown",
   "id": "d6e32f02-db64-4d1a-b7f2-4ac6aa98bdf2",
   "metadata": {},
   "source": [
    "Use the `make_sample_test_data.py` script in `schedview`, found in `util/sample_data`:"
   ]
  },
  {
   "cell_type": "raw",
   "id": "01f53ab6-4b7e-4062-974c-89317d47e6ba",
   "metadata": {},
   "source": [
    "python ../util/sample_data/make_sample_test_data.py --duration 4 "
   ]
  },
  {
   "cell_type": "markdown",
   "id": "c946d51c-8582-4082-81e2-606efaef30a0",
   "metadata": {},
   "source": [
    "# Get a production auxtel scheduler"
   ]
  },
  {
   "cell_type": "markdown",
   "id": "958df168-c723-4b03-a0cd-29e9f9b108d0",
   "metadata": {},
   "source": [
    "Use python `efd_sched.py` script in `schedview`, found in `util`. For example:"
   ]
  },
  {
   "cell_type": "raw",
   "id": "6b4f3571-e725-4ae3-8652-cb462515a6be",
   "metadata": {},
   "source": [
    "python ../util/efd_sched.py get '2023-10-11 04:30:16'"
   ]
  },
  {
   "cell_type": "markdown",
   "id": "8cbe8c9c-90d3-4fcf-a801-517d4e274e39",
   "metadata": {},
   "source": [
    "Note that the date specified is the date the entry was added to the EFD, rather than the date of the pickle itself, so there is some offset. For example, the above command returns the file\n",
    "`auxtel_scheduler_2023-10-11T043052.526.p`.\n",
    "\n",
    "You can use `efd_sched.py` in this command to query for which EFD date corresponds to a given file:\n",
    "```\n",
    "bash$ python util/efd_sched.py query '2023-10-10' | grep '2023-10-11T04.30.52'\n",
    "55\t2023-10-11 04:30:16.625007+00:00\thttps://s3.cp.lsst.org/rubinobs-lfa-cp/Scheduler:2/Scheduler:2/2023/10/10/Scheduler:2_Scheduler:2_2023-10-11T04:30:52.526.p\n",
    "```"
   ]
  },
  {
   "cell_type": "markdown",
   "id": "0783496d-c1ad-4d5d-b04d-b6d9b84a8e08",
   "metadata": {},
   "source": [
    "# Create schedulers with problems"
   ]
  },
  {
   "cell_type": "markdown",
   "id": "83bb41d6-6ad5-4f38-b8e0-acd83c4f8ce0",
   "metadata": {},
   "source": [
    "## Introduction\n",
    "\n",
    "I start by making an example scheduler with two tiers. The first tier is an equatorial survey in with fields every hour, such that there should be fields visible at all times.\n",
    "The second tier is a single greed survey (in g) covering the whole sky."
   ]
  },
  {
   "cell_type": "markdown",
   "id": "62c36cd9-7b32-48f8-aeea-bf4951555cca",
   "metadata": {},
   "source": [
    "## Make some basis functions"
   ]
  },
  {
   "cell_type": "code",
   "execution_count": null,
   "id": "c4439c24-ba6a-4ca0-9406-df668cf1c507",
   "metadata": {
    "tags": []
   },
   "outputs": [],
   "source": [
    "def make_sky_bf_list(band='g', nside=32):\n",
    "    not_twilight = bf.feasibility_funcs.NotTwilightBasisFunction()\n",
    "    moon_limit = bf.mask_basis_funcs.MoonAvoidanceBasisFunction(nside=nside, moon_distance=30.0)\n",
    "    zenith_limit = bf.mask_basis_funcs.ZenithShadowMaskBasisFunction(nside=nside, min_alt=20.0, max_alt=82.0)\n",
    "    sky_brightness_limit = bf.basis_functions.SkybrightnessLimitBasisFunction(nside=nside, filtername=band, sbmin=18.5, sbmax=30)\n",
    "    wind_limit = bf.basis_functions.AvoidDirectWind(5)\n",
    "    m5diff = bf.basis_functions.M5DiffBasisFunction(filtername=band, nside=nside)\n",
    "    basis_functions = [\n",
    "        not_twilight,\n",
    "        moon_limit,\n",
    "        zenith_limit,\n",
    "        sky_brightness_limit,\n",
    "        wind_limit,\n",
    "        m5diff\n",
    "    ]\n",
    "    return basis_functions"
   ]
  },
  {
   "cell_type": "code",
   "execution_count": null,
   "id": "2bb70e9d-925a-477f-b304-f5195986f124",
   "metadata": {
    "tags": []
   },
   "outputs": [],
   "source": [
    "def make_field_bf_list(ra, decl, band='g', nside=32):\n",
    "    basis_functions = make_sky_bf_list(band=band, nside=nside)\n",
    "    basis_functions.append(bf.feasibility_funcs.HourAngleLimitBasisFunction(RA=ra, ha_limits=[[22,24], [0,2]]))\n",
    "    return basis_functions"
   ]
  },
  {
   "cell_type": "code",
   "execution_count": null,
   "id": "62f9d5d0-4dc8-4c4f-b2f5-524458268250",
   "metadata": {
    "tags": []
   },
   "outputs": [],
   "source": [
    "def make_field_survey(ra, decl, band='g', nside=32):\n",
    "    basis_functions = make_field_bf_list(ra, decl, band=band, nside=nside)\n",
    "    sequence = band\n",
    "    nvis = [1]*len(band)\n",
    "    survey_name = f\"field_{ra}_{'n' if decl<0 else 'p'}{np.abs(decl)}_{band}\"\n",
    "    survey = FieldSurvey(basis_functions, np.array([ra]), np.array([decl]), sequence=sequence, nvis=nvis, nside=nside, survey_name=survey_name, reward_value=1.0)\n",
    "    return survey"
   ]
  },
  {
   "cell_type": "markdown",
   "id": "c9930fb1-3e1e-4739-b086-ba7f5d8ad805",
   "metadata": {},
   "source": [
    "## Make an equatorial survey in g"
   ]
  },
  {
   "cell_type": "markdown",
   "id": "dcee9fd3-d10c-4461-82ef-215519700d71",
   "metadata": {},
   "source": [
    "Start by making a list of field surveys in g on the equator, with fields spaced every hour (15 degrees):"
   ]
  },
  {
   "cell_type": "code",
   "execution_count": null,
   "id": "a24c465e-719c-498e-942f-190dc604946d",
   "metadata": {
    "tags": []
   },
   "outputs": [],
   "source": [
    "decl = 0\n",
    "band = 'g'\n",
    "field_surveys = [make_field_survey(ra, decl, band, nside) for ra in range(0, 360, 15)]"
   ]
  },
  {
   "cell_type": "markdown",
   "id": "3cb0b075-c16f-46c0-b17d-5f3e8cb9c9da",
   "metadata": {},
   "source": [
    "As a fallback, greate a greedy survey in g that covers the whole sky:"
   ]
  },
  {
   "cell_type": "code",
   "execution_count": null,
   "id": "cf7a6c39-a974-472f-92bd-c26f6e48facf",
   "metadata": {
    "tags": []
   },
   "outputs": [],
   "source": [
    "sky_basis_functions = make_sky_bf_list(band=band, nside=nside)\n",
    "weights = [1] * len(sky_basis_functions)\n",
    "greedy_surveys = [rubin_scheduler.scheduler.surveys.surveys.GreedySurvey(sky_basis_functions, weights, filtername=band, survey_name=f\"greedy_{band}\")]"
   ]
  },
  {
   "cell_type": "markdown",
   "id": "524082a6-885e-4c29-a80e-301bf7a1e2c0",
   "metadata": {},
   "source": [
    "Actually create the scheduler:"
   ]
  },
  {
   "cell_type": "code",
   "execution_count": null,
   "id": "dce7eaf9-dc00-4a27-8810-5dfc2984b1df",
   "metadata": {
    "tags": []
   },
   "outputs": [],
   "source": [
    "scheduler = CoreScheduler([field_surveys, greedy_surveys], nside=nside)"
   ]
  },
  {
   "cell_type": "markdown",
   "id": "c80e31a6-8372-4617-b21a-16457aab0716",
   "metadata": {},
   "source": [
    "Configure the scheduler to keep reward values:"
   ]
  },
  {
   "cell_type": "code",
   "execution_count": null,
   "id": "a9351e92-5106-4209-b3dc-be8312fe4c9b",
   "metadata": {
    "tags": []
   },
   "outputs": [],
   "source": [
    "scheduler.keep_rewards = True"
   ]
  },
  {
   "cell_type": "markdown",
   "id": "de8c1752-464d-41c0-b81d-ff18f7c1beb5",
   "metadata": {},
   "source": [
    "Actually run the survey for a little bit:"
   ]
  },
  {
   "cell_type": "code",
   "execution_count": null,
   "id": "a74d2196-eaf5-4177-ae91-3db2a30504b1",
   "metadata": {
    "tags": []
   },
   "outputs": [],
   "source": [
    "observatory, scheduler, observations, reward_df, obs_rewards = sim_runner(\n",
    "    model_observatory,\n",
    "    scheduler,\n",
    "    mjd_start=mjd_start,\n",
    "    survey_length=survey_length,\n",
    "    record_rewards=True,\n",
    ")\n",
    "conditions = scheduler.conditions"
   ]
  },
  {
   "cell_type": "markdown",
   "id": "ff53fd9a-cc46-4fd9-ac90-7b1ff7f120d6",
   "metadata": {},
   "source": [
    "Save the survey:"
   ]
  },
  {
   "cell_type": "code",
   "execution_count": null,
   "id": "78a9f360-0aea-4964-8e32-a95d1b56a8ba",
   "metadata": {
    "tags": []
   },
   "outputs": [],
   "source": [
    "output_tuple = (scheduler, conditions)\n",
    "if not os.path.isdir('../tmp'):\n",
    "    os.mkdir('../tmp')\n",
    "fname = Path('../tmp/eq_field_survey_v0.p.xz').resolve()\n",
    "with lzma.open(fname, 'wb') as sched_out:\n",
    "    pickle.dump(output_tuple, sched_out)\n",
    "\n",
    "fname"
   ]
  },
  {
   "cell_type": "code",
   "execution_count": null,
   "id": "657d3bc7-f77f-4911-b0b8-705437fd5f0c",
   "metadata": {
    "tags": []
   },
   "outputs": [],
   "source": [
    "print(f\"Conditions calculated for {Time(conditions.mjd[0], format='mjd').iso} (mjd {conditions.mjd[0]})\")"
   ]
  },
  {
   "cell_type": "markdown",
   "id": "e919e900-edcd-4c44-948a-3a9b8e9d9458",
   "metadata": {},
   "source": [
    "Take a look at one survey:"
   ]
  },
  {
   "cell_type": "code",
   "execution_count": null,
   "id": "2b17dabd-fb8c-41e5-8306-e5a1314c62a6",
   "metadata": {
    "tags": []
   },
   "outputs": [],
   "source": [
    "scheduler_reward_df = scheduler.make_reward_df(conditions, accum=True)\n",
    "scheduler_reward_df.loc[(0,1),:]"
   ]
  },
  {
   "cell_type": "markdown",
   "id": "37e0c383-74f5-4148-9afa-eeff4b28f22d",
   "metadata": {},
   "source": [
    "Take a look at the rewards for all surveys."
   ]
  },
  {
   "cell_type": "code",
   "execution_count": null,
   "id": "bc30a69b-7800-40a9-b18c-4e6ae1657f52",
   "metadata": {
    "tags": []
   },
   "outputs": [],
   "source": [
    "scheduler_summary_df = schedview.compute.make_scheduler_summary_df(scheduler, conditions, scheduler_reward_df)\n",
    "scheduler_summary_df.query('tier==\"tier 0\"')"
   ]
  },
  {
   "cell_type": "markdown",
   "id": "f06b17b2-6f1f-4cca-95ac-220dbb22e945",
   "metadata": {},
   "source": [
    "# Make a survey where everything is infeasible"
   ]
  },
  {
   "cell_type": "markdown",
   "id": "78145a0a-7990-45bc-afe7-527b492d5b76",
   "metadata": {},
   "source": [
    "Create a combination of survey and conditions where everything is infeasible, blocked either by wind or by sky brightess, but where there are observations not blocked by both.\n",
    "\n",
    "The first full moon after the nominal survey start is 2025-05-12. This should be in the default limited sky brightness data set."
   ]
  },
  {
   "cell_type": "markdown",
   "id": "856f1e9b-8a81-410b-b7da-cd348f912cba",
   "metadata": {},
   "source": [
    "Find the next full moon after the start of the survey:"
   ]
  },
  {
   "cell_type": "code",
   "execution_count": null,
   "id": "81baec26-7670-4992-8db6-0408d49a2004",
   "metadata": {
    "tags": []
   },
   "outputs": [],
   "source": [
    "month_mjds = np.arange(int(mjd_start), int(mjd_start)+30)\n",
    "month_phases = np.array([model_observatory.almanac.get_sun_moon_positions(mjd)['moon_phase'] for mjd in month_mjds])\n",
    "mjd = month_mjds[np.argmax(month_phases)]\n",
    "Time(mjd, format='mjd').iso"
   ]
  },
  {
   "cell_type": "markdown",
   "id": "d3b3763c-45ca-4064-a09c-2105793772b6",
   "metadata": {},
   "source": [
    "Find a time during the night where the moon is at a zd of about 55 degrees."
   ]
  },
  {
   "cell_type": "code",
   "execution_count": null,
   "id": "4e38e507-c9b5-4672-a98d-77ec46666140",
   "metadata": {
    "tags": []
   },
   "outputs": [],
   "source": [
    "sunset_info = model_observatory.almanac.get_sunset_info(mjd)\n",
    "sunset, sunrise = sunset_info[3], sunset_info[4]\n",
    "for mjd in np.arange(sunset, sunrise, 1.0/(24*4)):\n",
    "    moon_alt = model_observatory.almanac.get_sun_moon_positions(mjd)['moon_alt']\n",
    "    if np.abs(np.degrees(moon_alt)-55) < 5:\n",
    "        break\n",
    "\n",
    "time_to_sched = Time(mjd, format='mjd')\n",
    "time_to_sched.iso, mjd"
   ]
  },
  {
   "cell_type": "code",
   "execution_count": null,
   "id": "6e222897-5a42-4cbd-a58b-e28c93cf04c5",
   "metadata": {
    "tags": []
   },
   "outputs": [],
   "source": [
    "model_observatory.mjd = time_to_sched.mjd"
   ]
  },
  {
   "cell_type": "markdown",
   "id": "7d069d75-3b17-4fc5-9dc9-c61fa6322ca3",
   "metadata": {},
   "source": [
    "Set the wind so it comes from the opposite direction."
   ]
  },
  {
   "cell_type": "code",
   "execution_count": null,
   "id": "f842487e-c53d-4c43-a4f3-1a160c682496",
   "metadata": {
    "tags": []
   },
   "outputs": [],
   "source": [
    "moon_az = model_observatory.almanac.get_sun_moon_positions(time_to_sched.mjd)['moon_az']\n",
    "wind_az = moon_az - np.pi ;# opposite moon\n",
    "wind_data = rubin_scheduler.site_models.ConstantWindData(wind_speed=18.0, wind_direction=wind_az)\n",
    "model_observatory.wind_data = wind_data"
   ]
  },
  {
   "cell_type": "markdown",
   "id": "7e8dd32f-e7f2-47e6-b463-0b0cc4909a54",
   "metadata": {},
   "source": [
    "Actually build our instance of Conditions:"
   ]
  },
  {
   "cell_type": "code",
   "execution_count": null,
   "id": "b3b3707d-1b43-4213-98d6-6f86b01a64d6",
   "metadata": {
    "tags": []
   },
   "outputs": [],
   "source": [
    "conditions = model_observatory.return_conditions()"
   ]
  },
  {
   "cell_type": "code",
   "execution_count": null,
   "id": "775f7e96-2a26-46d0-8284-47867ed7feea",
   "metadata": {
    "tags": []
   },
   "outputs": [],
   "source": [
    "scheduler.make_reward_df(conditions, accum=True)"
   ]
  },
  {
   "cell_type": "code",
   "execution_count": null,
   "id": "76205852-dfba-4061-a1f0-d167255ffe3f",
   "metadata": {
    "tags": []
   },
   "outputs": [],
   "source": [
    "schedview.compute.make_scheduler_summary_df(scheduler, conditions)"
   ]
  },
  {
   "cell_type": "code",
   "execution_count": null,
   "id": "8896369f-8935-4839-aeec-1153cda52712",
   "metadata": {},
   "outputs": [],
   "source": [
    "output_tuple = (scheduler, conditions)\n",
    "fname = Path('../tmp/eq_field_survey_v0_infeasible1.p.xz').resolve()\n",
    "with lzma.open(fname, 'wb') as sched_out:\n",
    "    pickle.dump(output_tuple, sched_out)\n",
    "\n",
    "fname"
   ]
  },
  {
   "cell_type": "markdown",
   "id": "22e7c644-493d-4e3b-be0f-69eda97b243f",
   "metadata": {},
   "source": [
    "# Making pickles available"
   ]
  },
  {
   "cell_type": "markdown",
   "id": "46e78665-64db-42ca-a26f-aae401dad7d7",
   "metadata": {},
   "source": [
    "Copy them to `/sdf/group/rubin/web_data/sim-data/sched_pickles` at the USDF for them to be visible at https://s3df.slac.stanford.edu/data/rubin/sim-data/sched_pickles"
   ]
  },
  {
   "cell_type": "code",
   "execution_count": null,
   "id": "f40f816b-8bbe-4ee7-8f6b-5449ba8e8239",
   "metadata": {},
   "outputs": [],
   "source": []
  }
 ],
 "metadata": {
  "kernelspec": {
   "display_name": "Python 3 (ipykernel)",
   "language": "python",
   "name": "python3"
  },
  "language_info": {
   "codemirror_mode": {
    "name": "ipython",
    "version": 3
   },
   "file_extension": ".py",
   "mimetype": "text/x-python",
   "name": "python",
   "nbconvert_exporter": "python",
   "pygments_lexer": "ipython3",
   "version": "3.11.6"
  }
 },
 "nbformat": 4,
 "nbformat_minor": 5
}
