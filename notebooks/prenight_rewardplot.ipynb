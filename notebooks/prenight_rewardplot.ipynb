{
 "cells": [
  {
   "cell_type": "code",
   "execution_count": null,
   "id": "a2c5ee00-6e66-4e48-bcfd-a360e9f46313",
   "metadata": {
    "tags": []
   },
   "outputs": [],
   "source": [
    "# %load_ext lab_black\n",
    "%load_ext autoreload\n",
    "%autoreload 1"
   ]
  },
  {
   "cell_type": "markdown",
   "id": "0caa016e-71b6-4e07-9692-39ead5ae551b",
   "metadata": {},
   "source": [
    "### Imports\n",
    "\n",
    "Use `aimport` for `schedview` imports for ease of debugging."
   ]
  },
  {
   "cell_type": "code",
   "execution_count": null,
   "id": "97437324-163c-4662-893a-4daa9352bba0",
   "metadata": {
    "tags": []
   },
   "outputs": [],
   "source": [
    "import warnings\n",
    "import itertools\n",
    "import panel as pn"
   ]
  },
  {
   "cell_type": "code",
   "execution_count": null,
   "id": "d65abf78-592f-41ed-9f81-41492685881b",
   "metadata": {
    "tags": []
   },
   "outputs": [],
   "source": [
    "from astropy.time import Time, TimeDelta\n",
    "import numpy as np\n",
    "import pandas as pd\n",
    "\n",
    "import bokeh\n",
    "import bokeh.models\n",
    "\n",
    "from astropy.time import Time"
   ]
  },
  {
   "cell_type": "code",
   "execution_count": null,
   "id": "32db2de6-bf88-4df8-b0f5-0acc9a37433b",
   "metadata": {
    "tags": []
   },
   "outputs": [],
   "source": [
    "from rubin_sim.scheduler.example import example_scheduler\n",
    "from rubin_sim.scheduler import sim_runner\n",
    "from rubin_sim.scheduler.model_observatory import ModelObservatory"
   ]
  },
  {
   "cell_type": "code",
   "execution_count": null,
   "id": "34625388-6612-401c-9591-2bf26f2c2200",
   "metadata": {
    "tags": []
   },
   "outputs": [],
   "source": [
    "%aimport schedview\n",
    "%aimport schedview.app.prenight\n",
    "%aimport schedview.plot.nightbf"
   ]
  },
  {
   "cell_type": "markdown",
   "id": "53a94b06-57d1-4840-9d5d-72a5fda3f88f",
   "metadata": {},
   "source": [
    "### Further preparation of the notebook"
   ]
  },
  {
   "cell_type": "code",
   "execution_count": null,
   "id": "cec6a756-3585-425d-baa0-5d262b43297b",
   "metadata": {
    "tags": []
   },
   "outputs": [],
   "source": [
    "pn.extension()"
   ]
  },
  {
   "cell_type": "markdown",
   "id": "06404ee0-4f58-4107-a285-37042abfeac0",
   "metadata": {},
   "source": [
    "### Filter warnings\n",
    "\n",
    "Several dependencies throw prodigious instances of (benign) warnings.\n",
    "Suppress them to avoid poluting the executed notebook."
   ]
  },
  {
   "cell_type": "code",
   "execution_count": null,
   "id": "86492654-4049-4ed4-987e-28720171540f",
   "metadata": {
    "tags": []
   },
   "outputs": [],
   "source": [
    "warnings.filterwarnings(\n",
    "    \"ignore\",\n",
    "    module=\"astropy.time\",\n",
    "    message=\"Numerical value without unit or explicit format passed to TimeDelta, assuming days\",\n",
    ")\n",
    "warnings.filterwarnings(\n",
    "    \"ignore\",\n",
    "    module=\"pandas\",\n",
    "    message=\"In a future version of pandas, a length 1 tuple will be returned when iterating over a groupby with a grouper equal to a list of length 1. Don't supply a list with a single grouper to avoid this warning.\",\n",
    ")\n",
    "warnings.filterwarnings(\n",
    "    \"ignore\",\n",
    "    module=\"healpy\",\n",
    "    message=\"divide by zero encountered in divide\",\n",
    ")\n",
    "warnings.filterwarnings(\n",
    "    \"ignore\",\n",
    "    module=\"healpy\",\n",
    "    message=\"invalid value encountered in multiply\",\n",
    ")\n",
    "warnings.filterwarnings(\n",
    "    \"ignore\",\n",
    "    module=\"holoviews\",\n",
    "    message=\"Discarding nonzero nanoseconds in conversion.\",\n",
    ")\n",
    "warnings.filterwarnings(\n",
    "    \"ignore\",\n",
    "    module=\"rubin_sim\",\n",
    "    message=\"invalid value encountered in arcsin\",\n",
    ")\n",
    "warnings.filterwarnings(\n",
    "    \"ignore\",\n",
    "    module=\"rubin_sim\",\n",
    "    message=\"All-NaN slice encountered\",\n",
    ")"
   ]
  },
  {
   "cell_type": "markdown",
   "id": "a0be87cc-6c9a-4760-817a-95c8f357eefe",
   "metadata": {},
   "source": [
    "## Run a simulation"
   ]
  },
  {
   "cell_type": "markdown",
   "id": "8d433449-f9ea-4301-8e95-c10c392e0588",
   "metadata": {},
   "source": [
    "For this example, simulate starting the default first day of observing:"
   ]
  },
  {
   "cell_type": "code",
   "execution_count": null,
   "id": "7adc4242-a30d-4fe3-83fb-efb687d1fb53",
   "metadata": {
    "tags": []
   },
   "outputs": [],
   "source": [
    "mjd_start = ModelObservatory().mjd_start"
   ]
  },
  {
   "cell_type": "code",
   "execution_count": null,
   "id": "fca09c8d-c4db-464e-be60-22af293c5b4f",
   "metadata": {
    "tags": []
   },
   "outputs": [],
   "source": [
    "survey_length = 1.0  # days\n",
    "scheduler = example_scheduler()\n",
    "scheduler.keep_rewards = True\n",
    "observatory = ModelObservatory(mjd_start=mjd_start)\n",
    "observatory, scheduler, observations, reward_df, obs_rewards = sim_runner(\n",
    "    observatory,\n",
    "    scheduler,\n",
    "    mjd_start=mjd_start,\n",
    "    survey_length=survey_length,\n",
    "    record_rewards=True,\n",
    "    filename=\"rewards.db\",\n",
    ")"
   ]
  },
  {
   "cell_type": "code",
   "execution_count": null,
   "id": "8ed0b5c8-ecdc-4fbe-9c46-9088684c5367",
   "metadata": {
    "tags": []
   },
   "outputs": [],
   "source": [
    "obs_night = Time(np.median(observations[\"mjd\"]), format=\"mjd\")"
   ]
  },
  {
   "cell_type": "code",
   "execution_count": null,
   "id": "78a5a437-fb34-43c5-a925-af1a3fc29312",
   "metadata": {},
   "outputs": [],
   "source": [
    "reward_df"
   ]
  },
  {
   "cell_type": "code",
   "execution_count": null,
   "id": "9c8e6199-2519-4bbd-94bd-99a9cb623989",
   "metadata": {
    "tags": []
   },
   "outputs": [],
   "source": [
    "def configure_survey_selector(survey_selector, reward_df, tier):\n",
    "    surveys = (\n",
    "        reward_df.set_index(\"tier_label\").loc[tier, \"survey_label\"].unique().tolist()\n",
    "    )\n",
    "    survey_selector.options = surveys\n",
    "    survey_selector.value = surveys[:10] if len(surveys) > 10 else surveys"
   ]
  },
  {
   "cell_type": "code",
   "execution_count": null,
   "id": "905958c2-5953-426e-bf42-0c768a06affc",
   "metadata": {
    "tags": []
   },
   "outputs": [],
   "source": [
    "def configure_basis_function_selector(basis_function_selector, reward_df, tier):\n",
    "    basis_functions = (\n",
    "        reward_df.set_index(\"tier_label\").loc[tier, \"basis_function\"].unique().tolist()\n",
    "    )\n",
    "    basis_function_selector.options = [\"Total\"] + basis_functions\n",
    "    basis_function_selector.value = \"Total\""
   ]
  },
  {
   "cell_type": "code",
   "execution_count": null,
   "id": "a3748ad7-a248-49a4-8489-0398afb02ac1",
   "metadata": {
    "tags": []
   },
   "outputs": [],
   "source": [
    "night = pn.widgets.DatePicker(name=\"Night\", value=obs_night.datetime.date())\n",
    "tier = pn.widgets.Select(\n",
    "    name=\"Tier\",\n",
    "    options=reward_df.tier_label.unique().tolist(),\n",
    "    value=\"tier 2\",\n",
    "    width_policy=\"fit\",\n",
    ")\n",
    "\n",
    "surveys = pn.widgets.MultiSelect(\n",
    "    name=\"Displayed surveys\", options=[\"foo\"], value=[\"foo\"], width_policy=\"fit\"\n",
    ")\n",
    "configure_survey_selector(surveys, reward_df, tier.value)\n",
    "\n",
    "\n",
    "def survey_selector_update_callback(surveys, event):\n",
    "    new_tier = event.new\n",
    "    configure_survey_selector(surveys, reward_df, new_tier)\n",
    "\n",
    "\n",
    "tier.link(surveys, {\"value\": survey_selector_update_callback})\n",
    "\n",
    "basis_function = pn.widgets.Select(\n",
    "    name=\"Reward (Total or basis function maximum)\",\n",
    "    options=[\"Total\"],\n",
    "    value=\"Total\",\n",
    "    width_policy=\"fit\",\n",
    ")\n",
    "configure_basis_function_selector(basis_function, reward_df, tier.value)\n",
    "\n",
    "\n",
    "def basis_function_selector_update_callback(basis_function, event):\n",
    "    new_tier = event.new\n",
    "    configure_basis_function_selector(basis_function, reward_df, new_tier)\n",
    "\n",
    "\n",
    "tier.link(basis_function, {\"value\": basis_function_selector_update_callback})\n",
    "\n",
    "reward_plot = pn.bind(\n",
    "    schedview.plot.nightbf.plot_rewards,\n",
    "    reward_df,\n",
    "    tier,\n",
    "    night,\n",
    "    None,\n",
    "    obs_rewards,\n",
    "    surveys,\n",
    "    basis_function,\n",
    "    plot_kwargs={\"width\": 1024},\n",
    ")\n",
    "\n",
    "\n",
    "infeasible_plot = pn.bind(\n",
    "    schedview.plot.nightbf.plot_infeasible,\n",
    "    reward_df,\n",
    "    tier,\n",
    "    night,\n",
    "    None,\n",
    "    surveys,\n",
    "    plot_kwargs={\"width\": 1024},\n",
    ")\n",
    "\n",
    "pn.Column(night, pn.Row(tier, surveys, basis_function), reward_plot, infeasible_plot)"
   ]
  },
  {
   "cell_type": "code",
   "execution_count": null,
   "id": "c3378179-d96f-4c76-ad0e-6f0a1f3620ab",
   "metadata": {},
   "outputs": [],
   "source": []
  }
 ],
 "metadata": {
  "kernelspec": {
   "display_name": "schedview",
   "language": "python",
   "name": "schedview"
  },
  "language_info": {
   "codemirror_mode": {
    "name": "ipython",
    "version": 3
   },
   "file_extension": ".py",
   "mimetype": "text/x-python",
   "name": "python",
   "nbconvert_exporter": "python",
   "pygments_lexer": "ipython3",
   "version": "3.11.6"
  }
 },
 "nbformat": 4,
 "nbformat_minor": 5
}
