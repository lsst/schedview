{
 "cells": [
  {
   "cell_type": "markdown",
   "id": "83f7e133-fbd7-46a2-8c52-44f4587405b5",
   "metadata": {},
   "source": [
    "# Extending the pre-night dashboard with a tab with a `matplotlib` plot"
   ]
  },
  {
   "cell_type": "markdown",
   "id": "ae634eac-3392-4188-acf0-40b70168848f",
   "metadata": {},
   "source": [
    "## Notebook perparation"
   ]
  },
  {
   "cell_type": "markdown",
   "id": "1ef0b2ed-5891-4a64-bf92-5d1e423bbf45",
   "metadata": {},
   "source": [
    "### Load jupyter extensions"
   ]
  },
  {
   "cell_type": "code",
   "execution_count": null,
   "id": "713ad403-ecd9-44d2-af05-20ed61d65366",
   "metadata": {
    "tags": []
   },
   "outputs": [],
   "source": [
    "%load_ext lab_black\n",
    "%load_ext autoreload\n",
    "%autoreload 1"
   ]
  },
  {
   "cell_type": "markdown",
   "id": "befc7679-cd19-47f9-a0c7-a616dd18322f",
   "metadata": {},
   "source": [
    "### Imports\n",
    "\n",
    "Use `aimport` for `schedview` imports for ease of debugging."
   ]
  },
  {
   "cell_type": "code",
   "execution_count": null,
   "id": "8b0f4ddf-dff6-4391-ae15-057bb395fcd9",
   "metadata": {
    "tags": []
   },
   "outputs": [],
   "source": [
    "import importlib\n",
    "import warnings\n",
    "from astropy.time import Time\n",
    "import pandas as pd\n",
    "import panel as pn\n",
    "import param\n",
    "import matplotlib as mpl\n",
    "import matplotlib.pyplot as plt"
   ]
  },
  {
   "cell_type": "code",
   "execution_count": null,
   "id": "c86a832c-ccc7-436f-ab32-f90098f30de6",
   "metadata": {
    "tags": []
   },
   "outputs": [],
   "source": [
    "import schedview.collect.opsim\n",
    "import schedview.app\n",
    "import schedview.app.prenight"
   ]
  },
  {
   "cell_type": "markdown",
   "id": "44699b6d-a875-4bb0-9550-bfaa9451ecee",
   "metadata": {},
   "source": [
    "### Further preparation of the notebook"
   ]
  },
  {
   "cell_type": "markdown",
   "id": "d308731d-378b-4b4b-93a0-43c5950c67ac",
   "metadata": {},
   "source": [
    "Configure the notebook to show `panel` plots and dashboards:"
   ]
  },
  {
   "cell_type": "code",
   "execution_count": null,
   "id": "3744b792-dd65-443f-828d-8d4d349c400f",
   "metadata": {
    "tags": []
   },
   "outputs": [],
   "source": [
    "pn.extension(\"terminal\")"
   ]
  },
  {
   "cell_type": "markdown",
   "id": "fcdbd076-e4fa-4b9c-a3fc-9e4fa1eaca41",
   "metadata": {},
   "source": [
    "Configure the notebook *not* to show `matplotlib` plots using usual jupyter `matplotlib` backend, because `panel` will be doing this and we don't want duplicate plots."
   ]
  },
  {
   "cell_type": "code",
   "execution_count": null,
   "id": "8b65b03f-a428-4be5-aaea-eb07a1ff238b",
   "metadata": {
    "tags": []
   },
   "outputs": [],
   "source": [
    "%matplotlib agg"
   ]
  },
  {
   "cell_type": "markdown",
   "id": "03159c1b-3dcc-474b-b3b9-4e4a1af5b21a",
   "metadata": {},
   "source": [
    "## Create the extended dashboard app"
   ]
  },
  {
   "cell_type": "markdown",
   "id": "226f38ca-a235-4672-be2b-3e85fef70feb",
   "metadata": {},
   "source": [
    "Create a function that takes a `pandas.DataFrame` of visits, and returns a `matplotlib.figure` with the plot we want:"
   ]
  },
  {
   "cell_type": "code",
   "execution_count": null,
   "id": "ef526116-924c-484a-8f1b-7ed3cc1de8f4",
   "metadata": {
    "tags": []
   },
   "outputs": [],
   "source": [
    "def create_cumm_az_plot(visits):\n",
    "    fig, axes = plt.subplots(3, sharex=True, gridspec_kw={\"hspace\": 0})\n",
    "    axes[0].plot(visits.start_date, visits.cummTelAz)\n",
    "    axes[0].set_ylabel(\"Cumulative az rot.\")\n",
    "    axes[1].plot(visits.start_date, visits.azimuth)\n",
    "    axes[1].set_ylabel(\"Field Az\")\n",
    "    axes[2].plot(visits.start_date, visits.slewTime)\n",
    "    axes[2].set_ylabel(\"Slew time\")\n",
    "    axes[2].xaxis.set_major_formatter(mpl.dates.DateFormatter(\"%H:%M\"))\n",
    "    axes[2].set_xlabel(\"Time (UTC)\")\n",
    "    return fig"
   ]
  },
  {
   "cell_type": "markdown",
   "id": "323a269f-5b0f-4259-8ed3-326ca6fbcfd6",
   "metadata": {},
   "source": [
    "Subclass `schedview.app.prenight.prenight.Prenight` which overrides or add three new elements:\n",
    "\n",
    "1. Override the `shown_tabs` class member in `Prenight` to include your new plot in the list of tabs. The `objects` argument of `param.ListSelector` includes the names of all tabs which can be included when creating a dashboard, and the `default` argument lists the tabs that will be shown if your subclass is instantiated without the `shown_tabs` argument being set.\n",
    "2. Create a method that returns an instance of `panel.Pane` what wraps a call to the function we made above. Wrap it with a `@param.depends` decorator so that the plot will get updated when new visits are loaded.\n",
    "3. Replace `initialize_tab_contents` from the parent class with an implementation that includes the new plot."
   ]
  },
  {
   "cell_type": "code",
   "execution_count": null,
   "id": "ede63450-f29a-45a5-b1ce-c04fcdfc4e7d",
   "metadata": {
    "tags": []
   },
   "outputs": [],
   "source": [
    "class PrenightWithAzWrapTab(schedview.app.prenight.prenight.Prenight):\n",
    "    # Define which tabs should be shown.\n",
    "    # The name for your new tab should be included in\n",
    "    # both the default and objects list to be visible\n",
    "    # by default.\n",
    "    shown_tabs = param.ListSelector(\n",
    "        default=[\n",
    "            \"Azimuth and altitude\",\n",
    "            \"Airmass vs. time\",\n",
    "            \"Sky maps\",\n",
    "            \"Table of visits\",\n",
    "            \"Reward plots\",\n",
    "            \"Azimuth wrap\",\n",
    "        ],\n",
    "        objects=[\n",
    "            \"Azimuth and altitude\",\n",
    "            \"Airmass vs. time\",\n",
    "            \"Sky maps\",\n",
    "            \"Table of visits\",\n",
    "            \"Reward plots\",\n",
    "            \"Visit explorer\",\n",
    "            \"Azimuth wrap\",\n",
    "        ],\n",
    "        doc=\"The names of the tabs to show.\",\n",
    "    )\n",
    "\n",
    "    # If you plot needs to be update when the data is changed\n",
    "    # e.g. if a new set of data is loaded, list the member\n",
    "    # in the @param.depends decorator\n",
    "    @param.depends(\n",
    "        \"_visits\",\n",
    "    )\n",
    "    def make_az_wrap_plot(self):\n",
    "        # The dashboard may not have any loaded visits, for example\n",
    "        # when first loaded, so handle that situation gracefully\n",
    "        if self._visits is None:\n",
    "            return \"No visits are loaded\"\n",
    "\n",
    "        return pn.pane.Matplotlib(create_cumm_az_plot(self._visits))\n",
    "\n",
    "    def initialize_tab_contents(self):\n",
    "        # Start with the dictionary with the tabs defined\n",
    "        # in base class.\n",
    "        tab_contents = super().initialize_tab_contents()\n",
    "\n",
    "        # Add your new plot to this dictionary\n",
    "        new_tab_name = \"Azimuth wrap\"\n",
    "        tab_contents[new_tab_name] = pn.param.ParamMethod(\n",
    "            self.make_az_wrap_plot, loading_indicator=True\n",
    "        )\n",
    "\n",
    "        return tab_contents"
   ]
  },
  {
   "cell_type": "markdown",
   "id": "9fc6e593-7199-4b34-8125-a3fdcaf89970",
   "metadata": {},
   "source": [
    "## Try out our new dashboard"
   ]
  },
  {
   "cell_type": "markdown",
   "id": "9ed17f90-0d61-428b-97e0-7e35a1e48d7e",
   "metadata": {},
   "source": [
    "Load some sample data:"
   ]
  },
  {
   "cell_type": "code",
   "execution_count": null,
   "id": "ba41ef2f-d7fb-4f20-993e-a5fdbf49c585",
   "metadata": {
    "tags": []
   },
   "outputs": [],
   "source": [
    "sample_data_dir = importlib.resources.files(\"schedview\").joinpath(\"data\")\n",
    "sample_opsim_db = str(sample_data_dir.joinpath(\"sample_opsim.db\"))\n",
    "sample_scheduler_pickle = str(sample_data_dir.joinpath(\"sample_scheduler.pickle.xz\"))\n",
    "sample_rewards_h5 = str(sample_data_dir.joinpath(\"sample_rewards.h5\"))"
   ]
  },
  {
   "cell_type": "markdown",
   "id": "e1a7481f-8fc3-4a73-b0ba-388edf7a449d",
   "metadata": {},
   "source": [
    "Get the date the sample visits start on:"
   ]
  },
  {
   "cell_type": "code",
   "execution_count": null,
   "id": "64fcadc6-2b71-4a95-bcb9-c81071ff8b2f",
   "metadata": {
    "tags": []
   },
   "outputs": [],
   "source": [
    "def get_sim_start_date(opsim_fname):\n",
    "    opsim = schedview.collect.opsim.read_opsim(opsim_fname)\n",
    "    start_mjd = opsim.observationStartMJD.min()\n",
    "    start_datetime_utc = Time(start_mjd, format=\"mjd\").datetime\n",
    "    night_date = (\n",
    "        pd.Timestamp(start_datetime_utc, tz=\"UTC\")\n",
    "        .tz_convert(\"Chile/Continental\")\n",
    "        .date()\n",
    "    )\n",
    "    return night_date\n",
    "\n",
    "\n",
    "night_date = get_sim_start_date(sample_opsim_db)\n",
    "night_date"
   ]
  },
  {
   "cell_type": "markdown",
   "id": "dd29a433-fc70-4959-86ef-0eac7c5dcef3",
   "metadata": {},
   "source": [
    "Actually show our dashboard:"
   ]
  },
  {
   "cell_type": "code",
   "execution_count": null,
   "id": "faa4d70c-497b-4aea-ade6-2a0f9256d4b8",
   "metadata": {
    "tags": []
   },
   "outputs": [],
   "source": [
    "prenight = PrenightWithAzWrapTab()\n",
    "pn_app = prenight.make_app(\n",
    "    night_date,\n",
    "    opsim_db=sample_opsim_db,\n",
    "    scheduler=sample_scheduler_pickle,\n",
    "    rewards=sample_rewards_h5,\n",
    ")\n",
    "pn_app"
   ]
  },
  {
   "cell_type": "markdown",
   "id": "4755302a-2d18-4490-a5ed-1d4fe1bd80ea",
   "metadata": {
    "execution": {
     "iopub.execute_input": "2023-09-06T15:51:10.790113Z",
     "iopub.status.busy": "2023-09-06T15:51:10.789833Z",
     "iopub.status.idle": "2023-09-06T15:51:10.792480Z",
     "shell.execute_reply": "2023-09-06T15:51:10.792092Z",
     "shell.execute_reply.started": "2023-09-06T15:51:10.790097Z"
    }
   },
   "source": [
    "## Other data"
   ]
  },
  {
   "cell_type": "markdown",
   "id": "49798ed1-4240-4ff2-a054-75b55f7e93c4",
   "metadata": {},
   "source": [
    "To explore what data is available to be used in plots, data from (or derived from) the other loaded files can be used as well."
   ]
  },
  {
   "cell_type": "markdown",
   "id": "9952233a-b5ed-4c1c-9cda-f38723747c02",
   "metadata": {
    "execution": {
     "iopub.execute_input": "2023-09-06T16:02:52.025250Z",
     "iopub.status.busy": "2023-09-06T16:02:52.024873Z",
     "iopub.status.idle": "2023-09-06T16:02:52.028040Z",
     "shell.execute_reply": "2023-09-06T16:02:52.027682Z",
     "shell.execute_reply.started": "2023-09-06T16:02:52.025233Z"
    },
    "tags": []
   },
   "source": [
    "### Visits (`_visits` and `_visits_cds`)\n",
    "\n",
    "The `_visits` parameter contains a `pandas.DataFrame` of the visits loaded from the opsim database for the specified night:"
   ]
  },
  {
   "cell_type": "code",
   "execution_count": null,
   "id": "6595544b-eb64-45ea-9e2c-110a3d112996",
   "metadata": {
    "tags": []
   },
   "outputs": [],
   "source": [
    "type(prenight._visits)"
   ]
  },
  {
   "cell_type": "code",
   "execution_count": null,
   "id": "82e41c7d-bddc-49bf-b977-7c720666d7d5",
   "metadata": {
    "tags": []
   },
   "outputs": [],
   "source": [
    "prenight._visits"
   ]
  },
  {
   "cell_type": "markdown",
   "id": "b3097df6-136b-4111-93a5-77be55e97ade",
   "metadata": {
    "execution": {
     "iopub.execute_input": "2023-09-06T16:01:16.843048Z",
     "iopub.status.busy": "2023-09-06T16:01:16.842823Z",
     "iopub.status.idle": "2023-09-06T16:01:16.847190Z",
     "shell.execute_reply": "2023-09-06T16:01:16.846742Z",
     "shell.execute_reply.started": "2023-09-06T16:01:16.843035Z"
    },
    "tags": []
   },
   "source": [
    "The `_visits_cds` member contains the same data, in an instance of `panel.models.ColumenDataSource`.\n",
    "When making `bokeh` plots, `_visits_cds` has the advantage of supporting `bokeh`'s automatic linking with other plots that also use `_visits_cds`, for example linked brushing."
   ]
  },
  {
   "cell_type": "code",
   "execution_count": null,
   "id": "e1ddf0b6-2fec-48cb-b557-6fb013cf82cc",
   "metadata": {
    "tags": []
   },
   "outputs": [],
   "source": [
    "type(prenight._visits_cds)"
   ]
  },
  {
   "cell_type": "code",
   "execution_count": null,
   "id": "b424d127-c30a-44ad-b1c0-c96b71449bfc",
   "metadata": {
    "tags": []
   },
   "outputs": [],
   "source": [
    "prenight._visits_cds.data.keys()"
   ]
  },
  {
   "cell_type": "markdown",
   "id": "1d236555-4b7d-41e9-8802-d8af23460a78",
   "metadata": {
    "execution": {
     "iopub.execute_input": "2023-09-06T16:07:07.060294Z",
     "iopub.status.busy": "2023-09-06T16:07:07.059986Z",
     "iopub.status.idle": "2023-09-06T16:07:07.063214Z",
     "shell.execute_reply": "2023-09-06T16:07:07.062828Z",
     "shell.execute_reply.started": "2023-09-06T16:07:07.060277Z"
    },
    "tags": []
   },
   "source": [
    "### The instance of the scheduler\n",
    "\n",
    "The instance of the scheduler loaded form the pickle is referenced by the `_scheduler` parameter:"
   ]
  },
  {
   "cell_type": "code",
   "execution_count": null,
   "id": "474ff30f-c4c1-45b8-a1b3-65532253fa95",
   "metadata": {
    "tags": []
   },
   "outputs": [],
   "source": [
    "type(prenight._scheduler)"
   ]
  },
  {
   "cell_type": "markdown",
   "id": "151a9476-911a-4d22-b75e-eb2f21ecb0e5",
   "metadata": {},
   "source": [
    "### Alamanc events\n",
    "\n",
    "The `_alamanac_evests` parameter holds almanac events, computed by the scheduler for the specified nights:"
   ]
  },
  {
   "cell_type": "code",
   "execution_count": null,
   "id": "96796daf-4cba-41aa-bc7b-04fa109fa28e",
   "metadata": {
    "tags": []
   },
   "outputs": [],
   "source": [
    "prenight._almanac_events"
   ]
  },
  {
   "cell_type": "markdown",
   "id": "8c0bf460-f1fd-4e72-b742-8a3c0e248e75",
   "metadata": {},
   "source": [
    "### Reward data\n",
    "\n",
    "The `_reward_df` parameter supplies rewards for each call to the scheduler:"
   ]
  },
  {
   "cell_type": "code",
   "execution_count": null,
   "id": "1138f429-7b7e-4887-b8cf-cfd2dbd95ca9",
   "metadata": {
    "tags": []
   },
   "outputs": [],
   "source": [
    "prenight._reward_df"
   ]
  },
  {
   "cell_type": "markdown",
   "id": "51966bd3-9b36-4cc1-993d-fb4f4319ba00",
   "metadata": {},
   "source": [
    "The `_obs_rewards` parameter connects these calls to specific obserations in the visits table: the index corresponds to the `observationStartMJD` column in the `visits` `DataFrame`, and the value to the `queue_fill_mjd_ns` column in `_reward_df`.\n",
    "So, to show the statistics for rewards calculated in the call where the 100th observation was chosen:"
   ]
  },
  {
   "cell_type": "code",
   "execution_count": null,
   "id": "248c4f8b-27ce-4c4b-a638-ea2858f7a7d0",
   "metadata": {
    "tags": []
   },
   "outputs": [],
   "source": [
    "my_obs = prenight._visits.loc[100]\n",
    "my_obs.to_frame().T"
   ]
  },
  {
   "cell_type": "code",
   "execution_count": null,
   "id": "0cc6544e-3859-4c27-88a7-248bd9ca7885",
   "metadata": {
    "tags": []
   },
   "outputs": [],
   "source": [
    "queue_fill_mjd_ns = prenight._obs_rewards[my_obs.observationStartMJD]\n",
    "obs_rewards = prenight._reward_df.query(f\"queue_fill_mjd_ns=={queue_fill_mjd_ns}\")\n",
    "obs_rewards"
   ]
  },
  {
   "cell_type": "markdown",
   "id": "c26caf26-5992-4483-9a32-1a1bc713c350",
   "metadata": {},
   "source": [
    "### Using parameters\n",
    "\n",
    "To use these parameters in a method, just use the members directly in calling the code, and use the `param.depends` decorator to let `panel` know it needs to be updated when those data are updated.\n",
    "\n",
    "For example, if you created a function `my_plot` that makes a matplotlib figure and takes insntances of `_visits`, `_reward_df`, and `_obs_rewards` as arguments, your subclass might look like this:"
   ]
  },
  {
   "cell_type": "code",
   "execution_count": null,
   "id": "b44efae1-d874-4b97-b825-f88799ed671c",
   "metadata": {
    "tags": []
   },
   "outputs": [],
   "source": [
    "class PrenightWithMyTab(schedview.app.prenight.prenight.Prenight):\n",
    "    # Define which tabs should be shown.\n",
    "    # The name for your new tab should be included in\n",
    "    # both the default and objects list to be visible\n",
    "    # by default.\n",
    "    shown_tabs = param.ListSelector(\n",
    "        default=[\n",
    "            \"Azimuth and altitude\",\n",
    "            \"Airmass vs. time\",\n",
    "            \"Sky maps\",\n",
    "            \"Table of visits\",\n",
    "            \"Reward plots\",\n",
    "            \"My plot\",\n",
    "        ],\n",
    "        objects=[\n",
    "            \"Azimuth and altitude\",\n",
    "            \"Airmass vs. time\",\n",
    "            \"Sky maps\",\n",
    "            \"Table of visits\",\n",
    "            \"Reward plots\",\n",
    "            \"Visit explorer\",\n",
    "            \"My plot\",\n",
    "        ],\n",
    "        doc=\"The names of the tabs to show.\",\n",
    "    )\n",
    "\n",
    "    # If you plot needs to be update when the data is changed\n",
    "    # e.g. if a new set of data is loaded, list the member\n",
    "    # in the @param.depends decorator\n",
    "    @param.depends(\"_visits\", \"_reward_df\", \"_obs_rewards\")\n",
    "    def make_my_plot(self):\n",
    "        # The dashboard may not have any loaded visits, for example\n",
    "        # when first loaded, so handle that situation gracefully\n",
    "        if self._visits is None:\n",
    "            return \"No visits are loaded\"\n",
    "\n",
    "        if self._reward_df is None or self._obs_rewards is None:\n",
    "            return \"No rewards are loaded\"\n",
    "\n",
    "        return pn.pane.Matplotlib(\n",
    "            my_plot(self._visits, self._reward_df, self._obs_rewards)\n",
    "        )\n",
    "\n",
    "    def initialize_tab_contents(self):\n",
    "        # Start with the dictionary with the tabs defined\n",
    "        # in base class.\n",
    "        tab_contents = super().initialize_tab_contents()\n",
    "\n",
    "        # Add your new plot to this dictionary\n",
    "        new_tab_name = \"My plot\"\n",
    "        tab_contents[new_tab_name] = pn.param.ParamMethod(\n",
    "            self.make_my_plot, loading_indicator=True\n",
    "        )\n",
    "\n",
    "        return tab_contents"
   ]
  },
  {
   "cell_type": "code",
   "execution_count": null,
   "id": "e53aaef7-60fb-46c7-8ce3-93cab0d208b6",
   "metadata": {},
   "outputs": [],
   "source": []
  }
 ],
 "metadata": {
  "kernelspec": {
   "display_name": "schedview",
   "language": "python",
   "name": "schedview"
  },
  "language_info": {
   "codemirror_mode": {
    "name": "ipython",
    "version": 3
   },
   "file_extension": ".py",
   "mimetype": "text/x-python",
   "name": "python",
   "nbconvert_exporter": "python",
   "pygments_lexer": "ipython3",
   "version": "3.11.4"
  }
 },
 "nbformat": 4,
 "nbformat_minor": 5
}
