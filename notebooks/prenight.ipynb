{
 "cells": [
  {
   "cell_type": "markdown",
   "id": "bd7b7073-27e7-49ea-9e9d-5e50355e6d23",
   "metadata": {},
   "source": [
    "# Running the pre-night briefing dashboard within a notebook"
   ]
  },
  {
   "cell_type": "markdown",
   "id": "5329df4e-4793-47ff-9ad1-55236fd4f10d",
   "metadata": {},
   "source": [
    "## Notebook perparation"
   ]
  },
  {
   "cell_type": "markdown",
   "id": "a9667f16-58e3-40b2-bc35-1a16923bdb08",
   "metadata": {},
   "source": [
    "### Load jupyter extensions"
   ]
  },
  {
   "cell_type": "code",
   "execution_count": null,
   "id": "2385888e-2285-4f86-95c7-d616013e1674",
   "metadata": {
    "tags": []
   },
   "outputs": [],
   "source": [
    "%load_ext lab_black\n",
    "%load_ext autoreload\n",
    "%autoreload 1"
   ]
  },
  {
   "cell_type": "markdown",
   "id": "9868fc2a-49f1-4743-b3c2-11f00239d2ea",
   "metadata": {},
   "source": [
    "### Imports\n",
    "\n",
    "Use `aimport` for `schedview` imports for ease of debugging."
   ]
  },
  {
   "cell_type": "code",
   "execution_count": null,
   "id": "7c2adaf3-7d2c-44cd-8978-036e7b7814b0",
   "metadata": {
    "tags": []
   },
   "outputs": [],
   "source": [
    "import warnings\n",
    "import math\n",
    "import logging\n",
    "from pathlib import Path\n",
    "import panel as pn\n",
    "import numpy as np\n",
    "import pandas as pd\n",
    "import param\n",
    "import bokeh\n",
    "from copy import deepcopy\n",
    "import datetime\n",
    "from pytz import timezone\n",
    "import lzma\n",
    "import pickle\n",
    "import yaml\n",
    "import json\n",
    "from collections import OrderedDict\n",
    "from tempfile import TemporaryDirectory, NamedTemporaryFile"
   ]
  },
  {
   "cell_type": "code",
   "execution_count": null,
   "id": "95bf450f-f267-40f6-bf5b-d6d7b755e625",
   "metadata": {
    "tags": []
   },
   "outputs": [],
   "source": [
    "from astropy.time import Time, TimeDelta\n",
    "from zoneinfo import ZoneInfo\n",
    "import matplotlib as mpl\n",
    "import matplotlib.pyplot as plt\n",
    "import hvplot.pandas"
   ]
  },
  {
   "cell_type": "code",
   "execution_count": null,
   "id": "4a8c3442-8881-4c9e-b341-54fa699c7e14",
   "metadata": {
    "tags": []
   },
   "outputs": [],
   "source": [
    "from rubin_sim.scheduler.example import example_scheduler\n",
    "from rubin_sim.scheduler import sim_runner\n",
    "from rubin_sim.scheduler.model_observatory import ModelObservatory\n",
    "from rubin_sim.scheduler.utils import SchemaConverter"
   ]
  },
  {
   "cell_type": "code",
   "execution_count": null,
   "id": "c86fdcf4-e7cb-4636-bee8-cb07f3a4374c",
   "metadata": {
    "tags": []
   },
   "outputs": [],
   "source": [
    "%aimport schedview\n",
    "%aimport schedview.app.prenight\n",
    "%aimport schedview.compute.scheduler\n",
    "%aimport schedview.collect.opsim\n",
    "from schedview.plot.visitmap import BAND_COLORS"
   ]
  },
  {
   "cell_type": "markdown",
   "id": "95c0762e-051a-48ee-9ae0-1ce429574d43",
   "metadata": {},
   "source": [
    "### Further preparation of the notebook"
   ]
  },
  {
   "cell_type": "code",
   "execution_count": null,
   "id": "1a86b787-1ca5-441d-b42e-a113645b8bee",
   "metadata": {
    "tags": []
   },
   "outputs": [],
   "source": [
    "pn.extension(\"terminal\")"
   ]
  },
  {
   "cell_type": "markdown",
   "id": "56ccf5c1-9cdc-4fee-bef3-b53f04a17ab0",
   "metadata": {},
   "source": [
    "### Filter warnings\n",
    "\n",
    "Several dependencies throw prodigious instances of (benign) warnings.\n",
    "Suppress them to avoid poluting the executed notebook."
   ]
  },
  {
   "cell_type": "code",
   "execution_count": null,
   "id": "28ed2cbd-a3ae-48ff-91fd-2f04f4a22bbd",
   "metadata": {
    "tags": []
   },
   "outputs": [],
   "source": [
    "warnings.filterwarnings(\n",
    "    \"ignore\",\n",
    "    module=\"astropy.time\",\n",
    "    message=\"Numerical value without unit or explicit format passed to TimeDelta, assuming days\",\n",
    ")\n",
    "warnings.filterwarnings(\n",
    "    \"ignore\",\n",
    "    module=\"pandas\",\n",
    "    message=\"In a future version of pandas, a length 1 tuple will be returned when iterating over a groupby with a grouper equal to a list of length 1. Don't supply a list with a single grouper to avoid this warning.\",\n",
    ")\n",
    "warnings.filterwarnings(\n",
    "    \"ignore\",\n",
    "    module=\"healpy\",\n",
    "    message=\"divide by zero encountered in divide\",\n",
    ")\n",
    "warnings.filterwarnings(\n",
    "    \"ignore\",\n",
    "    module=\"healpy\",\n",
    "    message=\"invalid value encountered in multiply\",\n",
    ")\n",
    "warnings.filterwarnings(\n",
    "    \"ignore\",\n",
    "    module=\"holoviews\",\n",
    "    message=\"Discarding nonzero nanoseconds in conversion.\",\n",
    ")\n",
    "warnings.filterwarnings(\n",
    "    \"ignore\",\n",
    "    module=\"rubin_sim\",\n",
    "    message=\"invalid value encountered in arcsin\",\n",
    ")\n",
    "warnings.filterwarnings(\n",
    "    \"ignore\",\n",
    "    module=\"rubin_sim\",\n",
    "    message=\"All-NaN slice encountered\",\n",
    ")\n",
    "warnings.filterwarnings(\n",
    "    \"ignore\",\n",
    "    module=\"rubin_sim.scheduler.utils\",\n",
    "    message=\"invalid value encountered in cast\",\n",
    ")"
   ]
  },
  {
   "cell_type": "markdown",
   "id": "3d001704-da46-4fb3-985c-a54837dffb8d",
   "metadata": {},
   "source": [
    "## Configuration and initial configuration"
   ]
  },
  {
   "cell_type": "markdown",
   "id": "7823d462-e524-4337-9f44-2f9bd0bc34fa",
   "metadata": {},
   "source": [
    "Setting `keep_rewards` to `True` results in a dashboard that includes plots of rewards."
   ]
  },
  {
   "cell_type": "code",
   "execution_count": null,
   "id": "03779a6b-0672-4817-8bcd-045dae9ba24c",
   "metadata": {
    "tags": []
   },
   "outputs": [],
   "source": [
    "keep_rewards = True"
   ]
  },
  {
   "cell_type": "markdown",
   "id": "cac858ec-27da-40b2-8a62-75050a34584e",
   "metadata": {},
   "source": [
    "Set the start date, scheduler, and observatory for the night:"
   ]
  },
  {
   "cell_type": "code",
   "execution_count": null,
   "id": "369f373a-0b7e-45f0-ad83-c0c464d59743",
   "metadata": {
    "tags": []
   },
   "outputs": [],
   "source": [
    "observatory = ModelObservatory()"
   ]
  },
  {
   "cell_type": "markdown",
   "id": "6bf6f1e8-aad2-4400-ad5e-9d2a098319c3",
   "metadata": {},
   "source": [
    "Set `evening_mjd` to the integer calendar MJD of the local calendar day on which sunset falls on the night of interest."
   ]
  },
  {
   "cell_type": "code",
   "execution_count": null,
   "id": "81b0f805-4cf6-4026-9d4c-4c59d3af7067",
   "metadata": {
    "tags": []
   },
   "outputs": [],
   "source": [
    "evening_iso8601 = \"2025-01-01\"\n",
    "\n",
    "night_date = datetime.date.fromisoformat(evening_iso8601)\n",
    "evening_mjd = Time(evening_iso8601).mjd\n",
    "night_date, evening_mjd"
   ]
  },
  {
   "cell_type": "markdown",
   "id": "88c4336c-28f0-4e9d-991d-b0f92229db8f",
   "metadata": {},
   "source": [
    "If we just use this day as the start and make the simulation duration 1 day, the begin and end of the simulation will probably begin in the middle on one night and end in the middle of the next.\n",
    "Instead, find the sunset and sunrise of the night we want using the almanac, and use these to determine our start time and duration."
   ]
  },
  {
   "cell_type": "code",
   "execution_count": null,
   "id": "94a10715-330d-404f-9c2d-b66a4b9caafa",
   "metadata": {
    "tags": []
   },
   "outputs": [],
   "source": [
    "# If the date represents the local calendar date at sunset, we need to shift by the longitude in units of days\n",
    "this_night = (\n",
    "    np.floor(observatory.almanac.sunsets[\"sunset\"] + observatory.site.longitude / 360)\n",
    "    == evening_mjd\n",
    ")\n",
    "\n",
    "mjd_start = observatory.almanac.sunsets[this_night][\"sun_n12_setting\"][0]\n",
    "mjd_end = observatory.almanac.sunsets[this_night][\"sunrise\"][0]\n",
    "\n",
    "night_duration = mjd_end - mjd_start\n",
    "time_start = Time(mjd_start, format=\"mjd\")\n",
    "time_start.iso, night_duration"
   ]
  },
  {
   "cell_type": "code",
   "execution_count": null,
   "id": "f0a93376-0dac-4782-9462-6c41cefc21d0",
   "metadata": {
    "tags": []
   },
   "outputs": [],
   "source": [
    "observatory = ModelObservatory(mjd_start=mjd_start)"
   ]
  },
  {
   "cell_type": "code",
   "execution_count": null,
   "id": "8d6febc7-3b39-4f59-9c2a-bb8d6498ecf4",
   "metadata": {
    "tags": []
   },
   "outputs": [],
   "source": [
    "scheduler = example_scheduler(mjd_start=mjd_start)"
   ]
  },
  {
   "cell_type": "markdown",
   "id": "cfeccfee-22bf-448e-b587-5e15c4a4dd81",
   "metadata": {},
   "source": [
    "Record the date of local day in the evening. "
   ]
  },
  {
   "cell_type": "markdown",
   "id": "da0e327b-50ae-490a-aeb2-6b02c90cc6ea",
   "metadata": {},
   "source": [
    "## Run a simulation and create the app instance"
   ]
  },
  {
   "cell_type": "markdown",
   "id": "d7ed376c-caac-4bb0-af91-702a648ab25f",
   "metadata": {},
   "source": [
    "For this example, simulate starting the default first day of observing:"
   ]
  },
  {
   "cell_type": "code",
   "execution_count": null,
   "id": "1356fb83-51ab-4ccd-9147-134d91db7419",
   "metadata": {
    "tags": []
   },
   "outputs": [],
   "source": [
    "if not keep_rewards:\n",
    "    observatory, scheduler, observations = sim_runner(\n",
    "        observatory, scheduler, mjd_start=mjd_start, survey_length=night_duration\n",
    "    )\n",
    "else:\n",
    "    scheduler.keep_rewards = True\n",
    "    observatory, scheduler, observations, reward_df, obs_rewards = sim_runner(\n",
    "        observatory,\n",
    "        scheduler,\n",
    "        mjd_start=mjd_start,\n",
    "        survey_length=night_duration,\n",
    "        record_rewards=True,\n",
    "    )"
   ]
  },
  {
   "cell_type": "markdown",
   "id": "6eb63645-c4d9-4d0b-86fe-21a9b0320512",
   "metadata": {},
   "source": [
    "## Save the simulation"
   ]
  },
  {
   "cell_type": "code",
   "execution_count": null,
   "id": "a6c2f16b-c54c-41bc-8daa-1f107e1f48a4",
   "metadata": {
    "tags": []
   },
   "outputs": [],
   "source": [
    "data_dir = TemporaryDirectory()"
   ]
  },
  {
   "cell_type": "code",
   "execution_count": null,
   "id": "1840ee54-90e9-44b3-a425-7de490e325bc",
   "metadata": {},
   "outputs": [],
   "source": [
    "with NamedTemporaryFile(prefix=\"opsim-\", suffix=\".db\", dir=data_dir.name) as temp_file:\n",
    "    opsim_output_fname = temp_file.name\n",
    "\n",
    "SchemaConverter().obs2opsim(observations, filename=opsim_output_fname)\n",
    "opsim_output_fname"
   ]
  },
  {
   "cell_type": "code",
   "execution_count": null,
   "id": "2fec714c-ea8c-48b8-b9e9-426889b5e3f6",
   "metadata": {},
   "outputs": [],
   "source": [
    "with NamedTemporaryFile(\n",
    "    prefix=\"scheduler-\", suffix=\".pickle.xz\", dir=data_dir.name\n",
    ") as temp_file:\n",
    "    scheduler_fname = temp_file.name\n",
    "\n",
    "with lzma.open(scheduler_fname, \"wb\", format=lzma.FORMAT_XZ) as pio:\n",
    "    pickle.dump(scheduler, pio)\n",
    "\n",
    "scheduler_fname"
   ]
  },
  {
   "cell_type": "code",
   "execution_count": null,
   "id": "4c8dc1c2-43f1-4195-bdf1-8c0b5d211340",
   "metadata": {},
   "outputs": [],
   "source": [
    "with NamedTemporaryFile(\n",
    "    prefix=\"rewards-\", suffix=\".h5\", dir=data_dir.name\n",
    ") as temp_file:\n",
    "    rewards_fname = temp_file.name\n",
    "\n",
    "reward_df.to_hdf(rewards_fname, \"reward_df\")\n",
    "obs_rewards.to_hdf(rewards_fname, \"obs_rewards\")"
   ]
  },
  {
   "cell_type": "markdown",
   "id": "6a0a04da-a982-4487-9725-6f83fba81b83",
   "metadata": {},
   "source": [
    "If you're host doesn't have a lot of memory, you may need to clean out some memory before trying to start the dashboard."
   ]
  },
  {
   "cell_type": "code",
   "execution_count": null,
   "id": "529560b0-810c-4894-8a79-cd547ca425b7",
   "metadata": {},
   "outputs": [],
   "source": [
    "# del observations\n",
    "del scheduler\n",
    "del reward_df\n",
    "del obs_rewards"
   ]
  },
  {
   "cell_type": "markdown",
   "id": "65cdbd04-9c9f-49dd-b47a-526a0deaeb86",
   "metadata": {},
   "source": [
    "## Make some custom plots"
   ]
  },
  {
   "cell_type": "markdown",
   "id": "f61c805f-cbc5-4e26-b28e-a9c1558a5656",
   "metadata": {},
   "source": [
    "Make some custom plots, trying them out in the notebook before we define a file with which they can be added to the dashboard."
   ]
  },
  {
   "cell_type": "markdown",
   "id": "6de5eab7-4004-4551-b0f5-895cfc27717e",
   "metadata": {},
   "source": [
    "Get the observations in the same form the custom plotter will see them:"
   ]
  },
  {
   "cell_type": "code",
   "execution_count": null,
   "id": "34eff882-ae99-4c8c-a02f-e97ccbb9b7b4",
   "metadata": {
    "tags": []
   },
   "outputs": [],
   "source": [
    "visits = schedview.collect.opsim.read_opsim(opsim_output_fname)"
   ]
  },
  {
   "cell_type": "code",
   "execution_count": null,
   "id": "6b22e706-4b6a-49f3-84a3-09b1acc14b62",
   "metadata": {
    "tags": []
   },
   "outputs": [],
   "source": [
    "hvplot_kwargs_slew = {\n",
    "    \"kind\": \"scatter\",\n",
    "    \"x\": \"slewDistance\",\n",
    "    \"y\": \"slewTime\",\n",
    "    \"ylabel\": \"slew time (seconds)\",\n",
    "    \"xlabel\": \"slew distance (degrees)\",\n",
    "    \"color\": \"visitTime\",\n",
    "    \"size\": \"visitExposureTime\",\n",
    "    \"clabel\": \"visit time (seconds)\",\n",
    "    \"cmap\": \"isolum\",\n",
    "}\n",
    "visits.hvplot(**hvplot_kwargs_slew)"
   ]
  },
  {
   "cell_type": "code",
   "execution_count": null,
   "id": "25c74c0f-9438-4ba6-ba1b-b45f331754a3",
   "metadata": {
    "tags": []
   },
   "outputs": [],
   "source": [
    "hvplot_kwargs_airmass_hist = {\n",
    "    \"kind\": \"hist\",\n",
    "    \"y\": \"airmass\",\n",
    "    \"by\": \"note\",\n",
    "    \"bins\": 15,\n",
    "    \"height\": 512,\n",
    "    \"ylabel\": \"number of visits\",\n",
    "}\n",
    "visits.hvplot(**hvplot_kwargs_airmass_hist)"
   ]
  },
  {
   "cell_type": "markdown",
   "id": "65cd94a7-b6f4-462b-b1c5-753be8306d93",
   "metadata": {},
   "source": [
    "Put these settings into json file that can be read by the dashboard:"
   ]
  },
  {
   "cell_type": "code",
   "execution_count": null,
   "id": "61598f81-a909-47cd-b4df-3e80f89969a0",
   "metadata": {
    "tags": []
   },
   "outputs": [],
   "source": [
    "with NamedTemporaryFile(\n",
    "    prefix=\"custom_prenight_tabs-\", suffix=\".json\", dir=data_dir.name\n",
    ") as temp_file:\n",
    "    custom_tabs_fname = temp_file.name\n",
    "\n",
    "with open(custom_tabs_fname, \"w\") as custom_tabs_file:\n",
    "    custom_json = json.dump(\n",
    "        [\n",
    "            {\"name\": \"Slew Time\", \"settings\": hvplot_kwargs_slew},\n",
    "            {\"name\": \"Airmass histogram\", \"settings\": hvplot_kwargs_airmass_hist},\n",
    "        ],\n",
    "        indent=4,\n",
    "        fp=custom_tabs_file,\n",
    "    )"
   ]
  },
  {
   "cell_type": "markdown",
   "id": "1ea25169-c1e7-43d8-bad1-9fab75582906",
   "metadata": {},
   "source": [
    "Read it back to look at the contents:"
   ]
  },
  {
   "cell_type": "code",
   "execution_count": null,
   "id": "e49a3674-1974-4836-a59c-05eaea5b3783",
   "metadata": {
    "tags": []
   },
   "outputs": [],
   "source": [
    "with open(custom_tabs_fname, \"r\") as custom_tabs_file:\n",
    "    custom_json = custom_tabs_file.read()\n",
    "\n",
    "print(custom_json)"
   ]
  },
  {
   "cell_type": "markdown",
   "id": "0c8c4987-fa33-449a-b7d8-4595874e4621",
   "metadata": {},
   "source": [
    "## Make the dashboard"
   ]
  },
  {
   "cell_type": "markdown",
   "id": "d843b92c-33c1-44b1-9679-c0bc2e9b628d",
   "metadata": {},
   "source": [
    "Including two instances of the scheduler takes too much memory, crashes the kernel. Bummer."
   ]
  },
  {
   "cell_type": "code",
   "execution_count": null,
   "id": "8ab6011b-bb73-42cf-adba-311d144dcbfa",
   "metadata": {
    "tags": []
   },
   "outputs": [],
   "source": [
    "prenight = schedview.app.prenight.Prenight()\n",
    "pn_app = prenight.make_app(\n",
    "    night_date,\n",
    "    opsim_db=opsim_output_fname,\n",
    "    scheduler=scheduler_fname,\n",
    "    rewards=rewards_fname,\n",
    "    custom_hvplot_tab_settings_file=custom_tabs_fname,\n",
    ")"
   ]
  },
  {
   "cell_type": "code",
   "execution_count": null,
   "id": "a9764efa-de7f-4f3e-8730-33680fcbbb29",
   "metadata": {
    "tags": []
   },
   "outputs": [],
   "source": [
    "show_inline = True\n",
    "\n",
    "if show_inline:\n",
    "    out = pn_app\n",
    "else:\n",
    "    out = \"Show with panel button at top of jupyter tab\"\n",
    "\n",
    "out"
   ]
  },
  {
   "cell_type": "markdown",
   "id": "629e19e4-0b3e-4430-b43d-779f8fc7d08f",
   "metadata": {},
   "source": [
    "# Exploring the data, and extracting settings that can be used to specify new plots"
   ]
  },
  {
   "cell_type": "markdown",
   "id": "1a613c56-839c-4e0c-a91b-d8b8aec5cfa4",
   "metadata": {},
   "source": [
    "You can use the `hvplot` explorer tool to investigate the visits table beyond what is in the dashboard:"
   ]
  },
  {
   "cell_type": "raw",
   "id": "73ea70fc-3b1a-4ce5-86c0-89150442983a",
   "metadata": {
    "tags": []
   },
   "source": [
    "import pandas as pd\n",
    "import hvplot\n",
    "import hvplot.pandas\n",
    "from rubin_sim.scheduler.utils import SchemaConverter\n",
    "\n",
    "schema_converter = SchemaConverter()\n",
    "visits = schema_converter.obs2opsim(observations)\n",
    "\n",
    "visits[\"start_date\"] = pd.to_datetime(\n",
    "    visits[\"observationStartMJD\"] + 2400000.5, origin=\"julian\", unit=\"D\", utc=True\n",
    ")"
   ]
  },
  {
   "cell_type": "raw",
   "id": "8518be8b-6aa7-4bc6-ab24-017c691d6c79",
   "metadata": {
    "tags": []
   },
   "source": [
    "ex = hvplot.explorer(visits, kind=\"scatter\", x=\"start_date\", y=\"airmass\", by=[\"note\"])\n",
    "ex"
   ]
  },
  {
   "cell_type": "markdown",
   "id": "b07fcefe-0010-4158-a238-ffc39e3cd2a0",
   "metadata": {},
   "source": [
    "Use the explorer GUI above to get the plot as close as you can to what you want, and get the settings for use in a custom plot json file (as described above) thus:"
   ]
  },
  {
   "cell_type": "raw",
   "id": "faa2a25a-ef4f-4e08-9a8e-6c0e007fcfdc",
   "metadata": {
    "tags": []
   },
   "source": [
    "ex.settings()"
   ]
  },
  {
   "cell_type": "markdown",
   "id": "1e760deb-4a02-4ed5-8672-4b96c65438dc",
   "metadata": {
    "execution": {
     "iopub.execute_input": "2023-08-28T20:52:23.634528Z",
     "iopub.status.busy": "2023-08-28T20:52:23.634388Z",
     "iopub.status.idle": "2023-08-28T20:52:23.636884Z",
     "shell.execute_reply": "2023-08-28T20:52:23.636555Z",
     "shell.execute_reply.started": "2023-08-28T20:52:23.634517Z"
    },
    "tags": []
   },
   "source": [
    "## Creating a custom dashboard with more complex custom plots"
   ]
  },
  {
   "cell_type": "markdown",
   "id": "aa8b3085-2a88-44cc-816e-4a774a31dba3",
   "metadata": {},
   "source": [
    "The intended appreach for adding plots that cannot be achieved through `hvplot` to a dashboard is to:\n",
    "\n",
    "1. Create a python function that returns a plot or other figure that can be displayed by `panel`. This can be anything that panel can put in a pane, including matplotlib plots, bokeh and holoviews plots, png or gif images, or even other panel elements. See [this page in the panel documenation](https://panel.holoviz.org/reference/index.html#panes) for examples.\n",
    "2. Subclass `schedview.app.prenight.prenight.Prenight`, adding a methods to call your new plotting function and return its result, and expand the `schedview.app.prenight.prenight.Prenight.initialize_tab_contents` method to including your new plot."
   ]
  },
  {
   "cell_type": "markdown",
   "id": "cb840da7-7ca0-4066-962d-bdcc98733a7b",
   "metadata": {},
   "source": [
    "For examples and more detailed instructions, start with the `prenight_matplotlib_externsion.ipynb` notebook, and then the `prenight_multielements_extension.ipynb` notebook."
   ]
  },
  {
   "cell_type": "code",
   "execution_count": null,
   "id": "aa2f50d7-c557-4e54-8875-139dd46c0580",
   "metadata": {},
   "outputs": [],
   "source": []
  }
 ],
 "metadata": {
  "kernelspec": {
   "display_name": "schedview",
   "language": "python",
   "name": "schedview"
  },
  "language_info": {
   "codemirror_mode": {
    "name": "ipython",
    "version": 3
   },
   "file_extension": ".py",
   "mimetype": "text/x-python",
   "name": "python",
   "nbconvert_exporter": "python",
   "pygments_lexer": "ipython3",
   "version": "3.11.4"
  }
 },
 "nbformat": 4,
 "nbformat_minor": 5
}
