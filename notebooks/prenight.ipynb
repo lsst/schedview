{
 "cells": [
  {
   "cell_type": "markdown",
   "id": "bd7b7073-27e7-49ea-9e9d-5e50355e6d23",
   "metadata": {},
   "source": [
    "# Running the pre-night briefing dashboard within a notebook"
   ]
  },
  {
   "cell_type": "markdown",
   "id": "5329df4e-4793-47ff-9ad1-55236fd4f10d",
   "metadata": {},
   "source": [
    "## Notebook perparation"
   ]
  },
  {
   "cell_type": "markdown",
   "id": "a9667f16-58e3-40b2-bc35-1a16923bdb08",
   "metadata": {},
   "source": [
    "### Load jupyter extensions"
   ]
  },
  {
   "cell_type": "code",
   "execution_count": null,
   "id": "2385888e-2285-4f86-95c7-d616013e1674",
   "metadata": {
    "tags": []
   },
   "outputs": [],
   "source": [
    "%load_ext lab_black\n",
    "%load_ext autoreload\n",
    "%autoreload 1"
   ]
  },
  {
   "cell_type": "markdown",
   "id": "9868fc2a-49f1-4743-b3c2-11f00239d2ea",
   "metadata": {},
   "source": [
    "### Imports\n",
    "\n",
    "Use `aimport` for `schedview` imports for ease of debugging."
   ]
  },
  {
   "cell_type": "code",
   "execution_count": null,
   "id": "7c2adaf3-7d2c-44cd-8978-036e7b7814b0",
   "metadata": {
    "tags": []
   },
   "outputs": [],
   "source": [
    "import warnings\n",
    "import math\n",
    "import logging\n",
    "from pathlib import Path\n",
    "import panel as pn\n",
    "import numpy as np\n",
    "import pandas as pd\n",
    "import param\n",
    "import bokeh\n",
    "from copy import deepcopy\n",
    "import datetime\n",
    "from pytz import timezone\n",
    "import lzma\n",
    "import pickle\n",
    "from tempfile import TemporaryDirectory, NamedTemporaryFile"
   ]
  },
  {
   "cell_type": "code",
   "execution_count": null,
   "id": "95bf450f-f267-40f6-bf5b-d6d7b755e625",
   "metadata": {
    "tags": []
   },
   "outputs": [],
   "source": [
    "from astropy.time import Time, TimeDelta\n",
    "from zoneinfo import ZoneInfo"
   ]
  },
  {
   "cell_type": "code",
   "execution_count": null,
   "id": "4a8c3442-8881-4c9e-b341-54fa699c7e14",
   "metadata": {
    "tags": []
   },
   "outputs": [],
   "source": [
    "from rubin_sim.scheduler.example import example_scheduler\n",
    "from rubin_sim.scheduler import sim_runner\n",
    "from rubin_sim.scheduler.model_observatory import ModelObservatory\n",
    "from rubin_sim.scheduler.utils import SchemaConverter"
   ]
  },
  {
   "cell_type": "code",
   "execution_count": null,
   "id": "c86fdcf4-e7cb-4636-bee8-cb07f3a4374c",
   "metadata": {
    "tags": []
   },
   "outputs": [],
   "source": [
    "%aimport schedview\n",
    "%aimport schedview.app.prenight\n",
    "%aimport schedview.compute.scheduler"
   ]
  },
  {
   "cell_type": "markdown",
   "id": "95c0762e-051a-48ee-9ae0-1ce429574d43",
   "metadata": {},
   "source": [
    "### Further preparation of the notebook"
   ]
  },
  {
   "cell_type": "code",
   "execution_count": null,
   "id": "1a86b787-1ca5-441d-b42e-a113645b8bee",
   "metadata": {
    "tags": []
   },
   "outputs": [],
   "source": [
    "# pn.extension()\n",
    "pn.extension(\"terminal\")"
   ]
  },
  {
   "cell_type": "markdown",
   "id": "56ccf5c1-9cdc-4fee-bef3-b53f04a17ab0",
   "metadata": {},
   "source": [
    "### Filter warnings\n",
    "\n",
    "Several dependencies throw prodigious instances of (benign) warnings.\n",
    "Suppress them to avoid poluting the executed notebook."
   ]
  },
  {
   "cell_type": "code",
   "execution_count": null,
   "id": "28ed2cbd-a3ae-48ff-91fd-2f04f4a22bbd",
   "metadata": {
    "tags": []
   },
   "outputs": [],
   "source": [
    "warnings.filterwarnings(\n",
    "    \"ignore\",\n",
    "    module=\"astropy.time\",\n",
    "    message=\"Numerical value without unit or explicit format passed to TimeDelta, assuming days\",\n",
    ")\n",
    "warnings.filterwarnings(\n",
    "    \"ignore\",\n",
    "    module=\"pandas\",\n",
    "    message=\"In a future version of pandas, a length 1 tuple will be returned when iterating over a groupby with a grouper equal to a list of length 1. Don't supply a list with a single grouper to avoid this warning.\",\n",
    ")\n",
    "warnings.filterwarnings(\n",
    "    \"ignore\",\n",
    "    module=\"healpy\",\n",
    "    message=\"divide by zero encountered in divide\",\n",
    ")\n",
    "warnings.filterwarnings(\n",
    "    \"ignore\",\n",
    "    module=\"healpy\",\n",
    "    message=\"invalid value encountered in multiply\",\n",
    ")\n",
    "warnings.filterwarnings(\n",
    "    \"ignore\",\n",
    "    module=\"holoviews\",\n",
    "    message=\"Discarding nonzero nanoseconds in conversion.\",\n",
    ")\n",
    "warnings.filterwarnings(\n",
    "    \"ignore\",\n",
    "    module=\"rubin_sim\",\n",
    "    message=\"invalid value encountered in arcsin\",\n",
    ")\n",
    "warnings.filterwarnings(\n",
    "    \"ignore\",\n",
    "    module=\"rubin_sim\",\n",
    "    message=\"All-NaN slice encountered\",\n",
    ")"
   ]
  },
  {
   "cell_type": "markdown",
   "id": "3d001704-da46-4fb3-985c-a54837dffb8d",
   "metadata": {},
   "source": [
    "## Configuration and initial configuration"
   ]
  },
  {
   "cell_type": "markdown",
   "id": "7823d462-e524-4337-9f44-2f9bd0bc34fa",
   "metadata": {},
   "source": [
    "Setting `keep_rewards` to `True` results in a dashboard that includes plots of rewards."
   ]
  },
  {
   "cell_type": "code",
   "execution_count": null,
   "id": "03779a6b-0672-4817-8bcd-045dae9ba24c",
   "metadata": {
    "tags": []
   },
   "outputs": [],
   "source": [
    "keep_rewards = True"
   ]
  },
  {
   "cell_type": "markdown",
   "id": "cac858ec-27da-40b2-8a62-75050a34584e",
   "metadata": {},
   "source": [
    "Set the start date, scheduler, and observatory for the night:"
   ]
  },
  {
   "cell_type": "code",
   "execution_count": null,
   "id": "369f373a-0b7e-45f0-ad83-c0c464d59743",
   "metadata": {
    "tags": []
   },
   "outputs": [],
   "source": [
    "observatory = ModelObservatory()"
   ]
  },
  {
   "cell_type": "markdown",
   "id": "6bf6f1e8-aad2-4400-ad5e-9d2a098319c3",
   "metadata": {},
   "source": [
    "Set `evening_mjd` to the integer calendar MJD of the local calendar day on which sunset falls on the night of interest."
   ]
  },
  {
   "cell_type": "code",
   "execution_count": null,
   "id": "81b0f805-4cf6-4026-9d4c-4c59d3af7067",
   "metadata": {
    "tags": []
   },
   "outputs": [],
   "source": [
    "evening_iso8601 = \"2025-01-01\"\n",
    "\n",
    "night_date = datetime.date.fromisoformat(evening_iso8601)\n",
    "evening_mjd = Time(evening_iso8601).mjd\n",
    "night_date, evening_mjd"
   ]
  },
  {
   "cell_type": "markdown",
   "id": "88c4336c-28f0-4e9d-991d-b0f92229db8f",
   "metadata": {},
   "source": [
    "If we just use this day as the start and make the simulation duration 1 day, the begin and end of the simulation will probably begin in the middle on one night and end in the middle of the next.\n",
    "Instead, find the sunset and sunrise of the night we want using the almanac, and use these to determine our start time and duration."
   ]
  },
  {
   "cell_type": "code",
   "execution_count": null,
   "id": "94a10715-330d-404f-9c2d-b66a4b9caafa",
   "metadata": {
    "tags": []
   },
   "outputs": [],
   "source": [
    "# If the date represents the local calendar date at sunset, we need to shift by the longitude in units of days\n",
    "this_night = (\n",
    "    np.floor(observatory.almanac.sunsets[\"sunset\"] + observatory.site.longitude / 360)\n",
    "    == evening_mjd\n",
    ")\n",
    "\n",
    "mjd_start = observatory.almanac.sunsets[this_night][\"sun_n12_setting\"][0]\n",
    "mjd_end = observatory.almanac.sunsets[this_night][\"sunrise\"][0]\n",
    "\n",
    "night_duration = mjd_end - mjd_start\n",
    "time_start = Time(mjd_start, format=\"mjd\")\n",
    "time_start.iso, night_duration"
   ]
  },
  {
   "cell_type": "code",
   "execution_count": null,
   "id": "f0a93376-0dac-4782-9462-6c41cefc21d0",
   "metadata": {
    "tags": []
   },
   "outputs": [],
   "source": [
    "observatory = ModelObservatory(mjd_start=mjd_start)"
   ]
  },
  {
   "cell_type": "code",
   "execution_count": null,
   "id": "8d6febc7-3b39-4f59-9c2a-bb8d6498ecf4",
   "metadata": {
    "tags": []
   },
   "outputs": [],
   "source": [
    "scheduler = example_scheduler(mjd_start=mjd_start)"
   ]
  },
  {
   "cell_type": "markdown",
   "id": "cfeccfee-22bf-448e-b587-5e15c4a4dd81",
   "metadata": {},
   "source": [
    "Record the date of local day in the evening. "
   ]
  },
  {
   "cell_type": "markdown",
   "id": "da0e327b-50ae-490a-aeb2-6b02c90cc6ea",
   "metadata": {},
   "source": [
    "## Run a simulation and create the app instance"
   ]
  },
  {
   "cell_type": "markdown",
   "id": "d7ed376c-caac-4bb0-af91-702a648ab25f",
   "metadata": {},
   "source": [
    "For this example, simulate starting the default first day of observing:"
   ]
  },
  {
   "cell_type": "code",
   "execution_count": null,
   "id": "1356fb83-51ab-4ccd-9147-134d91db7419",
   "metadata": {
    "tags": []
   },
   "outputs": [],
   "source": [
    "if not keep_rewards:\n",
    "    observatory, scheduler, observations = sim_runner(\n",
    "        observatory, scheduler, mjd_start=mjd_start, survey_length=night_duration\n",
    "    )\n",
    "else:\n",
    "    scheduler.keep_rewards = True\n",
    "    observatory, scheduler, observations, reward_df, obs_rewards = sim_runner(\n",
    "        observatory,\n",
    "        scheduler,\n",
    "        mjd_start=mjd_start,\n",
    "        survey_length=night_duration,\n",
    "        record_rewards=True,\n",
    "    )"
   ]
  },
  {
   "cell_type": "markdown",
   "id": "6eb63645-c4d9-4d0b-86fe-21a9b0320512",
   "metadata": {},
   "source": [
    "## Save the simulation"
   ]
  },
  {
   "cell_type": "code",
   "execution_count": null,
   "id": "a6c2f16b-c54c-41bc-8daa-1f107e1f48a4",
   "metadata": {
    "tags": []
   },
   "outputs": [],
   "source": [
    "data_dir = TemporaryDirectory()"
   ]
  },
  {
   "cell_type": "code",
   "execution_count": null,
   "id": "1840ee54-90e9-44b3-a425-7de490e325bc",
   "metadata": {},
   "outputs": [],
   "source": [
    "with NamedTemporaryFile(prefix=\"opsim-\", suffix=\".db\", dir=data_dir.name) as temp_file:\n",
    "    opsim_output_fname = temp_file.name\n",
    "\n",
    "SchemaConverter().obs2opsim(observations, filename=opsim_output_fname)\n",
    "opsim_output_fname"
   ]
  },
  {
   "cell_type": "code",
   "execution_count": null,
   "id": "2fec714c-ea8c-48b8-b9e9-426889b5e3f6",
   "metadata": {},
   "outputs": [],
   "source": [
    "with NamedTemporaryFile(\n",
    "    prefix=\"scheduler-\", suffix=\".pickle.xz\", dir=data_dir.name\n",
    ") as temp_file:\n",
    "    scheduler_fname = temp_file.name\n",
    "\n",
    "with lzma.open(scheduler_fname, \"wb\", format=lzma.FORMAT_XZ) as pio:\n",
    "    pickle.dump(scheduler, pio)\n",
    "\n",
    "scheduler_fname"
   ]
  },
  {
   "cell_type": "code",
   "execution_count": null,
   "id": "4c8dc1c2-43f1-4195-bdf1-8c0b5d211340",
   "metadata": {},
   "outputs": [],
   "source": [
    "with NamedTemporaryFile(\n",
    "    prefix=\"rewards-\", suffix=\".h5\", dir=data_dir.name\n",
    ") as temp_file:\n",
    "    rewards_fname = temp_file.name\n",
    "\n",
    "reward_df.to_hdf(rewards_fname, \"reward_df\")\n",
    "obs_rewards.to_hdf(rewards_fname, \"obs_rewards\")"
   ]
  },
  {
   "cell_type": "markdown",
   "id": "6a0a04da-a982-4487-9725-6f83fba81b83",
   "metadata": {},
   "source": [
    "If you're host doesn't have a lot of memory, you may need to clean out some memory before trying to start the dashboard."
   ]
  },
  {
   "cell_type": "code",
   "execution_count": null,
   "id": "529560b0-810c-4894-8a79-cd547ca425b7",
   "metadata": {},
   "outputs": [],
   "source": [
    "# del observations\n",
    "del scheduler\n",
    "del reward_df\n",
    "del obs_rewards"
   ]
  },
  {
   "cell_type": "markdown",
   "id": "0c8c4987-fa33-449a-b7d8-4595874e4621",
   "metadata": {},
   "source": [
    "## Make the dashboard"
   ]
  },
  {
   "cell_type": "markdown",
   "id": "d843b92c-33c1-44b1-9679-c0bc2e9b628d",
   "metadata": {},
   "source": [
    "Including two instances of the scheduler takes too much memory, crashes the kernel. Bummer."
   ]
  },
  {
   "cell_type": "code",
   "execution_count": null,
   "id": "12d50d47-869b-4b5e-89bf-1d0e6aabe0b6",
   "metadata": {
    "tags": []
   },
   "outputs": [],
   "source": [
    "pn_app = schedview.app.prenight.prenight_app(\n",
    "    night_date,\n",
    "    observations=opsim_output_fname,\n",
    "    scheduler=scheduler_fname,\n",
    "    rewards=rewards_fname,\n",
    ")"
   ]
  },
  {
   "cell_type": "code",
   "execution_count": null,
   "id": "2b0b3358-221a-49c8-b0c1-4ab0c2293feb",
   "metadata": {
    "tags": []
   },
   "outputs": [],
   "source": [
    "if False:\n",
    "    out = \"Show with panel button at top of jupyter tab\"\n",
    "else:\n",
    "    out = pn_app\n",
    "\n",
    "out"
   ]
  },
  {
   "cell_type": "code",
   "execution_count": null,
   "id": "b218a897-ea5c-4828-9a74-ae4eb7af74db",
   "metadata": {},
   "outputs": [],
   "source": [
    "assert False"
   ]
  },
  {
   "cell_type": "markdown",
   "id": "629e19e4-0b3e-4430-b43d-779f8fc7d08f",
   "metadata": {},
   "source": [
    "# Adjusting plot parameters beyond what the explore interface does"
   ]
  },
  {
   "cell_type": "markdown",
   "id": "491a5f5a-0934-4fce-b499-226d648ace01",
   "metadata": {},
   "source": [
    "Build an independent explorer.\n",
    "\n",
    "In future, the pre-night briefing app code will provide direct access to the instance of the explorer displayed (see PREOPS-3412).\n",
    "\n",
    "For the time being, you can reproduce the explorer independently, and customize it from there:"
   ]
  },
  {
   "cell_type": "markdown",
   "id": "1a613c56-839c-4e0c-a91b-d8b8aec5cfa4",
   "metadata": {},
   "source": [
    "Start by getting the data set used by the explorer:"
   ]
  },
  {
   "cell_type": "code",
   "execution_count": null,
   "id": "ed7ce71b-0318-4336-9203-9bb948572457",
   "metadata": {
    "tags": []
   },
   "outputs": [],
   "source": [
    "import pandas as pd\n",
    "import hvplot\n",
    "import hvplot.pandas\n",
    "from rubin_sim.scheduler.utils import SchemaConverter\n",
    "\n",
    "schema_converter = SchemaConverter()\n",
    "visits = schema_converter.obs2opsim(observations)\n",
    "\n",
    "visits[\"start_date\"] = pd.to_datetime(\n",
    "    visits[\"observationStartMJD\"] + 2400000.5, origin=\"julian\", unit=\"D\", utc=True\n",
    ")\n",
    "visits.describe().T"
   ]
  },
  {
   "cell_type": "code",
   "execution_count": null,
   "id": "d07834c1-3161-4343-8701-e5fe9da0029f",
   "metadata": {
    "tags": []
   },
   "outputs": [],
   "source": [
    "ex = hvplot.explorer(visits, kind=\"scatter\", x=\"start_date\", y=\"airmass\", by=[\"note\"])\n",
    "ex"
   ]
  },
  {
   "cell_type": "markdown",
   "id": "b07fcefe-0010-4158-a238-ffc39e3cd2a0",
   "metadata": {},
   "source": [
    "Use the explorer GUI above to get the plot as close as you can to what you want, then use the cell below to capture the python needed to generate that plot, and make further adjustments as necessary."
   ]
  },
  {
   "cell_type": "code",
   "execution_count": null,
   "id": "3d764e36-772b-429a-a422-29fb63ed2e6f",
   "metadata": {
    "tags": []
   },
   "outputs": [],
   "source": [
    "ex.plot_code()"
   ]
  },
  {
   "cell_type": "code",
   "execution_count": null,
   "id": "655c3da7-6307-47b4-a1d2-984722bb54be",
   "metadata": {
    "tags": []
   },
   "outputs": [],
   "source": [
    "visits.hvplot(\n",
    "    by=[\"note\"],\n",
    "    kind=\"scatter\",\n",
    "    x=\"start_date\",\n",
    "    ylim=(3, 1),\n",
    "    y=[\"airmass\"],\n",
    ")"
   ]
  },
  {
   "cell_type": "code",
   "execution_count": null,
   "id": "bad03ab6-f07e-4194-a980-dcacdf6a898a",
   "metadata": {},
   "outputs": [],
   "source": []
  }
 ],
 "metadata": {
  "kernelspec": {
   "display_name": "schedview",
   "language": "python",
   "name": "schedview"
  },
  "language_info": {
   "codemirror_mode": {
    "name": "ipython",
    "version": 3
   },
   "file_extension": ".py",
   "mimetype": "text/x-python",
   "name": "python",
   "nbconvert_exporter": "python",
   "pygments_lexer": "ipython3",
   "version": "3.11.4"
  }
 },
 "nbformat": 4,
 "nbformat_minor": 5
}
