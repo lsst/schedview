{
 "cells": [
  {
   "cell_type": "code",
   "execution_count": null,
   "id": "c2a72e18-33d6-4aa7-9c0f-6becfdc98860",
   "metadata": {
    "tags": []
   },
   "outputs": [],
   "source": [
    "# %load_ext lab_black\n",
    "%load_ext autoreload\n",
    "%autoreload 1"
   ]
  },
  {
   "cell_type": "markdown",
   "id": "9c840f8b-2e01-42f5-91c4-31357f14e515",
   "metadata": {},
   "source": [
    "### Imports\n",
    "\n",
    "Use `aimport` for `schedview` imports for ease of debugging."
   ]
  },
  {
   "cell_type": "code",
   "execution_count": null,
   "id": "9616a73e-01d5-4e6a-9205-11aaf75e5390",
   "metadata": {
    "tags": []
   },
   "outputs": [],
   "source": [
    "import warnings\n",
    "import math\n",
    "import os\n",
    "import sys\n",
    "import logging\n",
    "from pathlib import Path\n",
    "import panel as pn\n",
    "import numpy as np\n",
    "import pandas as pd\n",
    "import param\n",
    "import bokeh\n",
    "from copy import deepcopy\n",
    "import datetime\n",
    "from pytz import timezone\n",
    "import lzma\n",
    "import pickle\n",
    "import yaml\n",
    "import json\n",
    "import socket\n",
    "import time\n",
    "from contextlib import redirect_stdout\n",
    "from pathlib import Path\n",
    "from collections import OrderedDict\n",
    "from tempfile import TemporaryDirectory, NamedTemporaryFile\n",
    "import hashlib\n",
    "\n",
    "import sys\n",
    "from conda.exceptions import EnvironmentLocationNotFound\n",
    "from conda.gateways.disk.test import is_conda_environment\n",
    "from conda.cli.main_list import print_explicit, list_packages"
   ]
  },
  {
   "cell_type": "code",
   "execution_count": null,
   "id": "2486d2e9-b9a7-4842-bcf6-24e42596ad67",
   "metadata": {
    "tags": []
   },
   "outputs": [],
   "source": [
    "from astropy.time import Time, TimeDelta\n",
    "from zoneinfo import ZoneInfo\n",
    "import matplotlib as mpl\n",
    "import matplotlib.pyplot as plt\n",
    "import hvplot.pandas"
   ]
  },
  {
   "cell_type": "code",
   "execution_count": null,
   "id": "3c2996af-34dd-461f-a352-e33a30aa1e9e",
   "metadata": {},
   "outputs": [],
   "source": [
    "import lsst.resources"
   ]
  },
  {
   "cell_type": "code",
   "execution_count": null,
   "id": "c83e3257-40bf-4d14-8375-cacc8cedbcba",
   "metadata": {
    "tags": []
   },
   "outputs": [],
   "source": [
    "import rubin_scheduler\n",
    "from rubin_scheduler.scheduler.example import example_scheduler\n",
    "from rubin_scheduler.scheduler import sim_runner\n",
    "from rubin_scheduler.scheduler.model_observatory import ModelObservatory\n",
    "from rubin_scheduler.scheduler.utils import SchemaConverter"
   ]
  },
  {
   "cell_type": "code",
   "execution_count": null,
   "id": "76e8c207-4673-41f6-ab64-086cfc4d8a96",
   "metadata": {
    "tags": []
   },
   "outputs": [],
   "source": [
    "import schedview\n",
    "import schedview.app.prenight\n",
    "import schedview.compute.scheduler\n",
    "import schedview.collect.opsim\n",
    "from schedview.plot.visitmap import BAND_COLORS"
   ]
  },
  {
   "cell_type": "markdown",
   "id": "222a6d81-563f-4e33-9a40-fc5d3bc47968",
   "metadata": {},
   "source": [
    "### Further preparation of the notebook"
   ]
  },
  {
   "cell_type": "code",
   "execution_count": null,
   "id": "55637881-b52d-4333-85ff-b325fbc80c3d",
   "metadata": {
    "tags": []
   },
   "outputs": [],
   "source": [
    "pn.extension(\"terminal\")"
   ]
  },
  {
   "cell_type": "markdown",
   "id": "d97d5079-af2d-4707-a00f-2b9826524881",
   "metadata": {},
   "source": [
    "### Filter warnings\n",
    "\n",
    "Several dependencies throw prodigious instances of (benign) warnings.\n",
    "Suppress them to avoid poluting the executed notebook."
   ]
  },
  {
   "cell_type": "code",
   "execution_count": null,
   "id": "c07dcb73-9ce9-413e-a9a2-c38512806410",
   "metadata": {
    "tags": []
   },
   "outputs": [],
   "source": [
    "warnings.filterwarnings(\n",
    "    \"ignore\",\n",
    "    module=\"astropy.time\",\n",
    "    message=\"Numerical value without unit or explicit format passed to TimeDelta, assuming days\",\n",
    ")\n",
    "warnings.filterwarnings(\n",
    "    \"ignore\",\n",
    "    module=\"pandas\",\n",
    "    message=\"In a future version of pandas, a length 1 tuple will be returned when iterating over a groupby with a grouper equal to a list of length 1. Don't supply a list with a single grouper to avoid this warning.\",\n",
    ")\n",
    "warnings.filterwarnings(\n",
    "    \"ignore\",\n",
    "    module=\"healpy\",\n",
    "    message=\"divide by zero encountered in divide\",\n",
    ")\n",
    "warnings.filterwarnings(\n",
    "    \"ignore\",\n",
    "    module=\"healpy\",\n",
    "    message=\"invalid value encountered in multiply\",\n",
    ")\n",
    "warnings.filterwarnings(\n",
    "    \"ignore\",\n",
    "    module=\"holoviews\",\n",
    "    message=\"Discarding nonzero nanoseconds in conversion.\",\n",
    ")\n",
    "warnings.filterwarnings(\n",
    "    \"ignore\",\n",
    "    module=\"rubin_sim\",\n",
    "    message=\"invalid value encountered in arcsin\",\n",
    ")\n",
    "warnings.filterwarnings(\n",
    "    \"ignore\",\n",
    "    module=\"rubin_sim\",\n",
    "    message=\"All-NaN slice encountered\",\n",
    ")\n",
    "warnings.filterwarnings(\n",
    "    \"ignore\",\n",
    "    module=\"rubin_sim.scheduler.utils\",\n",
    "    message=\"invalid value encountered in cast\",\n",
    ")\n",
    "warnings.filterwarnings(\n",
    "    \"ignore\",\n",
    "    module=\"rubin_scheduler.scheduler.utils\",\n",
    "    message=\"invalid value encountered in cast\",\n",
    ")"
   ]
  },
  {
   "cell_type": "markdown",
   "id": "77dd3fc1-a84f-4d9c-8fad-5b91f3da4852",
   "metadata": {},
   "source": [
    "## Configuration and initial configuration"
   ]
  },
  {
   "cell_type": "markdown",
   "id": "058c606c-2d15-4503-9514-0feaab312b15",
   "metadata": {},
   "source": [
    "Setting `keep_rewards` to `True` results in a dashboard that includes plots of rewards."
   ]
  },
  {
   "cell_type": "code",
   "execution_count": null,
   "id": "41ddf2e8-acb9-4af3-ba53-c88f92948313",
   "metadata": {
    "tags": []
   },
   "outputs": [],
   "source": [
    "keep_rewards = True"
   ]
  },
  {
   "cell_type": "markdown",
   "id": "06b166b5-bf0a-4b65-b7e9-18b7f85f424d",
   "metadata": {},
   "source": [
    "Set the start date, scheduler, and observatory for the night:"
   ]
  },
  {
   "cell_type": "code",
   "execution_count": null,
   "id": "8a4bf644-3b54-4a25-ab47-a383018b5116",
   "metadata": {
    "tags": []
   },
   "outputs": [],
   "source": [
    "observatory = ModelObservatory()"
   ]
  },
  {
   "cell_type": "markdown",
   "id": "db1e633d-45b9-4115-828e-c684c4670be2",
   "metadata": {},
   "source": [
    "Set `evening_mjd` to the integer calendar MJD of the local calendar day on which sunset falls on the night of interest."
   ]
  },
  {
   "cell_type": "code",
   "execution_count": null,
   "id": "f236eab9-0f4d-4214-a168-00396e327787",
   "metadata": {
    "tags": []
   },
   "outputs": [],
   "source": [
    "evening_iso8601 = \"2025-01-01\"\n",
    "\n",
    "night_date = datetime.date.fromisoformat(evening_iso8601)\n",
    "evening_mjd = Time(evening_iso8601).mjd\n",
    "night_date, evening_mjd"
   ]
  },
  {
   "cell_type": "markdown",
   "id": "b9db752d-2ff5-4066-96d6-f211722cdb3b",
   "metadata": {},
   "source": [
    "If we just use this day as the start and make the simulation duration 1 day, the begin and end of the simulation will probably begin in the middle on one night and end in the middle of the next.\n",
    "Instead, find the sunset and sunrise of the night we want using the almanac, and use these to determine our start time and duration."
   ]
  },
  {
   "cell_type": "code",
   "execution_count": null,
   "id": "b4d75580-a647-49b4-9d16-a511739fd544",
   "metadata": {
    "tags": []
   },
   "outputs": [],
   "source": [
    "# If the date represents the local calendar date at sunset, we need to shift by the longitude in units of days\n",
    "this_night = (\n",
    "    np.floor(observatory.almanac.sunsets[\"sunset\"] + observatory.site.longitude / 360)\n",
    "    == evening_mjd\n",
    ")\n",
    "\n",
    "mjd_start = observatory.almanac.sunsets[this_night][\"sun_n12_setting\"][0]\n",
    "mjd_end = observatory.almanac.sunsets[this_night][\"sunrise\"][0]\n",
    "\n",
    "night_duration = mjd_end - mjd_start\n",
    "time_start = Time(mjd_start, format=\"mjd\")\n",
    "time_start.iso, night_duration"
   ]
  },
  {
   "cell_type": "code",
   "execution_count": null,
   "id": "283efe8e-7f9c-4978-af19-803416bb2423",
   "metadata": {
    "tags": []
   },
   "outputs": [],
   "source": [
    "observatory = ModelObservatory(mjd_start=mjd_start)"
   ]
  },
  {
   "cell_type": "code",
   "execution_count": null,
   "id": "605f0e05-8971-4e1e-8107-511ac043d3a6",
   "metadata": {
    "tags": []
   },
   "outputs": [],
   "source": [
    "scheduler = example_scheduler(mjd_start=mjd_start)"
   ]
  },
  {
   "cell_type": "markdown",
   "id": "4f9f442c-eebf-4f30-a351-26eb97b6219b",
   "metadata": {},
   "source": [
    "Record the date of local day in the evening. "
   ]
  },
  {
   "cell_type": "markdown",
   "id": "0e8a7e94-3f0d-4d22-9cd5-0aed606d82bc",
   "metadata": {},
   "source": [
    "## Prepare the output dir"
   ]
  },
  {
   "cell_type": "code",
   "execution_count": null,
   "id": "da8ed107-998c-4ccc-be46-e6ab2f493be5",
   "metadata": {},
   "outputs": [],
   "source": [
    "data_dir = TemporaryDirectory()\n",
    "data_path = Path(data_dir.name)"
   ]
  },
  {
   "cell_type": "markdown",
   "id": "19385714-dcd2-40cf-93b1-1216236ced54",
   "metadata": {},
   "source": [
    "## Save the starting scheduler"
   ]
  },
  {
   "cell_type": "code",
   "execution_count": null,
   "id": "f4cd071b-9e48-49c2-91d9-132c1d466e54",
   "metadata": {},
   "outputs": [],
   "source": [
    "scheduler_fname = data_path.joinpath('scheduler.pickle.xz')\n",
    "\n",
    "with lzma.open(scheduler_fname, \"wb\", format=lzma.FORMAT_XZ) as pio:\n",
    "    pickle.dump(scheduler, pio)"
   ]
  },
  {
   "cell_type": "markdown",
   "id": "2935fdd2-5590-467d-b7fc-7767c9ed5a67",
   "metadata": {},
   "source": [
    "## Run a simulation and create the app instance"
   ]
  },
  {
   "cell_type": "markdown",
   "id": "15b9651b-1607-4eb8-9b97-74cd36869f0f",
   "metadata": {},
   "source": [
    "For this example, simulate starting the default first day of observing:"
   ]
  },
  {
   "cell_type": "code",
   "execution_count": null,
   "id": "15830eff-abd4-41ae-b078-bd40050d7c7d",
   "metadata": {
    "tags": []
   },
   "outputs": [],
   "source": [
    "exec_start_time = Time.now()\n",
    "if not keep_rewards:\n",
    "    observatory, scheduler, observations = sim_runner(\n",
    "        observatory, scheduler, mjd_start=mjd_start, survey_length=night_duration\n",
    "    )\n",
    "else:\n",
    "    scheduler.keep_rewards = True\n",
    "    observatory, scheduler, observations, reward_df, obs_rewards = sim_runner(\n",
    "        observatory,\n",
    "        scheduler,\n",
    "        mjd_start=mjd_start,\n",
    "        survey_length=night_duration,\n",
    "        record_rewards=True,\n",
    "    )"
   ]
  },
  {
   "cell_type": "markdown",
   "id": "b91e97ef-21f8-45c2-a23f-8854c7cd771c",
   "metadata": {},
   "source": [
    "## Stats"
   ]
  },
  {
   "cell_type": "code",
   "execution_count": null,
   "id": "4ef1e2b2-cc07-4ed5-b091-a3f75823eea3",
   "metadata": {},
   "outputs": [],
   "source": [
    "obs = pd.DataFrame(observations)\n",
    "obs.describe().T"
   ]
  },
  {
   "cell_type": "markdown",
   "id": "f177e332-ed33-4b3f-bf47-5849d8d45803",
   "metadata": {},
   "source": [
    "## Save the simulation"
   ]
  },
  {
   "cell_type": "code",
   "execution_count": null,
   "id": "4d8f6b03-fcf5-4522-b130-469a652d9303",
   "metadata": {},
   "outputs": [],
   "source": [
    "opsim_output_fname = data_path.joinpath('opsim.db')\n",
    "\n",
    "SchemaConverter().obs2opsim(observations, filename=opsim_output_fname)\n",
    "opsim_output_fname"
   ]
  },
  {
   "cell_type": "markdown",
   "id": "fde4d62e-9a7e-4e4f-ad88-fa0cb65106cd",
   "metadata": {},
   "source": [
    "## Save the rewards"
   ]
  },
  {
   "cell_type": "code",
   "execution_count": null,
   "id": "866b5bcc-17dc-4f8d-82d6-da22a27254e4",
   "metadata": {},
   "outputs": [],
   "source": [
    "rewards_fname = data_path.joinpath('rewards.h5')\n",
    "reward_df.to_hdf(rewards_fname, \"reward_df\")\n",
    "obs_rewards.to_hdf(rewards_fname, \"obs_rewards\")"
   ]
  },
  {
   "cell_type": "markdown",
   "id": "a40f5836-a97e-4d3d-956b-85546b672026",
   "metadata": {
    "execution": {
     "iopub.execute_input": "2023-12-15T20:51:23.549229Z",
     "iopub.status.busy": "2023-12-15T20:51:23.549014Z",
     "iopub.status.idle": "2023-12-15T20:51:23.552183Z",
     "shell.execute_reply": "2023-12-15T20:51:23.551773Z",
     "shell.execute_reply.started": "2023-12-15T20:51:23.549213Z"
    }
   },
   "source": [
    "## Save the stats"
   ]
  },
  {
   "cell_type": "code",
   "execution_count": null,
   "id": "2e813a6c-8a9e-4671-b784-b37e3b3e3065",
   "metadata": {},
   "outputs": [],
   "source": [
    "stats_fname = data_path.joinpath('obs_stats.txt')\n",
    "with open(stats_fname, 'w') as stats_io:\n",
    "    print(SchemaConverter().obs2opsim(observations).describe().T.to_csv(sep='\\t'), file=stats_io)"
   ]
  },
  {
   "cell_type": "markdown",
   "id": "5689f570-d36d-4bca-9a77-2c610a4b3bde",
   "metadata": {
    "execution": {
     "iopub.execute_input": "2023-12-15T20:51:37.321181Z",
     "iopub.status.busy": "2023-12-15T20:51:37.320911Z",
     "iopub.status.idle": "2023-12-15T20:51:37.323806Z",
     "shell.execute_reply": "2023-12-15T20:51:37.323445Z",
     "shell.execute_reply.started": "2023-12-15T20:51:37.321168Z"
    }
   },
   "source": [
    "## Save the notebook"
   ]
  },
  {
   "cell_type": "code",
   "execution_count": null,
   "id": "7fe627c8-0bd7-40e5-a079-7d82f9479bfe",
   "metadata": {},
   "outputs": [],
   "source": [
    "notebook_fname = data_path.joinpath('notebook.ipynb').as_posix()"
   ]
  },
  {
   "cell_type": "code",
   "execution_count": null,
   "id": "a3bce129-c4f9-481a-abb2-f66d5a095581",
   "metadata": {},
   "outputs": [],
   "source": [
    "%notebook $notebook_fname"
   ]
  },
  {
   "cell_type": "markdown",
   "id": "1335309b-1410-4d95-94fd-268ea98712df",
   "metadata": {},
   "source": [
    "## Save the conda environment"
   ]
  },
  {
   "cell_type": "code",
   "execution_count": null,
   "id": "02e6036b-07ba-4525-83e8-9b924bd2c4db",
   "metadata": {},
   "outputs": [],
   "source": [
    "conda_prefix = Path(sys.executable).parent.parent.as_posix()\n",
    "if not is_conda_environment(conda_prefix):\n",
    "    raise EnvironmentLocationNotFound(conda_prefix)\n",
    "\n",
    "environment_fname = data_path.joinpath('environment.txt').as_posix()"
   ]
  },
  {
   "cell_type": "code",
   "execution_count": null,
   "id": "23d091da-74ac-40e5-a58b-c92ee71c2d84",
   "metadata": {},
   "outputs": [],
   "source": [
    "environment_fname"
   ]
  },
  {
   "cell_type": "code",
   "execution_count": null,
   "id": "8096e77f-f8f8-406e-a222-13a0ea5c8825",
   "metadata": {},
   "outputs": [],
   "source": [
    "!conda list --export -p $conda_prefix > $environment_fname"
   ]
  },
  {
   "cell_type": "markdown",
   "id": "a23b1b50-cee4-4add-89a1-e380b144add7",
   "metadata": {},
   "source": [
    "## Save the metadata"
   ]
  },
  {
   "cell_type": "code",
   "execution_count": null,
   "id": "ffee8ec6-3273-4bd2-a2f3-854d3d3ca822",
   "metadata": {},
   "outputs": [],
   "source": [
    "def evening_local_date(mjd, longitude=observatory.site.longitude):\n",
    "    evening_local_mjd = np.floor(mjd + longitude/360 - 0.5).astype(int)\n",
    "    evening_local_iso = Time(evening_local_mjd, format='mjd').iso[:10]\n",
    "    return evening_local_iso\n",
    "    "
   ]
  },
  {
   "cell_type": "code",
   "execution_count": null,
   "id": "0cb61f57-9ee8-4d01-abb6-32e295c4682b",
   "metadata": {},
   "outputs": [],
   "source": [
    "opsim_metadata = {}\n",
    "opsim_metadata['scheduler_version'] = rubin_scheduler.__version__\n",
    "opsim_metadata['host'] = socket.getfqdn()\n",
    "opsim_metadata['username'] = os.environ['USER']\n",
    "opsim_metadata['simulated_dates'] = {}\n",
    "opsim_metadata['simulated_dates']['start'] = evening_local_date(mjd_start)\n",
    "opsim_metadata['simulated_dates']['end'] = evening_local_date(mjd_start + night_duration)\n",
    "\n",
    "sim_metadata_fname = data_path.joinpath('sim_metadata.txt')\n",
    "with open(sim_metadata_fname, 'w') as sim_metadata_io:\n",
    "    print(yaml.dump(opsim_metadata, indent=4), file=sim_metadata_io)"
   ]
  },
  {
   "cell_type": "code",
   "execution_count": null,
   "id": "dfadabd0-e8a6-42ae-ac13-a982600ea717",
   "metadata": {},
   "outputs": [],
   "source": [
    "!cat $sim_metadata_fname"
   ]
  },
  {
   "cell_type": "code",
   "execution_count": null,
   "id": "336a7132-df40-4fc1-aede-c5e4857d7f32",
   "metadata": {},
   "outputs": [],
   "source": [
    "!ls -alth $data_path"
   ]
  },
  {
   "cell_type": "code",
   "execution_count": null,
   "id": "41e3e601-eb9c-48c3-b149-65af3704c561",
   "metadata": {},
   "outputs": [],
   "source": []
  }
 ],
 "metadata": {
  "kernelspec": {
   "display_name": "ehn311",
   "language": "python",
   "name": "ehn311"
  },
  "language_info": {
   "codemirror_mode": {
    "name": "ipython",
    "version": 3
   },
   "file_extension": ".py",
   "mimetype": "text/x-python",
   "name": "python",
   "nbconvert_exporter": "python",
   "pygments_lexer": "ipython3",
   "version": "3.11.6"
  }
 },
 "nbformat": 4,
 "nbformat_minor": 5
}
