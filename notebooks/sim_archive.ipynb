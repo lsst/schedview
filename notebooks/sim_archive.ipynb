{
 "cells": [
  {
   "cell_type": "code",
   "execution_count": null,
   "id": "c2a72e18-33d6-4aa7-9c0f-6becfdc98860",
   "metadata": {
    "tags": []
   },
   "outputs": [],
   "source": [
    "# %load_ext lab_black\n",
    "%load_ext autoreload\n",
    "%autoreload 1"
   ]
  },
  {
   "cell_type": "markdown",
   "id": "9c840f8b-2e01-42f5-91c4-31357f14e515",
   "metadata": {},
   "source": [
    "### Imports\n",
    "\n",
    "Use `aimport` for `schedview` imports for ease of debugging."
   ]
  },
  {
   "cell_type": "code",
   "execution_count": null,
   "id": "9616a73e-01d5-4e6a-9205-11aaf75e5390",
   "metadata": {
    "tags": []
   },
   "outputs": [],
   "source": [
    "import warnings\n",
    "import math\n",
    "import os\n",
    "import sys\n",
    "import logging\n",
    "from pathlib import Path\n",
    "import panel as pn\n",
    "import numpy as np\n",
    "import pandas as pd\n",
    "import param\n",
    "import bokeh\n",
    "from copy import deepcopy\n",
    "import datetime\n",
    "from pytz import timezone\n",
    "import lzma\n",
    "import pickle\n",
    "import yaml\n",
    "import json\n",
    "import socket\n",
    "import time\n",
    "from contextlib import redirect_stdout\n",
    "from pathlib import Path\n",
    "from collections import OrderedDict\n",
    "from tempfile import TemporaryDirectory, NamedTemporaryFile\n",
    "import hashlib\n",
    "import shutil\n",
    "\n",
    "import sys\n",
    "from conda.exceptions import EnvironmentLocationNotFound\n",
    "from conda.gateways.disk.test import is_conda_environment\n",
    "from conda.cli.main_list import print_explicit, list_packages"
   ]
  },
  {
   "cell_type": "code",
   "execution_count": null,
   "id": "2486d2e9-b9a7-4842-bcf6-24e42596ad67",
   "metadata": {
    "tags": []
   },
   "outputs": [],
   "source": [
    "from astropy.time import Time, TimeDelta\n",
    "from zoneinfo import ZoneInfo\n",
    "import matplotlib as mpl\n",
    "import matplotlib.pyplot as plt\n",
    "import hvplot.pandas"
   ]
  },
  {
   "cell_type": "code",
   "execution_count": null,
   "id": "3c2996af-34dd-461f-a352-e33a30aa1e9e",
   "metadata": {},
   "outputs": [],
   "source": [
    "import lsst.resources"
   ]
  },
  {
   "cell_type": "code",
   "execution_count": null,
   "id": "c83e3257-40bf-4d14-8375-cacc8cedbcba",
   "metadata": {
    "tags": []
   },
   "outputs": [],
   "source": [
    "import rubin_scheduler\n",
    "from rubin_scheduler.scheduler.example import example_scheduler\n",
    "from rubin_scheduler.scheduler import sim_runner\n",
    "from rubin_scheduler.scheduler.model_observatory import ModelObservatory\n",
    "from rubin_scheduler.scheduler.utils import SchemaConverter"
   ]
  },
  {
   "cell_type": "code",
   "execution_count": null,
   "id": "76e8c207-4673-41f6-ab64-086cfc4d8a96",
   "metadata": {
    "tags": []
   },
   "outputs": [],
   "source": [
    "import schedview\n",
    "import schedview.app.prenight\n",
    "import schedview.compute.scheduler\n",
    "import schedview.collect.opsim\n",
    "from schedview.plot.visitmap import BAND_COLORS"
   ]
  },
  {
   "cell_type": "markdown",
   "id": "222a6d81-563f-4e33-9a40-fc5d3bc47968",
   "metadata": {},
   "source": [
    "### Further preparation of the notebook"
   ]
  },
  {
   "cell_type": "code",
   "execution_count": null,
   "id": "55637881-b52d-4333-85ff-b325fbc80c3d",
   "metadata": {
    "tags": []
   },
   "outputs": [],
   "source": [
    "pn.extension(\"terminal\")"
   ]
  },
  {
   "cell_type": "markdown",
   "id": "d97d5079-af2d-4707-a00f-2b9826524881",
   "metadata": {},
   "source": [
    "### Filter warnings\n",
    "\n",
    "Several dependencies throw prodigious instances of (benign) warnings.\n",
    "Suppress them to avoid poluting the executed notebook."
   ]
  },
  {
   "cell_type": "code",
   "execution_count": null,
   "id": "c07dcb73-9ce9-413e-a9a2-c38512806410",
   "metadata": {
    "tags": []
   },
   "outputs": [],
   "source": [
    "warnings.filterwarnings(\n",
    "    \"ignore\",\n",
    "    module=\"astropy.time\",\n",
    "    message=\"Numerical value without unit or explicit format passed to TimeDelta, assuming days\",\n",
    ")\n",
    "warnings.filterwarnings(\n",
    "    \"ignore\",\n",
    "    module=\"pandas\",\n",
    "    message=\"In a future version of pandas, a length 1 tuple will be returned when iterating over a groupby with a grouper equal to a list of length 1. Don't supply a list with a single grouper to avoid this warning.\",\n",
    ")\n",
    "warnings.filterwarnings(\n",
    "    \"ignore\",\n",
    "    module=\"healpy\",\n",
    "    message=\"divide by zero encountered in divide\",\n",
    ")\n",
    "warnings.filterwarnings(\n",
    "    \"ignore\",\n",
    "    module=\"healpy\",\n",
    "    message=\"invalid value encountered in multiply\",\n",
    ")\n",
    "warnings.filterwarnings(\n",
    "    \"ignore\",\n",
    "    module=\"holoviews\",\n",
    "    message=\"Discarding nonzero nanoseconds in conversion.\",\n",
    ")\n",
    "warnings.filterwarnings(\n",
    "    \"ignore\",\n",
    "    module=\"rubin_sim\",\n",
    "    message=\"invalid value encountered in arcsin\",\n",
    ")\n",
    "warnings.filterwarnings(\n",
    "    \"ignore\",\n",
    "    module=\"rubin_sim\",\n",
    "    message=\"All-NaN slice encountered\",\n",
    ")\n",
    "warnings.filterwarnings(\n",
    "    \"ignore\",\n",
    "    module=\"rubin_sim.scheduler.utils\",\n",
    "    message=\"invalid value encountered in cast\",\n",
    ")\n",
    "warnings.filterwarnings(\n",
    "    \"ignore\",\n",
    "    module=\"rubin_scheduler.scheduler.utils\",\n",
    "    message=\"invalid value encountered in cast\",\n",
    ")"
   ]
  },
  {
   "cell_type": "markdown",
   "id": "77dd3fc1-a84f-4d9c-8fad-5b91f3da4852",
   "metadata": {},
   "source": [
    "## Configuration and initial configuration"
   ]
  },
  {
   "cell_type": "markdown",
   "id": "058c606c-2d15-4503-9514-0feaab312b15",
   "metadata": {},
   "source": [
    "Setting `keep_rewards` to `True` results in a dashboard that includes plots of rewards."
   ]
  },
  {
   "cell_type": "code",
   "execution_count": null,
   "id": "41ddf2e8-acb9-4af3-ba53-c88f92948313",
   "metadata": {
    "tags": []
   },
   "outputs": [],
   "source": [
    "keep_rewards = True"
   ]
  },
  {
   "cell_type": "markdown",
   "id": "06b166b5-bf0a-4b65-b7e9-18b7f85f424d",
   "metadata": {},
   "source": [
    "Set the start date, scheduler, and observatory for the night:"
   ]
  },
  {
   "cell_type": "code",
   "execution_count": null,
   "id": "8a4bf644-3b54-4a25-ab47-a383018b5116",
   "metadata": {
    "tags": []
   },
   "outputs": [],
   "source": [
    "observatory = ModelObservatory()"
   ]
  },
  {
   "cell_type": "markdown",
   "id": "db1e633d-45b9-4115-828e-c684c4670be2",
   "metadata": {},
   "source": [
    "Set `evening_mjd` to the integer calendar MJD of the local calendar day on which sunset falls on the night of interest."
   ]
  },
  {
   "cell_type": "code",
   "execution_count": null,
   "id": "f236eab9-0f4d-4214-a168-00396e327787",
   "metadata": {
    "tags": []
   },
   "outputs": [],
   "source": [
    "evening_iso8601 = \"2025-01-01\"\n",
    "\n",
    "night_date = datetime.date.fromisoformat(evening_iso8601)\n",
    "evening_mjd = Time(evening_iso8601).mjd\n",
    "night_date, evening_mjd"
   ]
  },
  {
   "cell_type": "markdown",
   "id": "b9db752d-2ff5-4066-96d6-f211722cdb3b",
   "metadata": {},
   "source": [
    "If we just use this day as the start and make the simulation duration 1 day, the begin and end of the simulation will probably begin in the middle on one night and end in the middle of the next.\n",
    "Instead, find the sunset and sunrise of the night we want using the almanac, and use these to determine our start time and duration."
   ]
  },
  {
   "cell_type": "code",
   "execution_count": null,
   "id": "b4d75580-a647-49b4-9d16-a511739fd544",
   "metadata": {
    "tags": []
   },
   "outputs": [],
   "source": [
    "# If the date represents the local calendar date at sunset, we need to shift by the longitude in units of days\n",
    "this_night = (\n",
    "    np.floor(observatory.almanac.sunsets[\"sunset\"] + observatory.site.longitude / 360)\n",
    "    == evening_mjd\n",
    ")\n",
    "\n",
    "mjd_start = observatory.almanac.sunsets[this_night][\"sun_n12_setting\"][0]\n",
    "mjd_end = observatory.almanac.sunsets[this_night][\"sunrise\"][0]\n",
    "\n",
    "night_duration = mjd_end - mjd_start\n",
    "time_start = Time(mjd_start, format=\"mjd\")\n",
    "time_start.iso, night_duration"
   ]
  },
  {
   "cell_type": "code",
   "execution_count": null,
   "id": "283efe8e-7f9c-4978-af19-803416bb2423",
   "metadata": {
    "tags": []
   },
   "outputs": [],
   "source": [
    "observatory = ModelObservatory(mjd_start=mjd_start)"
   ]
  },
  {
   "cell_type": "code",
   "execution_count": null,
   "id": "605f0e05-8971-4e1e-8107-511ac043d3a6",
   "metadata": {
    "tags": []
   },
   "outputs": [],
   "source": [
    "scheduler = example_scheduler(mjd_start=mjd_start)"
   ]
  },
  {
   "cell_type": "markdown",
   "id": "4f9f442c-eebf-4f30-a351-26eb97b6219b",
   "metadata": {},
   "source": [
    "Record the date of local day in the evening. "
   ]
  },
  {
   "cell_type": "markdown",
   "id": "0e8a7e94-3f0d-4d22-9cd5-0aed606d82bc",
   "metadata": {},
   "source": [
    "## Prepare the output dir"
   ]
  },
  {
   "cell_type": "code",
   "execution_count": null,
   "id": "da8ed107-998c-4ccc-be46-e6ab2f493be5",
   "metadata": {},
   "outputs": [],
   "source": [
    "data_dir = TemporaryDirectory()\n",
    "data_path = Path(data_dir.name)\n",
    "\n"
   ]
  },
  {
   "cell_type": "markdown",
   "id": "19385714-dcd2-40cf-93b1-1216236ced54",
   "metadata": {},
   "source": [
    "## Save the starting scheduler"
   ]
  },
  {
   "cell_type": "code",
   "execution_count": null,
   "id": "f4cd071b-9e48-49c2-91d9-132c1d466e54",
   "metadata": {},
   "outputs": [],
   "source": [
    "scheduler_fname = data_path.joinpath('scheduler.pickle.xz')\n",
    "\n",
    "with lzma.open(scheduler_fname, \"wb\", format=lzma.FORMAT_XZ) as pio:\n",
    "    pickle.dump(scheduler, pio)"
   ]
  },
  {
   "cell_type": "markdown",
   "id": "2935fdd2-5590-467d-b7fc-7767c9ed5a67",
   "metadata": {},
   "source": [
    "## Run a simulation and create the app instance"
   ]
  },
  {
   "cell_type": "markdown",
   "id": "15b9651b-1607-4eb8-9b97-74cd36869f0f",
   "metadata": {},
   "source": [
    "For this example, simulate starting the default first day of observing:"
   ]
  },
  {
   "cell_type": "code",
   "execution_count": null,
   "id": "15830eff-abd4-41ae-b078-bd40050d7c7d",
   "metadata": {
    "tags": []
   },
   "outputs": [],
   "source": [
    "exec_start_time = Time.now()\n",
    "if not keep_rewards:\n",
    "    observatory, scheduler, observations = sim_runner(\n",
    "        observatory, scheduler, mjd_start=mjd_start, survey_length=night_duration\n",
    "    )\n",
    "else:\n",
    "    scheduler.keep_rewards = True\n",
    "    observatory, scheduler, observations, reward_df, obs_rewards = sim_runner(\n",
    "        observatory,\n",
    "        scheduler,\n",
    "        mjd_start=mjd_start,\n",
    "        survey_length=night_duration,\n",
    "        record_rewards=True,\n",
    "    )"
   ]
  },
  {
   "cell_type": "markdown",
   "id": "5689f570-d36d-4bca-9a77-2c610a4b3bde",
   "metadata": {
    "execution": {
     "iopub.execute_input": "2023-12-15T20:51:37.321181Z",
     "iopub.status.busy": "2023-12-15T20:51:37.320911Z",
     "iopub.status.idle": "2023-12-15T20:51:37.323806Z",
     "shell.execute_reply": "2023-12-15T20:51:37.323445Z",
     "shell.execute_reply.started": "2023-12-15T20:51:37.321168Z"
    }
   },
   "source": [
    "## Save the notebook"
   ]
  },
  {
   "cell_type": "code",
   "execution_count": null,
   "id": "7fe627c8-0bd7-40e5-a079-7d82f9479bfe",
   "metadata": {},
   "outputs": [],
   "source": [
    "notebook_fname = data_path.joinpath('notebook.ipynb').as_posix()"
   ]
  },
  {
   "cell_type": "code",
   "execution_count": null,
   "id": "a3bce129-c4f9-481a-abb2-f66d5a095581",
   "metadata": {},
   "outputs": [],
   "source": [
    "%notebook $notebook_fname"
   ]
  },
  {
   "cell_type": "markdown",
   "id": "1335309b-1410-4d95-94fd-268ea98712df",
   "metadata": {},
   "source": [
    "## Save the conda environment"
   ]
  },
  {
   "cell_type": "code",
   "execution_count": null,
   "id": "02e6036b-07ba-4525-83e8-9b924bd2c4db",
   "metadata": {},
   "outputs": [],
   "source": [
    "conda_prefix = Path(sys.executable).parent.parent.as_posix()\n",
    "if not is_conda_environment(conda_prefix):\n",
    "    raise EnvironmentLocationNotFound(conda_prefix)\n",
    "\n",
    "environment_fname = data_path.joinpath('environment.txt').as_posix()"
   ]
  },
  {
   "cell_type": "code",
   "execution_count": null,
   "id": "23d091da-74ac-40e5-a58b-c92ee71c2d84",
   "metadata": {},
   "outputs": [],
   "source": [
    "environment_fname"
   ]
  },
  {
   "cell_type": "code",
   "execution_count": null,
   "id": "8096e77f-f8f8-406e-a222-13a0ea5c8825",
   "metadata": {},
   "outputs": [],
   "source": [
    "!conda list --export -p $conda_prefix > $environment_fname"
   ]
  },
  {
   "cell_type": "markdown",
   "id": "a49a7f35-0ddb-4001-942e-e7327d345c22",
   "metadata": {},
   "source": [
    "## Archive the results"
   ]
  },
  {
   "cell_type": "code",
   "execution_count": null,
   "id": "0e15f3b0-b247-413a-93b2-aecc6e6d150b",
   "metadata": {},
   "outputs": [],
   "source": [
    "archive_files = {'scheduler': scheduler_fname, 'notebook': notebook_fname, 'conda_environment': environment_fname}"
   ]
  },
  {
   "cell_type": "code",
   "execution_count": null,
   "id": "dcb65ac2-3262-4ad1-a5ad-4d099ca6ed61",
   "metadata": {},
   "outputs": [],
   "source": [
    "def make_sim_archive_dir(observations, reward_df=None, obs_rewards=None, in_files = {}, data_path=None, destination_uri=None):\n",
    "    if data_path is None:\n",
    "        data_dir = TemporaryDirectory()\n",
    "        data_path = Path(data_dir.name)\n",
    "    else:\n",
    "        data_dir = None\n",
    "\n",
    "        if not isinstance(data_path, Path):\n",
    "            data_path = Path(data_path)\n",
    "\n",
    "    files = {}\n",
    "    \n",
    "    # Save the observations\n",
    "    files['observations'] = {'name': 'opsim.db'}\n",
    "    opsim_output_fname = data_path.joinpath(files['observations']['name'])\n",
    "    SchemaConverter().obs2opsim(observations, filename=opsim_output_fname)\n",
    "\n",
    "    # Save the rewards\n",
    "    if reward_df is not None and obs_rewards is not None:\n",
    "        files['rewards'] = {'name': 'rewards.h5'}\n",
    "        rewards_fname = data_path.joinpath(files['rewards']['name'])\n",
    "        if reward_df is not None:\n",
    "            reward_df.to_hdf(rewards_fname, \"reward_df\")\n",
    "        if obs_rewards is not None:\n",
    "            obs_rewards.to_hdf(rewards_fname, \"obs_rewards\")\n",
    "\n",
    "    # Save basic statistics\n",
    "    files['statistics'] = {'name': 'obs_stats.txt'}\n",
    "    stats_fname = data_path.joinpath(files['statistics']['name'])\n",
    "    with open(stats_fname, 'w') as stats_io:\n",
    "        print(SchemaConverter().obs2opsim(observations).describe().T.to_csv(sep='\\t'), file=stats_io)\n",
    "\n",
    "    # Add supplied files\n",
    "    for file_type, fname in in_files.items():\n",
    "        files[file_type] = {'name': Path(fname).name}\n",
    "        try:\n",
    "            shutil.copyfile(fname, data_path.joinpath(files[file_type]['name']))\n",
    "        except shutil.SameFileError:\n",
    "            pass\n",
    "    \n",
    "    # Add file hashes\n",
    "    for file_type in files:\n",
    "        fname = data_path.joinpath(files[file_type]['name'])\n",
    "        with open(fname, 'rb') as file_io:\n",
    "            content = file_io.read()\n",
    "\n",
    "        files[file_type]['md5'] = hashlib.md5(content).hexdigest()\n",
    "    \n",
    "    # Metadata\n",
    "    def evening_local_date(mjd, longitude=observatory.site.longitude):\n",
    "        evening_local_mjd = np.floor(mjd + longitude/360 - 0.5).astype(int)\n",
    "        evening_local_iso = Time(evening_local_mjd, format='mjd').iso[:10]\n",
    "        return evening_local_iso\n",
    "\n",
    "    opsim_metadata = {}\n",
    "    opsim_metadata['scheduler_version'] = rubin_scheduler.__version__\n",
    "    opsim_metadata['host'] = socket.getfqdn()\n",
    "    opsim_metadata['username'] = os.environ['USER']\n",
    "    opsim_metadata['simulated_dates'] = {}\n",
    "    opsim_metadata['simulated_dates']['start'] = evening_local_date(mjd_start)\n",
    "    opsim_metadata['simulated_dates']['end'] = evening_local_date(mjd_start + night_duration)\n",
    "    opsim_metadata['files'] = files\n",
    "    \n",
    "    sim_metadata_fname = data_path.joinpath('sim_metadata.yaml')\n",
    "    with open(sim_metadata_fname, 'w') as sim_metadata_io:\n",
    "        print(yaml.dump(opsim_metadata, indent=4), file=sim_metadata_io)\n",
    "\n",
    "    files['metadata'] = {'name': sim_metadata_fname}\n",
    "\n",
    "    return data_dir\n"
   ]
  },
  {
   "cell_type": "code",
   "execution_count": null,
   "id": "41e3e601-eb9c-48c3-b149-65af3704c561",
   "metadata": {},
   "outputs": [],
   "source": [
    "archive_dir = make_sim_archive_dir(observations, reward_df, obs_rewards, in_files=archive_files)\n",
    "archive_dir.name"
   ]
  },
  {
   "cell_type": "code",
   "execution_count": null,
   "id": "336a7132-df40-4fc1-aede-c5e4857d7f32",
   "metadata": {},
   "outputs": [],
   "source": [
    "!ls -alth $archive_dir.name"
   ]
  },
  {
   "cell_type": "code",
   "execution_count": null,
   "id": "495b70e1-93f9-419f-b42e-01313f226fd7",
   "metadata": {},
   "outputs": [],
   "source": [
    "os.environ['S3_ENDPOINT_URL'] = 'https://s3dfrgw.slac.stanford.edu/'\n",
    "os.environ['AWS_PROFILE'] = 'prenight'"
   ]
  },
  {
   "cell_type": "code",
   "execution_count": null,
   "id": "521cdec8-d0d7-4aee-9a7d-15c61c269a1d",
   "metadata": {},
   "outputs": [],
   "source": [
    "def transfer_archive_dir(archive_dir, archive_base_uri='s3://rubin-scheduler-prenight/opsim/'):\n",
    "    metadata_fname = Path(archive_dir).joinpath('sim_metadata.yaml')\n",
    "    with open(metadata_fname, 'r') as metadata_io:\n",
    "        sim_metadata = yaml.safe_load(metadata_io)\n",
    "\n",
    "    insert_date = datetime.datetime.utcnow().date().isoformat()\n",
    "    insert_date_rpath = lsst.resources.ResourcePath(archive_base_uri).join(insert_date, forceDirectory=True)\n",
    "    if not insert_date_rpath.exists():\n",
    "        insert_date_rpath.mkdir()\n",
    "\n",
    "    # Number the sims in the insert date dir\n",
    "    found_ids = []\n",
    "    for base_dir, found_dirs, found_files in insert_date_rpath.walk():\n",
    "        if base_dir == insert_date_rpath:\n",
    "            for found_dir in found_dirs:\n",
    "                try:\n",
    "                    found_ids.append(int(found_dir[:-1]))\n",
    "                except ValueError:\n",
    "                    pass\n",
    "    \n",
    "    new_id = max(found_ids) + 1 if len(found_ids)>0 else 1\n",
    "    resource_rpath = insert_date_rpath.join(f\"{new_id}\", forceDirectory=True)\n",
    "    resource_rpath.mkdir()\n",
    "\n",
    "    sim_metadata['files']['metadata'] = {'name': 'sim_metadata.yaml'}\n",
    "    \n",
    "    for file_type, file_info in sim_metadata['files'].items():\n",
    "        source_fname = Path(archive_dir).joinpath(file_info['name'])\n",
    "        with open(source_fname, 'rb') as source_io:\n",
    "            content = source_io.read()\n",
    "\n",
    "        destination_rpath = resource_rpath.join(file_info['name'])\n",
    "        destination_rpath.write(content)\n",
    "\n",
    "        print(f\"Copied {source_fname} to {destination_rpath}\")\n",
    "\n",
    "    return resource_rpath"
   ]
  },
  {
   "cell_type": "code",
   "execution_count": null,
   "id": "df8779e2-4368-4b2e-b61a-0672c5223916",
   "metadata": {},
   "outputs": [],
   "source": [
    "transfer_archive_dir(archive_dir.name)"
   ]
  },
  {
   "cell_type": "code",
   "execution_count": null,
   "id": "83514d13-2530-4960-95e8-637c050a71de",
   "metadata": {},
   "outputs": [],
   "source": [
    "for base_dir, found_dirs, found_files in lsst.resources.ResourcePath('s3://rubin-scheduler-prenight/opsim/').walk():\n",
    "    for found_file in found_files:\n",
    "        print(base_dir, found_file)"
   ]
  },
  {
   "cell_type": "code",
   "execution_count": null,
   "id": "ca16e07b-4cd9-4c23-b7ef-3a01f6fbb530",
   "metadata": {},
   "outputs": [],
   "source": [
    "print(lsst.resources.ResourcePath('s3://rubin-scheduler-prenight/opsim/2023-12-15/1/sim_metadata.yaml').read().decode('utf-8'))"
   ]
  },
  {
   "cell_type": "code",
   "execution_count": null,
   "id": "e298f3f1-77bf-4e89-b414-5515b88d7955",
   "metadata": {},
   "outputs": [],
   "source": []
  }
 ],
 "metadata": {
  "kernelspec": {
   "display_name": "ehn311",
   "language": "python",
   "name": "ehn311"
  },
  "language_info": {
   "codemirror_mode": {
    "name": "ipython",
    "version": 3
   },
   "file_extension": ".py",
   "mimetype": "text/x-python",
   "name": "python",
   "nbconvert_exporter": "python",
   "pygments_lexer": "ipython3",
   "version": "3.11.6"
  }
 },
 "nbformat": 4,
 "nbformat_minor": 5
}
