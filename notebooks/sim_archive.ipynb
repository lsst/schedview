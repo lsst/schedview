{
 "cells": [
  {
   "cell_type": "code",
   "execution_count": null,
   "id": "c2a72e18-33d6-4aa7-9c0f-6becfdc98860",
   "metadata": {
    "tags": []
   },
   "outputs": [],
   "source": [
    "%load_ext lab_black\n",
    "%load_ext autoreload\n",
    "%autoreload 1"
   ]
  },
  {
   "cell_type": "markdown",
   "id": "9c840f8b-2e01-42f5-91c4-31357f14e515",
   "metadata": {},
   "source": [
    "### Imports\n",
    "\n",
    "Use `aimport` for `schedview` imports for ease of debugging."
   ]
  },
  {
   "cell_type": "code",
   "execution_count": null,
   "id": "9616a73e-01d5-4e6a-9205-11aaf75e5390",
   "metadata": {
    "tags": []
   },
   "outputs": [],
   "source": [
    "import warnings\n",
    "import math\n",
    "import os\n",
    "import sys\n",
    "import logging\n",
    "from pathlib import Path\n",
    "import panel as pn\n",
    "import numpy as np\n",
    "import pandas as pd\n",
    "import param\n",
    "import bokeh\n",
    "from copy import deepcopy\n",
    "import datetime\n",
    "from pytz import timezone\n",
    "import lzma\n",
    "import pickle\n",
    "import yaml\n",
    "import json\n",
    "import socket\n",
    "import time\n",
    "from contextlib import redirect_stdout\n",
    "from pathlib import Path\n",
    "from collections import OrderedDict\n",
    "from tempfile import TemporaryDirectory, NamedTemporaryFile\n",
    "import hashlib\n",
    "import shutil\n",
    "\n",
    "import sys\n",
    "from conda.exceptions import EnvironmentLocationNotFound\n",
    "from conda.gateways.disk.test import is_conda_environment\n",
    "from conda.cli.main_list import print_packages"
   ]
  },
  {
   "cell_type": "code",
   "execution_count": null,
   "id": "2486d2e9-b9a7-4842-bcf6-24e42596ad67",
   "metadata": {
    "tags": []
   },
   "outputs": [],
   "source": [
    "from astropy.time import Time, TimeDelta\n",
    "from zoneinfo import ZoneInfo\n",
    "import matplotlib as mpl\n",
    "import matplotlib.pyplot as plt\n",
    "import hvplot.pandas"
   ]
  },
  {
   "cell_type": "code",
   "execution_count": null,
   "id": "3c2996af-34dd-461f-a352-e33a30aa1e9e",
   "metadata": {},
   "outputs": [],
   "source": [
    "import lsst.resources"
   ]
  },
  {
   "cell_type": "code",
   "execution_count": null,
   "id": "c83e3257-40bf-4d14-8375-cacc8cedbcba",
   "metadata": {
    "tags": []
   },
   "outputs": [],
   "source": [
    "import rubin_scheduler\n",
    "from rubin_scheduler.scheduler.example import example_scheduler\n",
    "from rubin_scheduler.scheduler import sim_runner\n",
    "from rubin_scheduler.scheduler.model_observatory import ModelObservatory\n",
    "from rubin_scheduler.scheduler.utils import SchemaConverter\n",
    "from rubin_scheduler.sim_archive import sim_archive, drive_sim"
   ]
  },
  {
   "cell_type": "code",
   "execution_count": null,
   "id": "76e8c207-4673-41f6-ab64-086cfc4d8a96",
   "metadata": {
    "tags": []
   },
   "outputs": [],
   "source": [
    "import schedview\n",
    "import schedview.app.prenight\n",
    "import schedview.compute.scheduler\n",
    "import schedview.collect.opsim\n",
    "from schedview.plot.visitmap import BAND_COLORS"
   ]
  },
  {
   "cell_type": "markdown",
   "id": "222a6d81-563f-4e33-9a40-fc5d3bc47968",
   "metadata": {},
   "source": [
    "### Further preparation of the notebook"
   ]
  },
  {
   "cell_type": "code",
   "execution_count": null,
   "id": "55637881-b52d-4333-85ff-b325fbc80c3d",
   "metadata": {
    "tags": []
   },
   "outputs": [],
   "source": [
    "pn.extension(\"terminal\")"
   ]
  },
  {
   "cell_type": "markdown",
   "id": "d97d5079-af2d-4707-a00f-2b9826524881",
   "metadata": {},
   "source": [
    "### Filter warnings\n",
    "\n",
    "Several dependencies throw prodigious instances of (benign) warnings.\n",
    "Suppress them to avoid poluting the executed notebook."
   ]
  },
  {
   "cell_type": "code",
   "execution_count": null,
   "id": "c07dcb73-9ce9-413e-a9a2-c38512806410",
   "metadata": {
    "tags": []
   },
   "outputs": [],
   "source": [
    "warnings.filterwarnings(\n",
    "    \"ignore\",\n",
    "    module=\"astropy.time\",\n",
    "    message=\"Numerical value without unit or explicit format passed to TimeDelta, assuming days\",\n",
    ")\n",
    "warnings.filterwarnings(\n",
    "    \"ignore\",\n",
    "    module=\"pandas\",\n",
    "    message=\"In a future version of pandas, a length 1 tuple will be returned when iterating over a groupby with a grouper equal to a list of length 1. Don't supply a list with a single grouper to avoid this warning.\",\n",
    ")\n",
    "warnings.filterwarnings(\n",
    "    \"ignore\",\n",
    "    module=\"healpy\",\n",
    "    message=\"divide by zero encountered in divide\",\n",
    ")\n",
    "warnings.filterwarnings(\n",
    "    \"ignore\",\n",
    "    module=\"healpy\",\n",
    "    message=\"invalid value encountered in multiply\",\n",
    ")\n",
    "warnings.filterwarnings(\n",
    "    \"ignore\",\n",
    "    module=\"holoviews\",\n",
    "    message=\"Discarding nonzero nanoseconds in conversion.\",\n",
    ")\n",
    "warnings.filterwarnings(\n",
    "    \"ignore\",\n",
    "    module=\"rubin_sim\",\n",
    "    message=\"invalid value encountered in arcsin\",\n",
    ")\n",
    "warnings.filterwarnings(\n",
    "    \"ignore\",\n",
    "    module=\"rubin_sim\",\n",
    "    message=\"All-NaN slice encountered\",\n",
    ")\n",
    "warnings.filterwarnings(\n",
    "    \"ignore\",\n",
    "    module=\"rubin_sim.scheduler.utils\",\n",
    "    message=\"invalid value encountered in cast\",\n",
    ")\n",
    "warnings.filterwarnings(\n",
    "    \"ignore\",\n",
    "    module=\"rubin_scheduler.scheduler.utils\",\n",
    "    message=\"invalid value encountered in cast\",\n",
    ")\n",
    "warnings.filterwarnings(\n",
    "    \"ignore\",\n",
    "    module=\"rubin_scheduler.scheduler.surveys\",\n",
    "    message=\"All-NaN slice encountered\",\n",
    ")"
   ]
  },
  {
   "cell_type": "markdown",
   "id": "77dd3fc1-a84f-4d9c-8fad-5b91f3da4852",
   "metadata": {},
   "source": [
    "## Configuration"
   ]
  },
  {
   "cell_type": "markdown",
   "id": "058c606c-2d15-4503-9514-0feaab312b15",
   "metadata": {},
   "source": [
    "Setting `keep_rewards` to `True` stores rewards that can be plotted in the schedview dashboards, but makes the simulation slower."
   ]
  },
  {
   "cell_type": "code",
   "execution_count": null,
   "id": "41ddf2e8-acb9-4af3-ba53-c88f92948313",
   "metadata": {
    "tags": []
   },
   "outputs": [],
   "source": [
    "keep_rewards = True"
   ]
  },
  {
   "cell_type": "markdown",
   "id": "db1e633d-45b9-4115-828e-c684c4670be2",
   "metadata": {},
   "source": [
    "Set the date we are simulating:"
   ]
  },
  {
   "cell_type": "code",
   "execution_count": null,
   "id": "f236eab9-0f4d-4214-a168-00396e327787",
   "metadata": {
    "tags": []
   },
   "outputs": [],
   "source": [
    "evening_iso8601 = \"2025-05-05\""
   ]
  },
  {
   "cell_type": "markdown",
   "id": "b9db752d-2ff5-4066-96d6-f211722cdb3b",
   "metadata": {},
   "source": [
    "If we just use this day as the start and make the simulation duration 1 day, the begin and end of the simulation will probably begin in the middle on one night and end in the middle of the next.\n",
    "Instead, find the sunset and sunrise of the night we want using the almanac, and use these to determine our start time and duration."
   ]
  },
  {
   "cell_type": "code",
   "execution_count": null,
   "id": "64e05c42-07c4-4495-a8a6-98031d4fd355",
   "metadata": {},
   "outputs": [],
   "source": [
    "observatory = ModelObservatory()\n",
    "night_sunset_info = observatory.almanac.get_sunset_info(\n",
    "    evening_date=evening_iso8601, longitude=observatory.location.lon\n",
    ")\n",
    "\n",
    "mjd_start = night_sunset_info[\"sun_n12_setting\"]\n",
    "night_duration = night_sunset_info[\"sunrise\"] - mjd_start"
   ]
  },
  {
   "cell_type": "markdown",
   "id": "d8255dd4-0d23-4e60-9939-c65615529f31",
   "metadata": {},
   "source": [
    "Now instantiate the `ModelObservatory` and scheduler we will actually use for the simulation."
   ]
  },
  {
   "cell_type": "code",
   "execution_count": null,
   "id": "283efe8e-7f9c-4978-af19-803416bb2423",
   "metadata": {
    "tags": []
   },
   "outputs": [],
   "source": [
    "observatory = ModelObservatory(mjd_start=mjd_start)"
   ]
  },
  {
   "cell_type": "code",
   "execution_count": null,
   "id": "605f0e05-8971-4e1e-8107-511ac043d3a6",
   "metadata": {
    "tags": []
   },
   "outputs": [],
   "source": [
    "scheduler = example_scheduler(mjd_start=mjd_start)\n",
    "scheduler.keep_rewards = True"
   ]
  },
  {
   "cell_type": "markdown",
   "id": "aa162d69-df59-47d7-96c0-bd36f39d1380",
   "metadata": {},
   "source": [
    "## Get a URI for the archive into which to save the simulation"
   ]
  },
  {
   "cell_type": "markdown",
   "id": "3baf6f23-7122-4acc-8a3c-dd829973ecb7",
   "metadata": {},
   "source": [
    "For this sample, use a temporary directory:"
   ]
  },
  {
   "cell_type": "code",
   "execution_count": null,
   "id": "34a47d12-b04e-4693-9b68-46f10d5e297b",
   "metadata": {},
   "outputs": [],
   "source": [
    "if True:\n",
    "    archive_dir = TemporaryDirectory()\n",
    "    archive_uri = lsst.resources.ResourcePath(\n",
    "        archive_dir.name, forceDirectory=True\n",
    "    ).geturl()"
   ]
  },
  {
   "cell_type": "markdown",
   "id": "18d462e3-faa0-46a6-a47d-b28d16b97ff6",
   "metadata": {
    "execution": {
     "iopub.execute_input": "2024-01-04T16:42:37.279985Z",
     "iopub.status.busy": "2024-01-04T16:42:37.279350Z",
     "iopub.status.idle": "2024-01-04T16:42:37.367953Z",
     "shell.execute_reply": "2024-01-04T16:42:37.367371Z",
     "shell.execute_reply.started": "2024-01-04T16:42:37.279968Z"
    }
   },
   "source": [
    "If you have a local non-temporary you want to use instead, do something like this:"
   ]
  },
  {
   "cell_type": "code",
   "execution_count": null,
   "id": "ddcf7b11-bfb7-4fa5-a4b4-6b8dba52b01b",
   "metadata": {},
   "outputs": [],
   "source": [
    "if False:\n",
    "    archive_uri = \"file:///my/directory/\""
   ]
  },
  {
   "cell_type": "markdown",
   "id": "699de188-216e-4131-ac68-e5a01828b5f9",
   "metadata": {
    "execution": {
     "iopub.execute_input": "2024-01-04T16:43:40.866133Z",
     "iopub.status.busy": "2024-01-04T16:43:40.865578Z",
     "iopub.status.idle": "2024-01-04T16:43:40.872744Z",
     "shell.execute_reply": "2024-01-04T16:43:40.872213Z",
     "shell.execute_reply.started": "2024-01-04T16:43:40.866120Z"
    }
   },
   "source": [
    "To save into the S3 bucket used by `schedview`, set both the uri and the environment variables necessary for access to it:"
   ]
  },
  {
   "cell_type": "code",
   "execution_count": null,
   "id": "8a3fa8ec-66c3-4c70-ab36-8a628daed580",
   "metadata": {},
   "outputs": [],
   "source": [
    "if False:\n",
    "    os.environ[\"S3_ENDPOINT_URL\"] = \"https://s3dfrgw.slac.stanford.edu/\"\n",
    "    os.environ[\"AWS_PROFILE\"] = \"prenight\"\n",
    "    archive_uri = \"s3://rubin-scheduler-prenight/opsim/\""
   ]
  },
  {
   "cell_type": "markdown",
   "id": "b8d1acd1-934b-4496-893e-71665a67ecf5",
   "metadata": {},
   "source": [
    "In both of the above cases, be sure to include the trailing `/`."
   ]
  },
  {
   "cell_type": "markdown",
   "id": "5689f570-d36d-4bca-9a77-2c610a4b3bde",
   "metadata": {
    "execution": {
     "iopub.execute_input": "2023-12-15T20:51:37.321181Z",
     "iopub.status.busy": "2023-12-15T20:51:37.320911Z",
     "iopub.status.idle": "2023-12-15T20:51:37.323806Z",
     "shell.execute_reply": "2023-12-15T20:51:37.323445Z",
     "shell.execute_reply.started": "2023-12-15T20:51:37.321168Z"
    }
   },
   "source": [
    "## Save the notebook in a temporary directory"
   ]
  },
  {
   "cell_type": "code",
   "execution_count": null,
   "id": "0d68629f-e9b7-4305-b32a-e5daa5836bf6",
   "metadata": {},
   "outputs": [],
   "source": [
    "scratch_dir = TemporaryDirectory()\n",
    "scratch_path = Path(scratch_dir.name)\n",
    "notebook_fname = scratch_path.joinpath(\"notebook.ipynb\").as_posix()"
   ]
  },
  {
   "cell_type": "code",
   "execution_count": null,
   "id": "a3bce129-c4f9-481a-abb2-f66d5a095581",
   "metadata": {},
   "outputs": [],
   "source": [
    "%notebook $notebook_fname"
   ]
  },
  {
   "cell_type": "markdown",
   "id": "fcdb3253-41bb-49f6-b7eb-c85e9a4431df",
   "metadata": {},
   "source": [
    "## Run the simulation"
   ]
  },
  {
   "cell_type": "code",
   "execution_count": null,
   "id": "854cf2bb-9d65-4083-a1fb-932a8c46fdc4",
   "metadata": {},
   "outputs": [],
   "source": [
    "exec_start_time = Time.now()\n",
    "results = drive_sim(\n",
    "    observatory=observatory,\n",
    "    scheduler=scheduler,\n",
    "    archive_uri=archive_uri,\n",
    "    label=f\"Notebook test on {exec_start_time.iso}\",\n",
    "    notebook=notebook_fname,\n",
    "    tags=[\"notebook\", \"devel\"],\n",
    "    mjd_start=mjd_start,\n",
    "    survey_length=night_duration,\n",
    ")"
   ]
  },
  {
   "cell_type": "code",
   "execution_count": null,
   "id": "a370886c-125d-4b67-9c81-a08e865212c1",
   "metadata": {},
   "outputs": [],
   "source": [
    "sim_uri"
   ]
  },
  {
   "cell_type": "code",
   "execution_count": null,
   "id": "375094a3-6b65-4f0d-8511-51bce23923a9",
   "metadata": {},
   "outputs": [],
   "source": []
  }
 ],
 "metadata": {
  "kernelspec": {
   "display_name": "ehn311",
   "language": "python",
   "name": "ehn311"
  },
  "language_info": {
   "codemirror_mode": {
    "name": "ipython",
    "version": 3
   },
   "file_extension": ".py",
   "mimetype": "text/x-python",
   "name": "python",
   "nbconvert_exporter": "python",
   "pygments_lexer": "ipython3",
   "version": "3.11.6"
  }
 },
 "nbformat": 4,
 "nbformat_minor": 5
}
