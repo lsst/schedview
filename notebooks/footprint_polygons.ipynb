{
 "cells": [
  {
   "cell_type": "code",
   "execution_count": null,
   "id": "70ac326c",
   "metadata": {},
   "outputs": [],
   "source": [
    "%load_ext autoreload\n",
    "%autoreload 1"
   ]
  },
  {
   "cell_type": "code",
   "execution_count": null,
   "id": "902825c5",
   "metadata": {},
   "outputs": [],
   "source": [
    "import bokeh\n",
    "import colorcet as cc\n",
    "import healpy as hp\n",
    "import numpy as np\n",
    "from rubin_scheduler.scheduler.utils import get_current_footprint\n",
    "from uranography.api import (\n",
    "    Planisphere,\n",
    "    MollweideMap,\n",
    "    ArmillarySphere,\n",
    ")\n",
    "\n",
    "import schedview.compute.footprint\n",
    "import schedview.plot.footprint"
   ]
  },
  {
   "cell_type": "code",
   "execution_count": null,
   "id": "4156ecab",
   "metadata": {},
   "outputs": [],
   "source": [
    "bokeh.io.output_notebook(hide_banner=True)"
   ]
  },
  {
   "cell_type": "code",
   "execution_count": null,
   "id": "8e0be84c",
   "metadata": {},
   "outputs": [],
   "source": [
    "nside=32\n",
    "footprint_nvisits = np.zeros(hp.nside2npix(nside))\n",
    "footprint_nvisits_by_band = get_current_footprint(nside)[0]\n",
    "for band in 'ugrizy':\n",
    "    footprint_nvisits = footprint_nvisits + footprint_nvisits_by_band[band]"
   ]
  },
  {
   "cell_type": "code",
   "execution_count": null,
   "id": "3460138a",
   "metadata": {},
   "outputs": [],
   "source": [
    "psphere = Planisphere()\n",
    "asphere = ArmillarySphere()\n",
    "schedview.plot.footprint.add_footprint_to_skymaps(footprint_nvisits, [asphere, psphere])\n",
    "psphere.add_graticules(label_ra=True, label_decl=False)\n",
    "asphere.add_graticules()\n",
    "bokeh.io.show(bokeh.layouts.row([psphere.figure, asphere.figure]))"
   ]
  },
  {
   "cell_type": "code",
   "execution_count": null,
   "id": "e546c7c7",
   "metadata": {},
   "outputs": [],
   "source": [
    "nside=64\n",
    "footprint_regions = get_current_footprint(nside)[1]\n",
    "footprint_polygons = schedview.compute.footprint.find_healpix_area_polygons(footprint_regions)"
   ]
  },
  {
   "cell_type": "code",
   "execution_count": null,
   "id": "8bf21dce",
   "metadata": {},
   "outputs": [],
   "source": [
    "psphere = Planisphere(location=\"Cerro Pachon\")\n",
    "asphere = ArmillarySphere(location=\"Cerro Pachon\")\n",
    "msphere = MollweideMap(location=\"Cerro Pachon\")\n",
    "schedview.plot.footprint.add_footprint_outlines_to_skymaps(footprint_polygons, [psphere, asphere, msphere], line_width=5)\n",
    "psphere.add_graticules(label_ra=True, label_decl=False)\n",
    "asphere.add_graticules()\n",
    "msphere.add_graticules()\n",
    "bokeh.io.show(bokeh.layouts.row([psphere.figure, asphere.figure, msphere.figure]))"
   ]
  },
  {
   "cell_type": "code",
   "execution_count": null,
   "id": "027338ff",
   "metadata": {},
   "outputs": [],
   "source": [
    "psphere = Planisphere(location=\"Cerro Pachon\")\n",
    "asphere = ArmillarySphere(location=\"Cerro Pachon\")\n",
    "msphere = MollweideMap(location=\"Cerro Pachon\")\n",
    "schedview.plot.footprint.add_footprint_outlines_to_skymaps(footprint_polygons, [psphere, asphere, msphere], filled=True)\n",
    "psphere.add_graticules(label_ra=True, label_decl=False)\n",
    "asphere.add_graticules()\n",
    "msphere.add_graticules()\n",
    "bokeh.io.show(bokeh.layouts.row([psphere.figure, asphere.figure, msphere.figure]))"
   ]
  },
  {
   "cell_type": "code",
   "execution_count": null,
   "id": "6ae01de0",
   "metadata": {},
   "outputs": [],
   "source": [
    "nside=8\n",
    "footprint_regions = get_current_footprint(nside)[1]\n",
    "psphere = Planisphere()\n",
    "asphere = ArmillarySphere()\n",
    "schedview.plot.footprint.add_footprint_to_skymaps_v2(footprint_regions, [asphere, psphere])\n",
    "psphere.add_graticules(label_ra=True, label_decl=False)\n",
    "asphere.add_graticules()\n",
    "bokeh.io.show(bokeh.layouts.row([psphere.figure, asphere.figure]))"
   ]
  },
  {
   "cell_type": "code",
   "execution_count": null,
   "id": "abbdc6d2",
   "metadata": {},
   "outputs": [],
   "source": []
  },
  {
   "cell_type": "code",
   "execution_count": null,
   "id": "66240695",
   "metadata": {},
   "outputs": [],
   "source": []
  }
 ],
 "metadata": {
  "kernelspec": {
   "display_name": "Python 3",
   "language": "python",
   "name": "python3"
  },
  "language_info": {
   "codemirror_mode": {
    "name": "ipython",
    "version": 3
   },
   "file_extension": ".py",
   "mimetype": "text/x-python",
   "name": "python",
   "nbconvert_exporter": "python",
   "pygments_lexer": "ipython3",
   "version": "3.13.2"
  }
 },
 "nbformat": 4,
 "nbformat_minor": 5
}
