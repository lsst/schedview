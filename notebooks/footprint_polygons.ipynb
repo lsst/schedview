{
 "cells": [
  {
   "cell_type": "markdown",
   "id": "3a77e81d",
   "metadata": {},
   "source": [
    "# Notebook to demonstrate plotting outlines of footprint regions"
   ]
  },
  {
   "cell_type": "code",
   "execution_count": null,
   "id": "70ac326c",
   "metadata": {},
   "outputs": [],
   "source": [
    "%load_ext autoreload\n",
    "%autoreload 1"
   ]
  },
  {
   "cell_type": "code",
   "execution_count": null,
   "id": "902825c5",
   "metadata": {},
   "outputs": [],
   "source": [
    "import bokeh\n",
    "import schedview.compute.footprint\n",
    "import schedview.plot.footprint\n",
    "from rubin_scheduler.scheduler.utils import get_current_footprint\n",
    "from uranography.api import (\n",
    "    Planisphere,\n",
    "    MollweideMap,\n",
    "    ArmillarySphere,\n",
    ")"
   ]
  },
  {
   "cell_type": "code",
   "execution_count": null,
   "id": "4156ecab",
   "metadata": {},
   "outputs": [],
   "source": [
    "bokeh.io.output_notebook(hide_banner=True)"
   ]
  },
  {
   "cell_type": "markdown",
   "id": "419b0434",
   "metadata": {},
   "source": [
    "Load the notebook regions, get the polygons, and show the `DataFrame` returned:"
   ]
  },
  {
   "cell_type": "code",
   "execution_count": null,
   "id": "e546c7c7",
   "metadata": {},
   "outputs": [],
   "source": [
    "nside=64\n",
    "footprint_regions = get_current_footprint(nside)[1]\n",
    "footprint_polygons = schedview.compute.footprint.find_healpix_area_polygons(footprint_regions)\n",
    "footprint_polygons"
   ]
  },
  {
   "cell_type": "markdown",
   "id": "5368d7eb",
   "metadata": {},
   "source": [
    "The \"`loop`\" index is there to support occasions where regions are composed of multiple distincte polygons, for example the separete areas of `lowdust` in the North and South Galactic Caps. (See the example below.)"
   ]
  },
  {
   "cell_type": "markdown",
   "id": "76cdbad0",
   "metadata": {},
   "source": [
    "The `x`, `y`, and `z` columns are the \"vector\" representation used in healpy, e.g. in [`hp.arg2vec`](https://healpy.readthedocs.io/en/latest/generated/healpy.pixelfunc.ang2vec.html#healpy.pixelfunc.ang2vec). This is particularly useful if you want to manipulate the polygons with `shapely`, which seems to handle 3 dimensional Cartesion coordinates better than spherical coordinates."
   ]
  },
  {
   "cell_type": "markdown",
   "id": "493779b6",
   "metadata": {},
   "source": [
    "Now, plot the footprint outlines:"
   ]
  },
  {
   "cell_type": "code",
   "execution_count": null,
   "id": "8bf21dce",
   "metadata": {},
   "outputs": [],
   "source": [
    "psphere = Planisphere()\n",
    "asphere = ArmillarySphere()\n",
    "schedview.plot.footprint.add_footprint_outlines_to_skymaps(footprint_polygons, [psphere, asphere], line_width=5)\n",
    "psphere.add_graticules(label_ra=True, label_decl=False)\n",
    "asphere.add_graticules()\n",
    "bokeh.io.show(bokeh.layouts.row([psphere.figure, asphere.figure]))"
   ]
  },
  {
   "cell_type": "markdown",
   "id": "9710e4a6",
   "metadata": {},
   "source": [
    "We can also just plot specific regions. When plotting multiple regions, just index by them, but when plotting one, pandas takes out the index you indexed by, so you need to put it back:"
   ]
  },
  {
   "cell_type": "code",
   "execution_count": null,
   "id": "09a39ac0",
   "metadata": {},
   "outputs": [],
   "source": [
    "lowdust_polygons = footprint_polygons.loc['lowdust', :]\n",
    "psphere = Planisphere()\n",
    "asphere = ArmillarySphere()\n",
    "schedview.plot.footprint.add_footprint_outlines_to_skymaps(lowdust_polygons, [psphere, asphere], line_width=5)\n",
    "psphere.add_graticules(label_ra=True, label_decl=False)\n",
    "asphere.add_graticules()\n",
    "bokeh.io.show(bokeh.layouts.row([psphere.figure, asphere.figure]))\n"
   ]
  },
  {
   "cell_type": "markdown",
   "id": "d5ddc80c",
   "metadata": {},
   "source": [
    "You can make the data even smaller by reducing the number of points. (`schedview` implements this by calling `shapely.simplify`, so the `tolerance` parameter has the same meaning as in `shapely.simplify`):"
   ]
  },
  {
   "cell_type": "code",
   "execution_count": null,
   "id": "6e346d5b",
   "metadata": {},
   "outputs": [],
   "source": [
    "simplified_footprint_polygons = schedview.compute.footprint.find_healpix_area_polygons(footprint_regions, simplify_tolerance=0.01)\n",
    "print(f\"Vertexes used dropped from {len(footprint_polygons)} to {len(simplified_footprint_polygons)}\")\n",
    "psphere = Planisphere()\n",
    "asphere = ArmillarySphere()\n",
    "schedview.plot.footprint.add_footprint_outlines_to_skymaps(simplified_footprint_polygons, [psphere, asphere], line_width=5)\n",
    "psphere.add_graticules(label_ra=True, label_decl=False)\n",
    "asphere.add_graticules()\n",
    "bokeh.io.show(bokeh.layouts.row([psphere.figure, asphere.figure]))"
   ]
  },
  {
   "cell_type": "markdown",
   "id": "c2bf6529",
   "metadata": {},
   "source": [
    "Plotting with outlines works well in uranography only when the polygon does not cross a discontinuity in the map projection, because it isn't smart enough to handle the discontinuities.\n",
    "\n",
    "For the LSST footprint, this means it works great for azimuthal projections such as the Lambert Azimuthal Equal Area one, but not so well for orthographic or Mollweide."
   ]
  },
  {
   "cell_type": "code",
   "execution_count": null,
   "id": "027338ff",
   "metadata": {},
   "outputs": [],
   "source": [
    "psphere = Planisphere()\n",
    "psphere.plot.title=\"Lambert Azimuthal Equal Area projection\"\n",
    "asphere = ArmillarySphere()\n",
    "asphere.plot.title=\"Dynamic Orthographic projection\"\n",
    "msphere = MollweideMap()\n",
    "msphere.plot.title=\"Mollweide projection\"\n",
    "schedview.plot.footprint.add_footprint_outlines_to_skymaps(footprint_polygons, [psphere, asphere, msphere], filled=True)\n",
    "psphere.add_graticules(label_ra=True, label_decl=False)\n",
    "asphere.add_graticules()\n",
    "msphere.add_graticules()\n",
    "bokeh.io.show(bokeh.layouts.row([psphere.figure, asphere.figure, msphere.figure]))"
   ]
  },
  {
   "cell_type": "code",
   "execution_count": null,
   "id": "66240695",
   "metadata": {},
   "outputs": [],
   "source": []
  }
 ],
 "metadata": {
  "kernelspec": {
   "display_name": "Python 3",
   "language": "python",
   "name": "python3"
  },
  "language_info": {
   "codemirror_mode": {
    "name": "ipython",
    "version": 3
   },
   "file_extension": ".py",
   "mimetype": "text/x-python",
   "name": "python",
   "nbconvert_exporter": "python",
   "pygments_lexer": "ipython3",
   "version": "3.13.2"
  }
 },
 "nbformat": 4,
 "nbformat_minor": 5
}
