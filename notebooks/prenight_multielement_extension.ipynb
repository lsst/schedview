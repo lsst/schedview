{
 "cells": [
  {
   "cell_type": "markdown",
   "id": "83f7e133-fbd7-46a2-8c52-44f4587405b5",
   "metadata": {},
   "source": [
    "# Extending the pre-night dashboard with a tab with multiple `bokeh` elements"
   ]
  },
  {
   "cell_type": "markdown",
   "id": "ae634eac-3392-4188-acf0-40b70168848f",
   "metadata": {},
   "source": [
    "## Notebook perparation"
   ]
  },
  {
   "cell_type": "markdown",
   "id": "1ef0b2ed-5891-4a64-bf92-5d1e423bbf45",
   "metadata": {},
   "source": [
    "### Load jupyter extensions"
   ]
  },
  {
   "cell_type": "code",
   "execution_count": null,
   "id": "713ad403-ecd9-44d2-af05-20ed61d65366",
   "metadata": {
    "tags": []
   },
   "outputs": [],
   "source": [
    "%load_ext lab_black\n",
    "%load_ext autoreload\n",
    "%autoreload 1"
   ]
  },
  {
   "cell_type": "markdown",
   "id": "befc7679-cd19-47f9-a0c7-a616dd18322f",
   "metadata": {},
   "source": [
    "### Imports\n",
    "\n",
    "Use `aimport` for `schedview` imports for ease of debugging."
   ]
  },
  {
   "cell_type": "code",
   "execution_count": null,
   "id": "8b0f4ddf-dff6-4391-ae15-057bb395fcd9",
   "metadata": {
    "tags": []
   },
   "outputs": [],
   "source": [
    "import importlib\n",
    "import warnings\n",
    "from astropy.time import Time\n",
    "import pandas as pd\n",
    "import panel as pn\n",
    "import numpy as np\n",
    "import param\n",
    "import bokeh.plotting"
   ]
  },
  {
   "cell_type": "code",
   "execution_count": null,
   "id": "c86a832c-ccc7-436f-ab32-f90098f30de6",
   "metadata": {
    "tags": []
   },
   "outputs": [],
   "source": [
    "import schedview.collect.opsim\n",
    "import schedview.app\n",
    "import schedview.app.prenight"
   ]
  },
  {
   "cell_type": "markdown",
   "id": "44699b6d-a875-4bb0-9550-bfaa9451ecee",
   "metadata": {},
   "source": [
    "### Further preparation of the notebook"
   ]
  },
  {
   "cell_type": "markdown",
   "id": "d308731d-378b-4b4b-93a0-43c5950c67ac",
   "metadata": {},
   "source": [
    "Configure the notebook to show `panel` plots and dashboards:"
   ]
  },
  {
   "cell_type": "code",
   "execution_count": null,
   "id": "3744b792-dd65-443f-828d-8d4d349c400f",
   "metadata": {
    "tags": []
   },
   "outputs": [],
   "source": [
    "pn.extension(\"terminal\")"
   ]
  },
  {
   "cell_type": "markdown",
   "id": "03159c1b-3dcc-474b-b3b9-4e4a1af5b21a",
   "metadata": {},
   "source": [
    "## Create the extended dashboard app"
   ]
  },
  {
   "cell_type": "markdown",
   "id": "e1ae8c1b-6cd3-4a8f-940e-569771954b62",
   "metadata": {},
   "source": [
    "Here, we create a subclass that adds a tab with two new elements: a bokeh bar plot that shows the total visit time for each value of \"note\", and a table showing corresponding data."
   ]
  },
  {
   "cell_type": "markdown",
   "id": "65be2da5-47ff-4d3d-9d44-4234f59d53de",
   "metadata": {},
   "source": [
    "Write the function to create the plot:"
   ]
  },
  {
   "cell_type": "code",
   "execution_count": null,
   "id": "137e24f2-8ff0-40a9-ab8c-31dbf20273d1",
   "metadata": {
    "tags": []
   },
   "outputs": [],
   "source": [
    "def create_visit_time_by_activity_bars(visits):\n",
    "    \"\"\"Create a bar plot showing how much time was used in each activity.\n",
    "\n",
    "    Parameters\n",
    "    ----------\n",
    "    visits : `pandas.DataFrame`\n",
    "        The visit data\n",
    "\n",
    "    Returns\n",
    "    -------\n",
    "    visit_time_by_activity_plot : `bokeh.models.plots.Plot`\n",
    "        The bokeh plot.\n",
    "    \"\"\"\n",
    "    accumulated_time = visits.groupby(\"note\")[\"visitTime\"].sum().reset_index()\n",
    "    plot = bokeh.plotting.figure(\n",
    "        title=\"Accumulated time by activity\",\n",
    "        y_range=accumulated_time.note,\n",
    "        x_axis_label=\"Total visit time (seconds)\",\n",
    "        y_axis_label=\"Activity\",\n",
    "    )\n",
    "    plot.hbar(right=\"visitTime\", y=\"note\", height=0.8, source=accumulated_time)\n",
    "    return plot"
   ]
  },
  {
   "cell_type": "markdown",
   "id": "d1a5b5be-f95e-49bb-9b5c-d8f4d6161969",
   "metadata": {},
   "source": [
    "Now write a function to create the table. The `pn.widgets.Tabulator` provides a nice iterface to `pandas.DataFrames`:"
   ]
  },
  {
   "cell_type": "code",
   "execution_count": null,
   "id": "7a7b21e3-3453-4a48-9db3-adaacb67f944",
   "metadata": {
    "tags": []
   },
   "outputs": [],
   "source": [
    "def create_activity_summary_table(visits):\n",
    "    note_block = np.where(visits[\"note\"].shift() != visits[\"note\"], 1, 0).cumsum()\n",
    "\n",
    "    def unique_bands(bands):\n",
    "        these_bands = \", \".join(b for b in \"ugrizy\" if b in list(bands))\n",
    "        return these_bands\n",
    "\n",
    "    activity_summary = (\n",
    "        visits.reset_index()\n",
    "        .groupby(note_block)\n",
    "        .agg(\n",
    "            {\n",
    "                \"start_date\": \"min\",\n",
    "                \"note\": \"first\",\n",
    "                \"observationId\": \"count\",\n",
    "                \"visitTime\": \"sum\",\n",
    "                \"filter\": unique_bands,\n",
    "                \"airmass\": \"max\",\n",
    "                \"moonDistance\": \"min\",\n",
    "                \"sunAlt\": \"max\",\n",
    "            }\n",
    "        )\n",
    "    )\n",
    "\n",
    "    titles = {\n",
    "        \"note\": \"activity\",\n",
    "        \"observationId\": \"# visits\",\n",
    "        \"visitTime\": \"duration (s)\",\n",
    "        \"filter\": \"filters\",\n",
    "        \"start_date\": \"start time (UTC)\",\n",
    "        \"airmass\": \"max airmass\",\n",
    "        \"moonDistance\": \"min moon sep.\",\n",
    "        \"sunAlt\": \"max sun alt\",\n",
    "    }\n",
    "\n",
    "    table_widget = pn.widgets.Tabulator(\n",
    "        activity_summary, titles=titles, show_index=False\n",
    "    )\n",
    "    return table_widget"
   ]
  },
  {
   "cell_type": "markdown",
   "id": "961047a8-ef08-4193-9f3a-875d3b5ad6ce",
   "metadata": {},
   "source": [
    "Now build a subclass of `schedview.app.prenight.prenight.Prenight` to add this new tab. The elemens in the new subclass should override or add three new elements:\n",
    "\n",
    "1. Override the `shown_tabs` class member in `Prenight` to include your new plot in the list of tabs. The `objects` argument of `param.ListSelector` includes the names of all tabs which can be included when creating a dashboard, and the `default` argument lists the tabs that will be shown if your subclass is instantiated without the `shown_tabs` argument being set.\n",
    "2. Create methods that returns an instances of `panel.Pane` what wrap a calls to the functions we made above. Wrap them with `@param.depends` decorators so that the plots will get updated when new visits are loaded.\n",
    "3. Replace `initialize_tab_contents` from the parent class with an implementation that includes the new plot."
   ]
  },
  {
   "cell_type": "code",
   "execution_count": null,
   "id": "4dfc7ccf-3127-4bbb-9657-6fe6b8cb9081",
   "metadata": {
    "tags": []
   },
   "outputs": [],
   "source": [
    "class PrenightWithActivityTab(schedview.app.prenight.prenight.Prenight):\n",
    "    # Define which tabs should be shown.\n",
    "    # The name for your new tab should be included in\n",
    "    # both the default and objects list to be visible\n",
    "    # by default.\n",
    "    shown_tabs = param.ListSelector(\n",
    "        default=[\n",
    "            \"Azimuth and altitude\",\n",
    "            \"Airmass vs. time\",\n",
    "            \"Sky maps\",\n",
    "            \"Table of visits\",\n",
    "            \"Reward plots\",\n",
    "            \"Activities\",\n",
    "        ],\n",
    "        objects=[\n",
    "            \"Azimuth and altitude\",\n",
    "            \"Airmass vs. time\",\n",
    "            \"Sky maps\",\n",
    "            \"Table of visits\",\n",
    "            \"Reward plots\",\n",
    "            \"Visit explorer\",\n",
    "            \"Activities\",\n",
    "        ],\n",
    "        doc=\"The names of the tabs to show.\",\n",
    "    )\n",
    "\n",
    "    # If you plot needs to be update when the data is changed\n",
    "    # e.g. if a new set of data is loaded, list the member\n",
    "    # in the @param.depends decorator\n",
    "    @param.depends(\n",
    "        \"_visits\",\n",
    "    )\n",
    "    def make_activity_bars(self):\n",
    "        # The dashboard may not have any loaded visits, for example\n",
    "        # when first loaded, so handle that situation gracefully\n",
    "        if self._visits is None:\n",
    "            return \"No visits are loaded\"\n",
    "\n",
    "        return create_visit_time_by_activity_bars(self._visits)\n",
    "\n",
    "    @param.depends(\n",
    "        \"_visits\",\n",
    "    )\n",
    "    def make_activity_summary_table(self):\n",
    "        # The dashboard may not have any loaded visits, for example\n",
    "        # when first loaded, so handle that situation gracefully\n",
    "        if self._visits is None:\n",
    "            return \"No visits are loaded\"\n",
    "\n",
    "        return create_activity_summary_table(self._visits)\n",
    "\n",
    "    def initialize_tab_contents(self):\n",
    "        # Start with the dictionary with the tabs defined\n",
    "        # in base class.\n",
    "        tab_contents = super().initialize_tab_contents()\n",
    "\n",
    "        # Add your new plot to this dictionary\n",
    "        new_tab_name = \"Activities\"\n",
    "        tab_contents[new_tab_name] = pn.Row(\n",
    "            pn.param.ParamMethod(self.make_activity_bars, loading_indicator=True),\n",
    "            pn.param.ParamMethod(\n",
    "                self.make_activity_summary_table, loading_indicator=True\n",
    "            ),\n",
    "        )\n",
    "\n",
    "        return tab_contents"
   ]
  },
  {
   "cell_type": "markdown",
   "id": "9fc6e593-7199-4b34-8125-a3fdcaf89970",
   "metadata": {},
   "source": [
    "## Try out our new dashboard"
   ]
  },
  {
   "cell_type": "markdown",
   "id": "9ed17f90-0d61-428b-97e0-7e35a1e48d7e",
   "metadata": {},
   "source": [
    "Load some sample data:"
   ]
  },
  {
   "cell_type": "code",
   "execution_count": null,
   "id": "ba41ef2f-d7fb-4f20-993e-a5fdbf49c585",
   "metadata": {
    "tags": []
   },
   "outputs": [],
   "source": [
    "sample_data_dir = importlib.resources.files(\"schedview\").joinpath(\"data\")\n",
    "sample_opsim_db = str(sample_data_dir.joinpath(\"sample_opsim.db\"))\n",
    "sample_scheduler_pickle = str(sample_data_dir.joinpath(\"sample_scheduler.pickle.xz\"))"
   ]
  },
  {
   "cell_type": "markdown",
   "id": "e1a7481f-8fc3-4a73-b0ba-388edf7a449d",
   "metadata": {},
   "source": [
    "Get the date the sample visits start on:"
   ]
  },
  {
   "cell_type": "code",
   "execution_count": null,
   "id": "64fcadc6-2b71-4a95-bcb9-c81071ff8b2f",
   "metadata": {
    "tags": []
   },
   "outputs": [],
   "source": [
    "def get_sim_start_date(opsim_fname):\n",
    "    opsim = schedview.collect.opsim.read_opsim(opsim_fname)\n",
    "    start_mjd = opsim.observationStartMJD.min()\n",
    "    start_datetime_utc = Time(start_mjd, format=\"mjd\").datetime\n",
    "    night_date = (\n",
    "        pd.Timestamp(start_datetime_utc, tz=\"UTC\")\n",
    "        .tz_convert(\"Chile/Continental\")\n",
    "        .date()\n",
    "    )\n",
    "    return night_date\n",
    "\n",
    "\n",
    "night_date = get_sim_start_date(sample_opsim_db)\n",
    "night_date"
   ]
  },
  {
   "cell_type": "markdown",
   "id": "dd29a433-fc70-4959-86ef-0eac7c5dcef3",
   "metadata": {},
   "source": [
    "Actually show our dashboard:"
   ]
  },
  {
   "cell_type": "code",
   "execution_count": null,
   "id": "faa4d70c-497b-4aea-ade6-2a0f9256d4b8",
   "metadata": {
    "tags": []
   },
   "outputs": [],
   "source": [
    "prenight = PrenightWithActivityTab()\n",
    "pn_app = prenight.make_app(\n",
    "    night_date,\n",
    "    opsim_db=sample_opsim_db,\n",
    "    scheduler=sample_scheduler_pickle,\n",
    ")\n",
    "pn_app"
   ]
  },
  {
   "cell_type": "code",
   "execution_count": null,
   "id": "fcbbe680-41a3-47a8-a831-615c6537d422",
   "metadata": {},
   "outputs": [],
   "source": []
  }
 ],
 "metadata": {
  "kernelspec": {
   "display_name": "schedview",
   "language": "python",
   "name": "schedview"
  },
  "language_info": {
   "codemirror_mode": {
    "name": "ipython",
    "version": 3
   },
   "file_extension": ".py",
   "mimetype": "text/x-python",
   "name": "python",
   "nbconvert_exporter": "python",
   "pygments_lexer": "ipython3",
   "version": "3.11.4"
  }
 },
 "nbformat": 4,
 "nbformat_minor": 5
}
