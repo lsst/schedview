{
 "cells": [
  {
   "cell_type": "markdown",
   "id": "6c07674a-60c8-4b39-a5d8-cc8f734ac0f5",
   "metadata": {
    "execution": {
     "iopub.execute_input": "2024-11-19T15:56:00.595069Z",
     "iopub.status.busy": "2024-11-19T15:56:00.594787Z",
     "iopub.status.idle": "2024-11-19T15:56:00.597277Z",
     "shell.execute_reply": "2024-11-19T15:56:00.596904Z",
     "shell.execute_reply.started": "2024-11-19T15:56:00.595052Z"
    }
   },
   "source": [
    "# A Developer's Introduction to `schedview`"
   ]
  },
  {
   "cell_type": "markdown",
   "id": "b6a9f65d-be9a-4bd3-bca0-12a6c4356b66",
   "metadata": {
    "execution": {
     "iopub.execute_input": "2024-11-19T15:56:38.275156Z",
     "iopub.status.busy": "2024-11-19T15:56:38.274870Z",
     "iopub.status.idle": "2024-11-19T15:56:38.277387Z",
     "shell.execute_reply": "2024-11-19T15:56:38.277011Z",
     "shell.execute_reply.started": "2024-11-19T15:56:38.275139Z"
    }
   },
   "source": [
    "## Notebook setup"
   ]
  },
  {
   "cell_type": "markdown",
   "id": "e21836fd-9b2c-40f4-ba2b-95fb16485aca",
   "metadata": {},
   "source": [
    "### Notebook formatting\n",
    "\n",
    "`lab_black` is nice for notebook development, but remove or comment it out when running the notebook in Times Square."
   ]
  },
  {
   "cell_type": "code",
   "execution_count": null,
   "id": "c688887f-b616-4fbb-b17b-f61c76c6512c",
   "metadata": {},
   "outputs": [],
   "source": [
    "%load_ext lab_black"
   ]
  },
  {
   "cell_type": "code",
   "execution_count": null,
   "id": "88a336a7-73b2-4b0e-b59c-d480c59a49f0",
   "metadata": {},
   "outputs": [],
   "source": [
    "%load_ext autoreload"
   ]
  },
  {
   "cell_type": "code",
   "execution_count": null,
   "id": "6f1a6933-072a-4fc8-9bb5-0df287483119",
   "metadata": {},
   "outputs": [],
   "source": [
    "%autoreload 2"
   ]
  },
  {
   "cell_type": "markdown",
   "id": "b2b7af6a-5fc2-4024-b68b-3eb94d4137d6",
   "metadata": {
    "execution": {
     "iopub.execute_input": "2024-11-19T15:56:38.275156Z",
     "iopub.status.busy": "2024-11-19T15:56:38.274870Z",
     "iopub.status.idle": "2024-11-19T15:56:38.277387Z",
     "shell.execute_reply": "2024-11-19T15:56:38.277011Z",
     "shell.execute_reply.started": "2024-11-19T15:56:38.275139Z"
    }
   },
   "source": [
    "### Development version of modules\n",
    "\n",
    "At this stage of the porject, the versions of `schedview` and the scheduler-related modules in the defaul `LSST` envionment at the USDF are usually significantly out of date.\n",
    "\n",
    "So, to get the latest versions, check out the versions you want, build them, and modify the path to point to them. For example, if your development directories are in `/sdf/data/rubin/user/${USER}/devel`, then you can set the modules you want to load devel versions of, then add the relevant entries to the path:"
   ]
  },
  {
   "cell_type": "code",
   "execution_count": null,
   "id": "65f90576-9dde-4730-bbb3-c34c234be818",
   "metadata": {},
   "outputs": [],
   "source": [
    "# To change which devel modules to use, just comment or uncomment relevant elements in this list:\n",
    "devel_module_names = [\n",
    "    #    'uranography',\n",
    "    \"rubin_scheduler\",\n",
    "    \"rubin_sim\",\n",
    "    \"schedview\",\n",
    "]\n",
    "\n",
    "import os\n",
    "import sys\n",
    "import pwd\n",
    "from pathlib import Path\n",
    "\n",
    "username = pwd.getpwuid(os.getuid())[0]\n",
    "devel_module_path = Path(\"/sdf/data/rubin/user\").joinpath(username, \"devel\")\n",
    "for module_name in devel_module_names:\n",
    "    sys.path.insert(0, devel_module_path.joinpath(module_name).as_posix())"
   ]
  },
  {
   "cell_type": "markdown",
   "id": "af5457cd-ba92-4f93-aae6-fb05113e460d",
   "metadata": {},
   "source": [
    "### Import necessary modules"
   ]
  },
  {
   "cell_type": "code",
   "execution_count": null,
   "id": "82205d7a-2682-46fb-ba2b-fc9f50859ec8",
   "metadata": {},
   "outputs": [],
   "source": [
    "import pandas as pd\n",
    "import warnings\n",
    "import datetime\n",
    "import astropy\n",
    "import astropy.time\n",
    "import bokeh\n",
    "import bokeh.io\n",
    "import schedview\n",
    "import erfa\n",
    "import uranography.api\n",
    "import rubin_sim\n",
    "import rubin_scheduler\n",
    "import schedview\n",
    "import schedview.collect\n",
    "import schedview.collect.visits\n",
    "import schedview.plot\n",
    "from IPython.display import HTML, display, Markdown, HTML"
   ]
  },
  {
   "cell_type": "markdown",
   "id": "895865ba-e4d4-4737-a0f0-9bec411d73a1",
   "metadata": {},
   "source": [
    "### Supress benign astropy warnings\n",
    "\n",
    "In simulations, we use dates the astropy finds suspicious, or can't do \"proper\" sidereal time conversion for. Ignore."
   ]
  },
  {
   "cell_type": "code",
   "execution_count": null,
   "id": "5867b757-9883-40bf-b74f-394a325fc0e1",
   "metadata": {},
   "outputs": [],
   "source": [
    "# Degraded IERS accuracy is never going to be important for these figures.\n",
    "\n",
    "# If IERS degraded accuracy encountered, don't fail, just keep going.\n",
    "astropy.utils.iers.conf.iers_degraded_accuracy = \"ignore\"\n",
    "\n",
    "# Don't even complain.\n",
    "warnings.filterwarnings(\n",
    "    \"ignore\",\n",
    "    category=astropy.utils.exceptions.AstropyWarning,\n",
    "    message=\"Tried to get polar motions for times after IERS data is valid. Defaulting to polar motion from the 50-yr mean for those. This may affect precision at the arcsec level. Please check your astropy.utils.iers.conf.iers_auto_url and point it to a newer version if necessary.\",\n",
    ")\n",
    "\n",
    "# In simulations, we go far enough into the future that the erfa module finds it \"dubious\".\n",
    "# Keep the complaints quiet.\n",
    "warnings.filterwarnings(\n",
    "    \"ignore\",\n",
    "    category=erfa.ErfaWarning,\n",
    "    message=r\".*dubious year.*\",\n",
    ")"
   ]
  },
  {
   "cell_type": "markdown",
   "id": "0bb0afe0-5340-4a16-a95c-58ea3c1108cd",
   "metadata": {},
   "source": [
    "### Support the display of plots in the jupyter notebook"
   ]
  },
  {
   "cell_type": "markdown",
   "id": "4ee3d706-ac7a-4d62-9f3b-df6255038f50",
   "metadata": {},
   "source": [
    "#### Support display of `bokeh` plots"
   ]
  },
  {
   "cell_type": "code",
   "execution_count": null,
   "id": "7894ed05-9658-42a6-b900-79aaef89bdbb",
   "metadata": {},
   "outputs": [],
   "source": [
    "bokeh.io.output_notebook()"
   ]
  },
  {
   "cell_type": "markdown",
   "id": "ad4ad7ca-c015-4cb0-93b1-e07aaef57f2a",
   "metadata": {},
   "source": [
    "#### Support display of `matplotlib` plots"
   ]
  },
  {
   "cell_type": "code",
   "execution_count": null,
   "id": "b1d4ecd5-b26b-439d-ad51-4d2d78630221",
   "metadata": {},
   "outputs": [],
   "source": [
    "%matplotlib inline"
   ]
  },
  {
   "cell_type": "markdown",
   "id": "cbc242c2-dfab-4567-81d2-ef3e247204b3",
   "metadata": {
    "execution": {
     "iopub.execute_input": "2024-11-19T16:43:56.969902Z",
     "iopub.status.busy": "2024-11-19T16:43:56.969439Z",
     "iopub.status.idle": "2024-11-19T16:43:56.973070Z",
     "shell.execute_reply": "2024-11-19T16:43:56.972498Z",
     "shell.execute_reply.started": "2024-11-19T16:43:56.969875Z"
    }
   },
   "source": [
    "## Dealing with dayobs\n",
    "\n",
    "`schedview` has a tool for dealing with the day of observation, as defined in SITCOMTM-032:\n",
    "\n",
    "> A natural number representing the observation day (in timezone UTC-12:00) when\n",
    "the takeImages command began executing. \n"
   ]
  },
  {
   "cell_type": "markdown",
   "id": "07ea7c29-b186-4e93-9294-9857e9ec0cb3",
   "metadata": {
    "execution": {
     "iopub.execute_input": "2024-11-19T16:48:05.129153Z",
     "iopub.status.busy": "2024-11-19T16:48:05.129025Z",
     "iopub.status.idle": "2024-11-19T16:48:05.154611Z",
     "shell.execute_reply": "2024-11-19T16:48:05.154167Z",
     "shell.execute_reply.started": "2024-11-19T16:48:05.129140Z"
    }
   },
   "source": [
    "In instance of `schedview.DayObs` can be created either from any of several representations of a date:"
   ]
  },
  {
   "cell_type": "code",
   "execution_count": null,
   "id": "6799638d-15e2-4456-909c-a39881118764",
   "metadata": {},
   "outputs": [],
   "source": [
    "print(schedview.DayObs.from_date(\"20241123\"))"
   ]
  },
  {
   "cell_type": "code",
   "execution_count": null,
   "id": "3f4495b0-577a-4f46-bde7-50f7deb64afe",
   "metadata": {},
   "outputs": [],
   "source": [
    "print(schedview.DayObs.from_date(20241123))"
   ]
  },
  {
   "cell_type": "code",
   "execution_count": null,
   "id": "bac8fb3a-99ad-4970-880f-a17c72713be0",
   "metadata": {},
   "outputs": [],
   "source": [
    "print(schedview.DayObs.from_date(\"2023-11-23\"))"
   ]
  },
  {
   "cell_type": "code",
   "execution_count": null,
   "id": "7588c6f3-da27-405d-bf5e-0640cb67d715",
   "metadata": {},
   "outputs": [],
   "source": [
    "print(schedview.DayObs.from_date(60637, int_format=\"mjd\"))"
   ]
  },
  {
   "cell_type": "markdown",
   "id": "9cbd5ff3-ad73-4728-ab57-b01249aa81ee",
   "metadata": {},
   "source": [
    "You can also create an instance from a time, in which case it will create an instance of `DayObs` for the date on which that time falls."
   ]
  },
  {
   "cell_type": "code",
   "execution_count": null,
   "id": "5ae0681f-1029-45f8-bed0-faedc3f140b5",
   "metadata": {},
   "outputs": [],
   "source": [
    "print(schedview.DayObs.from_time(\"2024-11-24 08:00:00Z\"))"
   ]
  },
  {
   "cell_type": "code",
   "execution_count": null,
   "id": "88fd9e02-c0a9-472f-aabd-7060f71d7eb5",
   "metadata": {},
   "outputs": [],
   "source": [
    "print(schedview.DayObs.from_time(\"2024-11-24 04:00:00Z\"))"
   ]
  },
  {
   "cell_type": "markdown",
   "id": "2c915f4e-a345-4e13-8eab-2e92f46dc312",
   "metadata": {},
   "source": [
    "You can give it a time zone offset, following ISO-8601"
   ]
  },
  {
   "cell_type": "code",
   "execution_count": null,
   "id": "b77f3458-99b3-4ce1-88f6-797097524bc3",
   "metadata": {},
   "outputs": [],
   "source": [
    "print(schedview.DayObs.from_time(\"2024-11-24 08:00:00-4\"))"
   ]
  },
  {
   "cell_type": "code",
   "execution_count": null,
   "id": "16b1bad4-043f-4121-b0b0-bd16deddc18b",
   "metadata": {},
   "outputs": [],
   "source": [
    "print(schedview.DayObs.from_time(\"2024-11-24 04:00:00-4\"))"
   ]
  },
  {
   "cell_type": "markdown",
   "id": "1667ba52-7534-4f87-a27a-e3dc2a6c95ea",
   "metadata": {},
   "source": [
    "You can also use an instance of `astropy.Time`,  or a floating point Modified Julian Date:"
   ]
  },
  {
   "cell_type": "code",
   "execution_count": null,
   "id": "7b27efef-e69f-45f6-aa8a-a2898af6b606",
   "metadata": {},
   "outputs": [],
   "source": [
    "t = astropy.time.Time(\"2024-11-24 08:00:00Z\")\n",
    "print(schedview.DayObs.from_time(t))"
   ]
  },
  {
   "cell_type": "markdown",
   "id": "46e32908-080a-4120-b536-9d7df5f20ce5",
   "metadata": {},
   "source": [
    "python's `datetime.datetime`:"
   ]
  },
  {
   "cell_type": "code",
   "execution_count": null,
   "id": "d0e599f7-8e07-4a98-975e-f8fbd08e633a",
   "metadata": {},
   "outputs": [],
   "source": [
    "t = datetime.datetime(2024, 11, 24, 8, 0, 0, tzinfo=datetime.UTC)\n",
    "print(schedview.DayObs.from_time(t))"
   ]
  },
  {
   "cell_type": "markdown",
   "id": "3efb6ae0-54cb-4460-9be1-bcd3f89beda3",
   "metadata": {},
   "source": [
    "or a floating point MJD (interperted in UTC, such that floating point MJDs early in the date correspend to the integer MJD of the day before):"
   ]
  },
  {
   "cell_type": "code",
   "execution_count": null,
   "id": "0775142b-dca3-4b96-b5f1-511dedff1ad1",
   "metadata": {},
   "outputs": [],
   "source": [
    "day_obs = schedview.DayObs.from_time(60638.2)\n",
    "print(day_obs, day_obs.mjd)"
   ]
  },
  {
   "cell_type": "markdown",
   "id": "6e0fbb71-0b06-417f-87e2-bf03507239f7",
   "metadata": {},
   "source": [
    "An instance of `schedview.DayObs` can provide the date in a variety of formats:"
   ]
  },
  {
   "cell_type": "code",
   "execution_count": null,
   "id": "46b5672f-08bb-4a80-83fd-4bce39baadd3",
   "metadata": {},
   "outputs": [],
   "source": [
    "day_obs = schedview.DayObs.from_date(\"2023-11-23\")\n",
    "\n",
    "print(\"day_obs.yyyymmdd:\", day_obs.yyyymmdd, type(day_obs.yyyymmdd))\n",
    "print(\"day_obs.mjd:\", day_obs.mjd, type(day_obs.mjd))\n",
    "print(\"str(day_obs)\", str(day_obs), type(str(day_obs)))\n",
    "print(\"day_obs.date\", day_obs.date, type(day_obs.date))\n",
    "print(\"day_obs.start\", day_obs.start, type(day_obs.start))\n",
    "print(\"day_obs.end\", day_obs.end, type(day_obs.end))"
   ]
  },
  {
   "cell_type": "markdown",
   "id": "edd2a2ce-5a63-4780-b407-c15437388244",
   "metadata": {},
   "source": [
    "## Overall architecture of creating a plot"
   ]
  },
  {
   "cell_type": "markdown",
   "id": "5c5738ff-5b40-498d-803b-989d767caeee",
   "metadata": {},
   "source": [
    "See the [architecture overview page](https://schedview.lsst.io/architecture.html) in the schedview documentation."
   ]
  },
  {
   "cell_type": "markdown",
   "id": "606f3aca-e88d-4a1c-97b1-0024cd4569ba",
   "metadata": {},
   "source": [
    "## Tables of visits\n",
    "\n",
    "`schedview` can load tables of visits (represented as `pandas.DataFrame`s) either from the ConsDB or an opsim database. It can also use `maf` stackers (usually defined in `rubin_sim`) to supplement the columns that come directly from those sources.\n",
    "There are three tools in `schedview` that return such tables:\n",
    "- `schedview.collect.opsim.read_opsim`, which reads visits from an `opsim` database\n",
    "- `schedview.collect.consdb.read_consdb`, which queries the consdb.\n",
    "- `schedview.collect.visits.read_visits` is a more general interface which tries to automatically determine whether to query the `opsim` database for a baseline simulation or the consdb for a specific telescope, and calls either `schedview.collect.opsim.read_opsim` or `schedview.collect.consdb.read_consdb` to read visits *for one night*.\n",
    "\n",
    "A number of other `schedview` functions expect visit tables in the form returned by these functions. "
   ]
  },
  {
   "cell_type": "markdown",
   "id": "96fb031d-d1fe-4598-90c8-0b18badcfadc",
   "metadata": {},
   "source": [
    "### Reading visits from an `opsim` database\n",
    "\n",
    "`schedview.collect.opsim.read_opsim` uses `rubin_sim.maf.get_sim_data` to load data visit, and returns it as a `pandas.DataFrame`."
   ]
  },
  {
   "cell_type": "code",
   "execution_count": null,
   "id": "44bfaaa2-5f71-4097-b9ad-d85294fa9c27",
   "metadata": {},
   "outputs": [],
   "source": [
    "visits = schedview.collect.opsim.read_opsim(\n",
    "    opsim_uri=\"/sdf/group/rubin/web_data/sim-data/sims_featureScheduler_runs3.5/baseline/baseline_v3.5_10yrs.db\",\n",
    "    start_time=astropy.time.Time(\"2026-01-01 12:00:00Z\"),\n",
    "    end_time=astropy.time.Time(\"2026-01-02 12:00:00Z\"),\n",
    ")\n",
    "visits.head()"
   ]
  },
  {
   "cell_type": "markdown",
   "id": "eb3e88dc-fdaa-40dc-9c27-b5aaa49e5b77",
   "metadata": {},
   "source": [
    "Keywords not recognized by the `read_opsim` function itself are passed to `rubin_sim.maf.get_sim_data`.\n",
    "This can be used, for example, to apply `maf` stackers:"
   ]
  },
  {
   "cell_type": "code",
   "execution_count": null,
   "id": "66164e47-8a03-4e63-8c0c-531e9978eabe",
   "metadata": {},
   "outputs": [],
   "source": [
    "visits = schedview.collect.opsim.read_opsim(\n",
    "    opsim_uri=\"/sdf/group/rubin/web_data/sim-data/sims_featureScheduler_runs3.5/baseline/baseline_v3.5_10yrs.db\",\n",
    "    start_time=astropy.time.Time(\"2026-01-01 12:00:00Z\"),\n",
    "    end_time=astropy.time.Time(\"2026-01-02 12:00:00Z\"),\n",
    "    stackers=[rubin_sim.maf.HourAngleStacker()],\n",
    ")\n",
    "visits.loc[:, [\"observationStartMJD\", \"fieldRA\", \"fieldDec\", \"filter\", \"HA\"]].head()"
   ]
  },
  {
   "cell_type": "markdown",
   "id": "83fc7b17-32fe-41a1-8dbd-88e6d19e0b24",
   "metadata": {},
   "source": [
    "A few `schedview` tools that take these tables of visits as arguments expect columns created using the stackers defined in `schedview.collect.visits.NIGHT_STACKERS`,\n",
    "such that the `visits` table should be loaded thus:"
   ]
  },
  {
   "cell_type": "code",
   "execution_count": null,
   "id": "bc0589a1-c05e-45dc-a100-5e8abd03b0a7",
   "metadata": {},
   "outputs": [],
   "source": [
    "visits = schedview.collect.opsim.read_opsim(\n",
    "    opsim_uri=\"/sdf/group/rubin/web_data/sim-data/sims_featureScheduler_runs3.5/baseline/baseline_v3.5_10yrs.db\",\n",
    "    start_time=astropy.time.Time(\"2026-01-01 12:00:00Z\"),\n",
    "    end_time=astropy.time.Time(\"2026-01-02 12:00:00Z\"),\n",
    "    stackers=schedview.collect.visits.NIGHT_STACKERS,\n",
    ")"
   ]
  },
  {
   "cell_type": "markdown",
   "id": "646ccf7e-deb1-4015-8a79-c7f0ec580738",
   "metadata": {},
   "source": [
    "### Reading visits from the ConsDB\n",
    "\n",
    "Visits for a night or set of nights can also be queried from the ConsDB.\n",
    "The columns returned include *both* the columns are they are natively named in the ConsDB, *and also* columns that match what `opsim` produces.\n",
    "The result is redundant table: `fieldRA` and `s_ra` have the same data, for example.\n",
    "But, this redundancy allows the table to be used where names according to what is in opsim are expected."
   ]
  },
  {
   "cell_type": "code",
   "execution_count": null,
   "id": "d0c6dcbd-feb5-4c99-9a79-7dff02ab630b",
   "metadata": {},
   "outputs": [],
   "source": [
    "visits = schedview.collect.consdb.read_consdb(\n",
    "    \"lsstcomcam\",\n",
    "    stackers=schedview.collect.visits.NIGHT_STACKERS,\n",
    "    day_obs=\"2024-11-15\",\n",
    "    num_nights=1,\n",
    ")\n",
    "visits.head()"
   ]
  },
  {
   "cell_type": "markdown",
   "id": "4b8b8701-9467-4119-a294-61683676d816",
   "metadata": {
    "execution": {
     "iopub.execute_input": "2024-11-19T19:13:34.500836Z",
     "iopub.status.busy": "2024-11-19T19:13:34.500359Z",
     "iopub.status.idle": "2024-11-19T19:13:34.505291Z",
     "shell.execute_reply": "2024-11-19T19:13:34.504919Z",
     "shell.execute_reply.started": "2024-11-19T19:13:34.500818Z"
    }
   },
   "source": [
    "Note that `read_consdb` **does support** maf stackers."
   ]
  },
  {
   "cell_type": "markdown",
   "id": "e409b90b-7eeb-4b07-86dd-7d5a60de4727",
   "metadata": {},
   "source": [
    "### Generalize visit reading for a night\n",
    "\n",
    "A common interface to collect data for one night from either a baseline simulation or the ConsDB, depending on provided parameters, simplifies the composition of notebooks that support the user specifying either:"
   ]
  },
  {
   "cell_type": "markdown",
   "id": "91e357b4-c44b-4519-8e2b-42856b45f265",
   "metadata": {},
   "source": [
    "To get visits from `lsstcomcam` from the ConsDB:"
   ]
  },
  {
   "cell_type": "code",
   "execution_count": null,
   "id": "b7511770-ef5a-449e-adc2-dafd817d0cbd",
   "metadata": {},
   "outputs": [],
   "source": [
    "visit_source = \"lsstcomcam\"\n",
    "visits = schedview.collect.visits.read_visits(\n",
    "    \"2024-11-15\", visit_source, stackers=schedview.collect.visits.NIGHT_STACKERS\n",
    ")\n",
    "visits.head()"
   ]
  },
  {
   "cell_type": "markdown",
   "id": "32f0e7ff-5ca9-4efe-b950-b31a2c8586de",
   "metadata": {},
   "source": [
    "To get visits from the 3.5 baseline:"
   ]
  },
  {
   "cell_type": "code",
   "execution_count": null,
   "id": "2e2c2b06-328b-467a-a8f6-70b9fcfe7e2f",
   "metadata": {},
   "outputs": [],
   "source": [
    "visit_source = \"3.5\"\n",
    "visits = schedview.collect.visits.read_visits(\n",
    "    \"2025-11-15\", visit_source, stackers=schedview.collect.visits.NIGHT_STACKERS\n",
    ")\n",
    "visits.head()"
   ]
  },
  {
   "cell_type": "markdown",
   "id": "d42bd19d-7d6d-4ed2-b4d2-529e52b6160b",
   "metadata": {},
   "source": [
    "## Displaying visits"
   ]
  },
  {
   "cell_type": "markdown",
   "id": "b544ba4e-0a44-4d59-a239-29d1bd63340d",
   "metadata": {},
   "source": [
    "### Text tables"
   ]
  },
  {
   "cell_type": "markdown",
   "id": "f7ca8610-5240-429f-9887-118df52ea4fa",
   "metadata": {},
   "source": [
    "The simplest way to show the visits table is using the standard `pandas` display function, but it is impracticle to display more than a small fraction of the table with it.\n",
    "`schedview` provides an additional tabular display for visits built on `bokeh`s `DataTable` tool.\n",
    "While the `DataTable` tool works in most notebook environments and within Times Square, it does not work correctly an the notebook aspect of the RSP (apparently due to a conflict with firefly)."
   ]
  },
  {
   "cell_type": "code",
   "execution_count": null,
   "id": "cabb149e-c497-4008-9cbb-71e4d82536e6",
   "metadata": {},
   "outputs": [],
   "source": [
    "%aimport schedview.examples.visittable\n",
    "%psource schedview.examples.visittable"
   ]
  },
  {
   "cell_type": "code",
   "execution_count": null,
   "id": "2d813567-c7d7-4f7c-a33b-65db7a77d1df",
   "metadata": {},
   "outputs": [],
   "source": [
    "p = schedview.examples.visittable.visit_table(\"3.5\", \"2025-11-15\")\n",
    "bokeh.io.show(p)"
   ]
  },
  {
   "cell_type": "markdown",
   "id": "5fa164e0-b715-4f44-b7c4-11beccd08931",
   "metadata": {},
   "source": [
    "### Mapping the visits on the sky"
   ]
  },
  {
   "cell_type": "code",
   "execution_count": null,
   "id": "73de3685-bf54-40de-a9ac-1aff521c0e05",
   "metadata": {},
   "outputs": [],
   "source": [
    "%aimport schedview.examples.visitmap\n",
    "%psource schedview.examples.visitmap"
   ]
  },
  {
   "cell_type": "code",
   "execution_count": null,
   "id": "aba286e0-02a6-4096-a3f6-6cdc7394b2db",
   "metadata": {},
   "outputs": [],
   "source": [
    "p = schedview.examples.visitmap.visit_map()\n",
    "bokeh.io.show(p)"
   ]
  },
  {
   "cell_type": "markdown",
   "id": "5eed6c8e-6496-475f-a368-7898a4aab94b",
   "metadata": {},
   "source": [
    "## Sun and moon positions"
   ]
  },
  {
   "cell_type": "code",
   "execution_count": null,
   "id": "bfb33a7e-36e7-4e90-849e-5b62f9aa6b5b",
   "metadata": {},
   "outputs": [],
   "source": [
    "%aimport schedview.examples.sunmoon\n",
    "%psource schedview.examples.sunmoon"
   ]
  },
  {
   "cell_type": "code",
   "execution_count": null,
   "id": "af361b85-0488-4bbf-a420-9ebe74f72102",
   "metadata": {},
   "outputs": [],
   "source": [
    "schedview.examples.sunmoon.sun_moon_positions()"
   ]
  },
  {
   "cell_type": "markdown",
   "id": "ba11d59c-f0a0-46f4-bd28-67a42d8db70e",
   "metadata": {},
   "source": [
    "## Overhead summary table"
   ]
  },
  {
   "cell_type": "code",
   "execution_count": null,
   "id": "2994a5fd-1638-4dca-9125-5d0a5ceadfbf",
   "metadata": {},
   "outputs": [],
   "source": [
    "%aimport schedview.examples.overheadtable\n",
    "%psource schedview.examples.overheadtable"
   ]
  },
  {
   "cell_type": "code",
   "execution_count": null,
   "id": "ca38a973-2774-47d1-8138-c867f3389968",
   "metadata": {},
   "outputs": [],
   "source": [
    "summary_table = schedview.examples.overheadtable.overhead_table()\n",
    "display(HTML(summary_table))"
   ]
  },
  {
   "cell_type": "code",
   "execution_count": null,
   "id": "a580fe1c-7aa6-448c-9b10-dbcc54172723",
   "metadata": {},
   "outputs": [],
   "source": []
  }
 ],
 "metadata": {
  "kernelspec": {
   "display_name": "LSST",
   "language": "python",
   "name": "lsst"
  },
  "language_info": {
   "codemirror_mode": {
    "name": "ipython",
    "version": 3
   },
   "file_extension": ".py",
   "mimetype": "text/x-python",
   "name": "python",
   "nbconvert_exporter": "python",
   "pygments_lexer": "ipython3",
   "version": "3.11.9"
  }
 },
 "nbformat": 4,
 "nbformat_minor": 5
}
