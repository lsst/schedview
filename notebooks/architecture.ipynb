{
 "cells": [
  {
   "cell_type": "markdown",
   "id": "d969ae4c-51a4-49d3-89ab-17ed4a346cb4",
   "metadata": {},
   "source": [
    "# Architecture"
   ]
  },
  {
   "cell_type": "markdown",
   "id": "bf003f71-3fe6-4b1f-a3c2-cd704b4a09e6",
   "metadata": {},
   "source": [
    "This documentation was generated from a jupyter notebook, `architecture.ipynb`, which can be found in the `notebooks` directory of `schedview`."
   ]
  },
  {
   "cell_type": "markdown",
   "id": "2c2db32b-4e38-4e0a-b9ec-5be14e696350",
   "metadata": {},
   "source": [
    "Automatically format code in this notebook:"
   ]
  },
  {
   "cell_type": "code",
   "execution_count": null,
   "id": "577426b0-4256-4415-8281-3b5abc8e648c",
   "metadata": {
    "tags": []
   },
   "outputs": [],
   "source": [
    "%load_ext lab_black"
   ]
  },
  {
   "cell_type": "markdown",
   "id": "60a827cb-321b-46fe-beb3-bdc77fe07730",
   "metadata": {},
   "source": [
    "## Introduction\n",
    "\n",
    "The `schedview` module organizes code used to create scheduler visualizations into four submodules corresponding to different stages in transforming the data from a raw reference to a source into a useful visualization.\n",
    "These four stages are:\n",
    "\n",
    " - collection, which obtains the data from whatever resources are required;\n",
    " - computation, which transforms the data into values to be directly represented in the visualizatios;\n",
    " - plotting, which generates visualization objects; and\n",
    " - dashboard generation, which collects and displays visualizations in a web application\n",
    " \n",
    "This notebook walks through the process of creating a visualization, one stage at a time, using an example chosen to demonstrate the principles underlying the chosen architecture.\n",
    "\n",
    "In this example, we build a dashboard that shows the locations of minor planets (in equatorial coordinates) over a period of time.\n",
    "This application is outside the scope of the content intended to included in `schedview`, which only packages scheduler and progress related visualizations.\n",
    "`schedview`'s basic architecture, however, is applicable beyond its scope.\n",
    "This example was chosen because it is an application to real-world data that is complex enough to demonstrate all aspects of the architecture, and can be implemented in this architecture with a minimum of additional application-specific complexities that would distract from them."
   ]
  },
  {
   "cell_type": "markdown",
   "id": "54407c94-4798-46b6-ae93-052a503cd447",
   "metadata": {
    "execution": {
     "iopub.execute_input": "2023-09-26T15:40:26.833100Z",
     "iopub.status.busy": "2023-09-26T15:40:26.832830Z",
     "iopub.status.idle": "2023-09-26T15:40:26.835266Z",
     "shell.execute_reply": "2023-09-26T15:40:26.834917Z",
     "shell.execute_reply.started": "2023-09-26T15:40:26.833086Z"
    },
    "tags": []
   },
   "source": [
    "## Collection\n",
    "\n",
    "Code in the `schedview.collect` submodule retrieves the data to be visualized from wherever they originate.\n",
    "Typically, functions in `schedview.collect` take references to resources (e.g. file names or URLs) as arguments and return python objects."
   ]
  },
  {
   "cell_type": "markdown",
   "id": "1270820a-b44a-4fc7-9620-76ac39fcb1f0",
   "metadata": {},
   "source": [
    "For example, consider the function below, which reads orbital elements for minor planets from a file using the `skyfield` module:"
   ]
  },
  {
   "cell_type": "code",
   "execution_count": null,
   "id": "376b18b1-8b6b-4202-bdbb-c6e48b9c1946",
   "metadata": {
    "tags": []
   },
   "outputs": [],
   "source": [
    "import skyfield.api\n",
    "import skyfield.data.mpc\n",
    "\n",
    "\n",
    "def read_minor_planet_orbits(file_name):\n",
    "    with skyfield.api.load.open(file_name) as file_io:\n",
    "        minor_planets = skyfield.data.mpc.load_mpcorb_dataframe(file_io)\n",
    "    return minor_planets"
   ]
  },
  {
   "cell_type": "markdown",
   "id": "856402a1-3f09-4116-b4c3-c7ca947edb99",
   "metadata": {},
   "source": [
    "Take a look at what it does:"
   ]
  },
  {
   "cell_type": "code",
   "execution_count": null,
   "id": "f6cad042-d1d5-4abb-a47b-ec42f6b730a9",
   "metadata": {
    "tags": []
   },
   "outputs": [],
   "source": [
    "file_name = \"mpcorb_sample_big.dat\"\n",
    "minor_planet_orbits = read_minor_planet_orbits(file_name)\n",
    "minor_planet_orbits"
   ]
  },
  {
   "cell_type": "markdown",
   "id": "0ad3348a-d768-4169-b3db-5f8117f6e6a3",
   "metadata": {},
   "source": [
    "This code doesn't actually *do* anything to the data: it just retrieves it.\n",
    "When using `schedview` at sites that require different access methods, different implementations of the `collect` stage will be needed.\n",
    "If different sites with different access methods need to do the same cleaning, selection, or computation on the data, the implementation of such code within the `collection` submodule will hinder code reuse."
   ]
  },
  {
   "cell_type": "markdown",
   "id": "a19c55bb-6a4f-4714-a78c-046e20f20396",
   "metadata": {},
   "source": [
    "## Computation\n",
    "\n",
    "In instances where the data cannot be visualized directly as returned from the data source, any processing should be done using the `schedview.compute` submodule.\n",
    "\n",
    "For example, let's say we want to plot the positions of the minor planets whose orbital elements we loaded in the collection example above.\n",
    "We are not interested in the orbital elements directly, but rather the positions, so we need to actually derive the one from the other.\n",
    "So, we create a function in the `schedview.compute` submodule that drives the code to do the computation, and create an object suitable for passing as input to whatever module we are using for creating plots. (In this case, that's `bokeh`, but it could as easily have been `matplotlib`.)"
   ]
  },
  {
   "cell_type": "code",
   "execution_count": null,
   "id": "342d4062-c3f7-43d0-87f6-bb32f24e8f7b",
   "metadata": {
    "tags": []
   },
   "outputs": [],
   "source": [
    "import astropy.units as u\n",
    "from astropy.time import Time, TimeDelta\n",
    "from astropy.timeseries import TimeSeries\n",
    "import skyfield.api\n",
    "import skyfield.data.mpc\n",
    "from skyfield.constants import GM_SUN_Pitjeva_2005_km3_s2 as GM_SUN\n",
    "import bokeh.models\n",
    "\n",
    "\n",
    "def compute_minor_planet_positions(\n",
    "    minor_planet_orbits, start_mjd, end_mjd, time_step=7\n",
    "):\n",
    "    # Convert input fields into object appropriate for skyfield\n",
    "    timescale = skyfield.api.load.timescale()\n",
    "    start_ts = timescale.from_astropy(Time(start_mjd, format=\"mjd\"))\n",
    "    end_ts = timescale.from_astropy(Time(end_mjd, format=\"mjd\"))\n",
    "    n_samples = int((1 + end_mjd - start_mjd) / time_step)\n",
    "    sample_times = timescale.linspace(start_ts, end_ts, n_samples)\n",
    "\n",
    "    ephemeris = skyfield.api.load(\"de421.bsp\")\n",
    "    sun = ephemeris[\"sun\"]\n",
    "\n",
    "    position_data = {\"designation\": [], \"mjd\": [], \"ra\": [], \"decl\": [], \"distance\": []}\n",
    "    for _, orbit in minor_planet_orbits.iterrows():\n",
    "        orbit_rel_sun = skyfield.data.mpc.mpcorb_orbit(orbit, timescale, GM_SUN)\n",
    "        minor_planet = sun + orbit_rel_sun\n",
    "        for sample_time in sample_times:\n",
    "            ra, decl, distance = (\n",
    "                ephemeris[\"earth\"].at(sample_time).observe(minor_planet).radec()\n",
    "            )\n",
    "            position_data[\"designation\"].append(orbit[\"designation\"])\n",
    "            position_data[\"mjd\"].append(sample_time.to_astropy().mjd)\n",
    "            position_data[\"ra\"].append(ra._degrees)\n",
    "            position_data[\"decl\"].append(decl._degrees)\n",
    "            position_data[\"distance\"].append(distance.au)\n",
    "\n",
    "    position_ds = bokeh.models.ColumnDataSource(position_data)\n",
    "\n",
    "    return position_ds"
   ]
  },
  {
   "cell_type": "markdown",
   "id": "8bdf80ca-5e05-438c-b37a-bfce0760ebc7",
   "metadata": {},
   "source": [
    "Take a look at what it does:"
   ]
  },
  {
   "cell_type": "code",
   "execution_count": null,
   "id": "6efd69c7-ae89-489a-8c3f-d63be1d3c525",
   "metadata": {
    "tags": []
   },
   "outputs": [],
   "source": [
    "position_ds = compute_minor_planet_positions(minor_planet_orbits, 60200, 60366, 1)\n",
    "position_ds.to_df()"
   ]
  },
  {
   "cell_type": "markdown",
   "id": "bae9e1de-85d6-4222-a84b-ca2c7c8e4dd4",
   "metadata": {},
   "source": [
    "`schedview.compute` is not intended to hold processing code of general interest, but rather computation specific to the creation of scheduler visualizations.\n",
    "\n",
    "In the example above, the function itself did not implement the orbital calculations itself, but rather called the functionality in `skyfield`.\n",
    "On the other hand, it did include the data restructuring needed to apply the data in the format returned by the function in the collection step to `skyfield`, and transform the results into python objects well suited to being passed directly to the plotting tools being used.\n",
    "\n",
    "Even in instances specific to Rubin Observatory, the computation may be better collected in other modules (e.g. `rubin_sim`) or in their own, and then called by a thin driver in `schedview.compute`.\n",
    "\n",
    "When the computations are time-consuming, it may be better use separate processes to generate data products independenty of `schedview`, and then load these derived data products using tools in `schedview.collect`."
   ]
  },
  {
   "cell_type": "markdown",
   "id": "d18d7394-6889-4f34-85be-a0a0fdcfbac4",
   "metadata": {},
   "source": [
    "## Plotting\n",
    "\n",
    "Functions in the `schedview.plot` submodule create instances of visualization objects from the data, as provided either by the `schedview.collect` or `schedview.compute` (when necessary) submodules.\n",
    "\n",
    "These \"visualization objects\" can be anything that can be directly rendered in a jupyter notebook or by panel in a dashboard, including `matplotlib` figures, `bokeh` plots, plain HTML, `png` images, and many others."
   ]
  },
  {
   "cell_type": "markdown",
   "id": "c52eee95-9e0f-471e-9525-c0cc0fe26e78",
   "metadata": {},
   "source": [
    "This example creates a simple plot of the minor planet data, as generated above:"
   ]
  },
  {
   "cell_type": "code",
   "execution_count": null,
   "id": "3ae7a085-19ba-497d-8f64-e7bcc43e5b13",
   "metadata": {
    "tags": []
   },
   "outputs": [],
   "source": [
    "import bokeh.plotting\n",
    "import bokeh.palettes\n",
    "import bokeh.transform\n",
    "import numpy as np\n",
    "\n",
    "\n",
    "def map_minor_planet_positions(position_ds):\n",
    "    figure = bokeh.plotting.figure()\n",
    "\n",
    "    minor_planet_designations = np.unique(position_ds.data[\"designation\"])\n",
    "    cmap = bokeh.transform.factor_cmap(\n",
    "        \"designation\",\n",
    "        palette=bokeh.palettes.Category20[len(minor_planet_designations)],\n",
    "        factors=minor_planet_designations,\n",
    "    )\n",
    "\n",
    "    figure.scatter(\n",
    "        \"ra\", \"decl\", color=cmap, legend_field=\"designation\", source=position_ds\n",
    "    )\n",
    "    figure.title = \"Select minor planet positions\"\n",
    "    figure.yaxis.axis_label = \"Declination (degrees)\"\n",
    "    figure.xaxis.axis_label = \"R.A. (degrees)\"\n",
    "\n",
    "    return figure"
   ]
  },
  {
   "cell_type": "markdown",
   "id": "0af86715-a4e1-4822-9ed0-6bef27684756",
   "metadata": {},
   "source": [
    "Once again, we can display this directly within our notebook:"
   ]
  },
  {
   "cell_type": "code",
   "execution_count": null,
   "id": "0c76c402-9271-4076-8567-b251cc8c73cf",
   "metadata": {
    "tags": []
   },
   "outputs": [],
   "source": [
    "import bokeh.io\n",
    "\n",
    "# Add the jupyter extension that supports display of bokeh figures\n",
    "# This only needs to be done once, typically at the top of a notebook.\n",
    "bokeh.io.output_notebook()\n",
    "\n",
    "figure = map_minor_planet_positions(position_ds)\n",
    "bokeh.io.show(figure)"
   ]
  },
  {
   "cell_type": "markdown",
   "id": "8db45d94-be2d-4076-8c1a-30613dbf1b91",
   "metadata": {},
   "source": [
    "The `schedview` module holds plotting tools for specific instances of plots useful for studying the scheduler or survey progress.\n",
    "\n",
    "As was the case for functions in the `schedview.compute` submodule, functionality that is of interest beyond the scheduler should be extracted into a separate module.\n",
    "The `uranography` module is an example of where this has already been done."
   ]
  },
  {
   "cell_type": "markdown",
   "id": "d68d38db-e420-4ea3-800b-5c10d2b068b2",
   "metadata": {},
   "source": [
    "## Dashboard applications\n",
    "\n",
    "Together, a developer can use functions supplied by the `schedview.collect`, `schedview.compute`, and `schedview.plot` submodules to build plots in jupyter notebooks.\n",
    "Using `schedview` in this maximizes flexibility, allowing bespoke or alternate collection and processing between or instead of functions supplied by `schedview`, and the plots themselves can be extended and customized beyond what schedview provides using the relevant plotting libraries (`bokeh` or `matplotlib`).\n",
    "\n",
    "Often, though, standardized dashboards that show a set of visualizations easily is more useful, even at the expense of the full flexibility of a jupyter notebook.\n",
    "\n",
    "For this, dashboard applications can be created the `schedview.app` submodule. "
   ]
  },
  {
   "cell_type": "markdown",
   "id": "dd8105e9-dfe2-40c4-b6b4-3b049841e373",
   "metadata": {},
   "source": [
    "The suggested tool for building such applications is the creation of a `param.Parameterized` class displayed through a `panel` application.\n",
    "\n",
    "The class definition of a `param.Parameterized` subclass encodes dependencies between user supplied parameters, stages of processing, and the visualization ultimately produced."
   ]
  },
  {
   "cell_type": "markdown",
   "id": "ea1fbea2-8c46-40a6-bf65-e1294811d565",
   "metadata": {},
   "source": [
    "The `panel` and `param` documentation provides more complete explanation and tutorials.\n",
    "Note that there are alternate approaches to using `panel` to generate dashboards; this approach is covered by the [\"Declare UIs with Declarative API\"](https://panel.holoviz.org/how_to/param/index.html) section of the `panel` documentation.\n",
    "\n",
    "A full explanation of the `panel`'s declarative API is beyond the scope of this notebook, but `SimpleSampleDashboard` class below gives a simple example of how it works."
   ]
  },
  {
   "cell_type": "code",
   "execution_count": null,
   "id": "b882e276-e1c4-44e0-9bb2-4d0842d4f5b3",
   "metadata": {
    "tags": []
   },
   "outputs": [],
   "source": [
    "import param\n",
    "import panel as pn\n",
    "\n",
    "\n",
    "class SimpleSampleDashboard(param.Parameterized):\n",
    "    orbit_filename = param.FileSelector(\n",
    "        default=\"./mpcorb_sample_big.dat\",\n",
    "        path=\"./mpcorb_*.dat\",\n",
    "        doc=\"Data file with orbit parameters\",\n",
    "        label=\"Orbit data file\",\n",
    "    )\n",
    "\n",
    "    start_mjd = param.Number(\n",
    "        default=60200,\n",
    "        doc=\"Modified Julian Date of start of date window\",\n",
    "        label=\"Start MJD\",\n",
    "    )\n",
    "\n",
    "    end_mjd = param.Number(\n",
    "        default=60565, doc=\"Modified Julian Date of end of date window\", label=\"End MJD\"\n",
    "    )\n",
    "\n",
    "    orbits = param.Parameter()\n",
    "\n",
    "    positions = param.Parameter()\n",
    "\n",
    "    @param.depends(\"orbit_filename\", watch=True)\n",
    "    def update_orbits(self):\n",
    "        if self.orbit_filename is None:\n",
    "            print(\"No file supplied, not loading orbits\")\n",
    "            return\n",
    "\n",
    "        print(\"Updating orbits\")\n",
    "        self.orbits = read_minor_planet_orbits(self.orbit_filename)\n",
    "\n",
    "    @param.depends(\"orbits\", \"start_mjd\", \"end_mjd\", watch=True)\n",
    "    def update_positions(self):\n",
    "        if self.orbits is None:\n",
    "            print(\"No orbits, not updating positions\")\n",
    "            return\n",
    "\n",
    "        print(\"Updating positions\")\n",
    "        self.positions = compute_minor_planet_positions(\n",
    "            self.orbits, self.start_mjd, self.end_mjd, time_step=28\n",
    "        )\n",
    "\n",
    "    @param.depends(\"positions\")\n",
    "    def make_position_figure(self):\n",
    "        if self.positions is None:\n",
    "            return None\n",
    "\n",
    "        figure = map_minor_planet_positions(self.positions)\n",
    "        return figure\n",
    "\n",
    "    @classmethod\n",
    "    def make_app(cls):\n",
    "        simple_dashboard = cls()\n",
    "        simple_dashboard.update_orbits()\n",
    "\n",
    "        app = pn.Row(\n",
    "            pn.Param(\n",
    "                simple_dashboard, parameters=[\"orbit_filename\", \"start_mjd\", \"end_mjd\"]\n",
    "            ),\n",
    "            pn.param.ParamMethod(\n",
    "                simple_dashboard.make_position_figure, loading_indicator=True\n",
    "            ),\n",
    "        )\n",
    "        return app"
   ]
  },
  {
   "cell_type": "markdown",
   "id": "ff596e2b-a0ab-4926-aa11-9f91e68135c4",
   "metadata": {},
   "source": [
    "Now we can use the app within our notebook:"
   ]
  },
  {
   "cell_type": "code",
   "execution_count": null,
   "id": "f56774e5-aac8-4131-afa2-7b64dd19c53d",
   "metadata": {
    "tags": []
   },
   "outputs": [],
   "source": [
    "# Load the jupyter extension that allows the display of\n",
    "# panel dashboards within jupyter\n",
    "pn.extension()\n",
    "\n",
    "# Instantite the app\n",
    "app = SimpleSampleDashboard.make_app()\n",
    "\n",
    "# Actually display the app\n",
    "app"
   ]
  },
  {
   "cell_type": "markdown",
   "id": "d94d710d-802c-46af-a1da-ba70295e386f",
   "metadata": {},
   "source": [
    "## Making a stand-alone app\n",
    "\n",
    "To create a stand-alone app that can be run as its own web service, outside `jupyter`, a driver function needs to be added.\n",
    "\n",
    "For the above example, it would look something like this:"
   ]
  },
  {
   "cell_type": "code",
   "execution_count": null,
   "id": "f85923ff-14d1-4521-8180-823cb6654532",
   "metadata": {
    "tags": []
   },
   "outputs": [],
   "source": [
    "def main():\n",
    "    # In this trivial example, this extra declaration\n",
    "    # is pointless functionally. But, in a real app,\n",
    "    # you probably want to use something like this\n",
    "    # to make sure relevant configuration arguments\n",
    "    # get passed.\n",
    "    def make_app():\n",
    "        return SimpleSampleDashboard.make_app()\n",
    "\n",
    "    pn.serve(make_app, port=8080, title=\"Simple Sample Dashboard\")"
   ]
  },
  {
   "cell_type": "markdown",
   "id": "e3272a2c-1d48-4972-ab91-2a7c4ec40a82",
   "metadata": {},
   "source": [
    "Then, an entry point for the new dashboard can be added to `pyproject.toml` so that an executable to start the server is added to the path when the python module is installed."
   ]
  },
  {
   "cell_type": "code",
   "execution_count": null,
   "id": "7895fe24-8467-437f-8fcf-b3ffdfac32dc",
   "metadata": {},
   "outputs": [],
   "source": []
  }
 ],
 "metadata": {
  "kernelspec": {
   "display_name": "schedview",
   "language": "python",
   "name": "schedview"
  },
  "language_info": {
   "codemirror_mode": {
    "name": "ipython",
    "version": 3
   },
   "file_extension": ".py",
   "mimetype": "text/x-python",
   "name": "python",
   "nbconvert_exporter": "python",
   "pygments_lexer": "ipython3",
   "version": "3.11.4"
  }
 },
 "nbformat": 4,
 "nbformat_minor": 5
}
