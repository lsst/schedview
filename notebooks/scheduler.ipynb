{
 "cells": [
  {
   "cell_type": "markdown",
   "id": "51a0a75f-c62f-450d-b2c9-365f5ad6763f",
   "metadata": {},
   "source": [
    "## Notebook perparation"
   ]
  },
  {
   "cell_type": "markdown",
   "id": "9340f1ad-5d2c-4519-a65e-319c43d3774f",
   "metadata": {},
   "source": [
    "### Load (pre-import) jupyter extensions"
   ]
  },
  {
   "cell_type": "code",
   "execution_count": null,
   "id": "e98995d8-b751-40c1-a771-dab92b91b4e3",
   "metadata": {},
   "outputs": [],
   "source": [
    "%load_ext lab_black\n",
    "%load_ext autoreload\n",
    "%autoreload 1"
   ]
  },
  {
   "cell_type": "markdown",
   "id": "9f881118-4087-490a-9e31-b883e1136f8b",
   "metadata": {},
   "source": [
    "### Imports"
   ]
  },
  {
   "cell_type": "code",
   "execution_count": null,
   "id": "55808267-b849-450c-b6cd-8cf91d6ae85a",
   "metadata": {
    "tags": []
   },
   "outputs": [],
   "source": [
    "import warnings\n",
    "import math\n",
    "import re\n",
    "from tempfile import TemporaryDirectory\n",
    "from pathlib import Path\n",
    "import panel as pn\n",
    "import numpy as np\n",
    "import pandas as pd\n",
    "import dateutil\n",
    "from datetime import timezone\n",
    "from zoneinfo import ZoneInfo\n",
    "import bokeh\n",
    "from astropy.utils.iers import IERSDegradedAccuracyWarning"
   ]
  },
  {
   "cell_type": "code",
   "execution_count": null,
   "id": "697c700d-7a76-48c8-a810-60b9db99692d",
   "metadata": {
    "tags": []
   },
   "outputs": [],
   "source": [
    "from astropy.time import Time, TimeDelta, TimezoneInfo\n",
    "import astropy.coordinates"
   ]
  },
  {
   "cell_type": "code",
   "execution_count": null,
   "id": "2d0529cc-f450-4a89-8a02-b34ab198e97f",
   "metadata": {
    "tags": []
   },
   "outputs": [],
   "source": [
    "from rubin_sim.scheduler.example import example_scheduler\n",
    "from rubin_sim.scheduler import sim_runner\n",
    "from rubin_sim.scheduler.model_observatory import ModelObservatory"
   ]
  },
  {
   "cell_type": "code",
   "execution_count": null,
   "id": "2ddba57e-7dd0-447b-85e7-845302311a41",
   "metadata": {
    "tags": []
   },
   "outputs": [],
   "source": [
    "from uranography.api import HorizonMap, ArmillarySphere"
   ]
  },
  {
   "cell_type": "markdown",
   "id": "f4ecb65d-fd0a-4460-8664-06c937f04876",
   "metadata": {},
   "source": [
    "Use `aimport` for `schedview` imports for ease of debugging."
   ]
  },
  {
   "cell_type": "code",
   "execution_count": null,
   "id": "94467ad4-2646-4fef-a729-455466adb26c",
   "metadata": {
    "tags": []
   },
   "outputs": [],
   "source": [
    "%aimport schedview\n",
    "%aimport schedview.app.prenight\n",
    "%aimport schedview.compute.scheduler\n",
    "%aimport schedview.compute.survey\n",
    "%aimport schedview.collect.scheduler_pickle\n",
    "%aimport schedview.plot.survey"
   ]
  },
  {
   "cell_type": "markdown",
   "id": "e10ab709-2c23-40d4-84cb-bd9ea8ae0cd8",
   "metadata": {},
   "source": [
    "### Load (post-import) jupyter extensions"
   ]
  },
  {
   "cell_type": "markdown",
   "id": "d1c4a0fa-53d2-4712-8a31-6b1e48392d5a",
   "metadata": {},
   "source": [
    "Load the `panel` extension so we can see plots in this notebook."
   ]
  },
  {
   "cell_type": "code",
   "execution_count": null,
   "id": "e4dfba12-0386-4578-ac45-f50e0fc1a30f",
   "metadata": {
    "tags": []
   },
   "outputs": [],
   "source": [
    "pn.extension()"
   ]
  },
  {
   "cell_type": "markdown",
   "id": "3e53308b-da37-41d0-b7eb-0512bf1b6820",
   "metadata": {},
   "source": [
    "### Filter warnings\n",
    "\n",
    "Several dependencies throw prodigious instances of (benign) warnings.\n",
    "Suppress them to avoid poluting the executed notebook."
   ]
  },
  {
   "cell_type": "code",
   "execution_count": null,
   "id": "c9e50326-be13-4a2d-9187-60f2c53ce32e",
   "metadata": {
    "tags": []
   },
   "outputs": [],
   "source": [
    "warnings.filterwarnings(\n",
    "    \"ignore\",\n",
    "    module=\"astropy.time\",\n",
    "    message=\"Numerical value without unit or explicit format passed to TimeDelta, assuming days\",\n",
    ")\n",
    "warnings.filterwarnings(\n",
    "    \"ignore\",\n",
    "    module=\"astropy.coordinates\",\n",
    "    message=r\"Tried to get polar motions for times after IERS data is valid..*\",\n",
    ")\n",
    "warnings.filterwarnings(\n",
    "    \"ignore\",\n",
    "    module=\"pandas\",\n",
    "    message=\"In a future version of pandas, a length 1 tuple will be returned when iterating over a groupby with a grouper equal to a list of length 1. Don't supply a list with a single grouper to avoid this warning.\",\n",
    ")\n",
    "warnings.filterwarnings(\n",
    "    \"ignore\",\n",
    "    module=\"healpy\",\n",
    "    message=\"divide by zero encountered in divide\",\n",
    ")\n",
    "warnings.filterwarnings(\n",
    "    \"ignore\",\n",
    "    module=\"healpy\",\n",
    "    message=\"invalid value encountered in multiply\",\n",
    ")\n",
    "warnings.filterwarnings(\n",
    "    \"ignore\",\n",
    "    module=\"holoviews\",\n",
    "    message=\"Discarding nonzero nanoseconds in conversion.\",\n",
    ")\n",
    "warnings.filterwarnings(\n",
    "    \"ignore\",\n",
    "    module=\"rubin_sim\",\n",
    "    message=\"invalid value encountered in arcsin\",\n",
    ")\n",
    "warnings.filterwarnings(\n",
    "    \"ignore\",\n",
    "    module=\"rubin_sim\",\n",
    "    message=\"All-NaN slice encountered\",\n",
    ")\n",
    "warnings.filterwarnings(\"ignore\", category=IERSDegradedAccuracyWarning, append=True)"
   ]
  },
  {
   "cell_type": "markdown",
   "id": "4d4756cb-a0cb-4c41-a7bb-88c39a5880b7",
   "metadata": {},
   "source": [
    "## Create sample `scheduler` and `conditions` instances"
   ]
  },
  {
   "cell_type": "markdown",
   "id": "e1701937-2834-426a-83bb-8c3a20895a3e",
   "metadata": {},
   "source": [
    "We can either construct instances of `scheduler` and `conditions` instances \"from scratch,\" or load them from an existing python `pickle`.\n",
    "\n",
    "In normal operations, the observatory infrastructure will construct the instances, and observatory staff loads them from archived pickles.\n",
    "\n",
    "In this notebook, though, we may need to construct such a pickle for ourselves.\n",
    "\n",
    "Pick a name for the file we will be using.\n",
    "If you remake the scheduler, the current contents of the file will be overwritten!"
   ]
  },
  {
   "cell_type": "code",
   "execution_count": null,
   "id": "260a309a-881c-4bc6-92e1-9e3ee31dd8ca",
   "metadata": {
    "tags": []
   },
   "outputs": [],
   "source": [
    "scheduler_pickle = \"example_scheduler.p.xz\"\n",
    "\n",
    "# If the scheduler pickle name isn't set, invent a temporary one\n",
    "# that will get cleaned up automatically.\n",
    "if \"scheduler_pickle\" not in locals():\n",
    "    temp_dir = TemporaryDirectory()\n",
    "    temp_dir_path = Path(temp_dir.name)\n",
    "    scheduler_pickle = str(temp_dir_path.joinpath(\"example_scheduler.p.xz\"))"
   ]
  },
  {
   "cell_type": "markdown",
   "id": "d875c33c-9d40-400f-b8d8-ef328991f21e",
   "metadata": {},
   "source": [
    "If you need to create the pickle, set `remake_scheduler_pickle` to `True` the first time you run this notebook, which will make the pickle.\n",
    "In general, you'll probably prefer to load this pickle, which is faster, so set it back to `False` after you run it once."
   ]
  },
  {
   "cell_type": "code",
   "execution_count": null,
   "id": "5f6b52b7-9519-4338-8a9c-b40b5d1aa32d",
   "metadata": {
    "tags": []
   },
   "outputs": [],
   "source": [
    "remake_scheduler_pickle = not Path(scheduler_pickle).exists()\n",
    "\n",
    "if remake_scheduler_pickle:\n",
    "    local_timezone = ZoneInfo(\"Chile/Continental\")\n",
    "    start_time = Time(pd.Timestamp(\"2025-08-01 22:00:00\", tzinfo=local_timezone))\n",
    "    current_time = Time(pd.Timestamp(\"2025-08-01 23:00:00\", tzinfo=local_timezone))\n",
    "\n",
    "    results = schedview.compute.scheduler.create_example(\n",
    "        current_time,\n",
    "        start_time,\n",
    "        scheduler_pickle_fname=scheduler_pickle,\n",
    "    )\n",
    "    del results"
   ]
  },
  {
   "cell_type": "markdown",
   "id": "68c9afa1-7757-497f-b989-696601b44237",
   "metadata": {},
   "source": [
    "Now, load the pickle:"
   ]
  },
  {
   "cell_type": "code",
   "execution_count": null,
   "id": "c9f93877-bb86-4c63-b201-bc3652592873",
   "metadata": {
    "tags": []
   },
   "outputs": [],
   "source": [
    "scheduler, conditions = schedview.collect.scheduler_pickle.read_scheduler(\n",
    "    scheduler_pickle\n",
    ")"
   ]
  },
  {
   "cell_type": "markdown",
   "id": "d9ef1b77-6567-41ea-9336-e4b73e9b9943",
   "metadata": {},
   "source": [
    "## Calling the scheduler"
   ]
  },
  {
   "cell_type": "code",
   "execution_count": null,
   "id": "c4eb14c2-d22d-471f-8469-c20d23213585",
   "metadata": {
    "tags": []
   },
   "outputs": [],
   "source": [
    "type(conditions)"
   ]
  },
  {
   "cell_type": "markdown",
   "id": "04cdf385-6ee7-4509-adc2-9ccc5552c6f7",
   "metadata": {},
   "source": [
    "The `conditions` object, an instance of `rubin_sim.scheduler.features.conditions.Conditions`, provides an interface to the environmental data required to choose an observation.\n",
    "These data include the date and time (expressed as a [modified Julian date, or MJD](https://en.wikipedia.org/wiki/Julian_day)).\n",
    "This date can be set or viewed in a conventional format using the `astropy.time.Time` class:"
   ]
  },
  {
   "cell_type": "code",
   "execution_count": null,
   "id": "3e357551-dd79-452b-8d66-3c88e7a10ae5",
   "metadata": {
    "tags": []
   },
   "outputs": [],
   "source": [
    "Time(conditions.mjd, format=\"mjd\").iso"
   ]
  },
  {
   "cell_type": "code",
   "execution_count": null,
   "id": "d38bd3c0-1214-433a-8671-76c43ade2a9c",
   "metadata": {
    "tags": []
   },
   "outputs": [],
   "source": [
    "conditions.mjd = Time(\"2025-08-02 03:01:00\").mjd\n",
    "Time(conditions.mjd, format=\"mjd\").iso"
   ]
  },
  {
   "cell_type": "code",
   "execution_count": null,
   "id": "59a7926a-aa6d-4046-ab6f-fd5934f74d2a",
   "metadata": {
    "tags": []
   },
   "outputs": [],
   "source": [
    "type(scheduler)"
   ]
  },
  {
   "cell_type": "markdown",
   "id": "db83b508-6bf3-47c8-ad38-dc85c62b8389",
   "metadata": {},
   "source": [
    "The state of the `scheduler` object (an instance of `rubin_sim.scheduler.schedulers.core_scheduler.CoreScheduler`) can the be set according to these conditions, at which point it can select observations for these conditions:"
   ]
  },
  {
   "cell_type": "code",
   "execution_count": null,
   "id": "c5b2f43a-11c2-4145-9ddc-b8dd56a45946",
   "metadata": {
    "tags": []
   },
   "outputs": [],
   "source": [
    "scheduler.update_conditions(conditions)\n",
    "observations = scheduler.request_observation()\n",
    "observations"
   ]
  },
  {
   "cell_type": "markdown",
   "id": "ccad9967-0ffc-40d4-93b5-fad65c97b8f5",
   "metadata": {},
   "source": [
    "The `observation` object returned by `scheduler.request_observation()` is a `numpy.recarray` with a list of (one) observation, the observation for the time requestied.\n",
    "It contains the data needed to actually take the observation.\n",
    "\n",
    "Jupyter does not display `numpy.recarray` nicely, but can be converted to a `pandas.DataFrame` and the relevant columns extracted:"
   ]
  },
  {
   "cell_type": "code",
   "execution_count": null,
   "id": "875fc59d-fdf3-408b-ba7c-3edd847cbf19",
   "metadata": {
    "tags": []
   },
   "outputs": [],
   "source": [
    "pd.DataFrame(observations)[\n",
    "    [\n",
    "        \"RA\",\n",
    "        \"dec\",\n",
    "        \"rotSkyPos_desired\",\n",
    "        \"filter\",\n",
    "        \"exptime\",\n",
    "        \"nexp\",\n",
    "        \"flush_by_mjd\",\n",
    "        \"note\",\n",
    "    ]\n",
    "]"
   ]
  },
  {
   "cell_type": "markdown",
   "id": "9ba392e2-90e9-4efb-80f3-07db24c861d3",
   "metadata": {},
   "source": [
    "## Understanding the scheduler: how the scheduler selects an observation"
   ]
  },
  {
   "cell_type": "markdown",
   "id": "f77a277d-3238-4e57-94c7-79e010acb722",
   "metadata": {},
   "source": [
    "When `request_observation` is called, `scheduler` checks if there are any valid observations in its `queue` member, and if there are, it returns the first one.\n",
    "\n",
    "If there are not, it tries to fill the `queue` using objects in its `survey_lists` member, which is a list of lists of instances of subclasses of `BaseSurvey`:"
   ]
  },
  {
   "cell_type": "code",
   "execution_count": null,
   "id": "4816463b-57e1-4523-87da-a593d7d700f7",
   "metadata": {
    "tags": []
   },
   "outputs": [],
   "source": [
    "scheduler.survey_lists"
   ]
  },
  {
   "cell_type": "markdown",
   "id": "a1ea8e99-8655-462e-b7d3-14ffe6d28666",
   "metadata": {},
   "source": [
    "Instances of `BaseSurvey` and its subclasses all have two fundamental methods:\n",
    "- `calc_reward_function(conditions: Conditions) -> float | numpy.array`, which returns a \"reward\" for observations from this survey under these conditions. If a value of `-inf` is returned, that indicates that the survey is not feasible under the provided conditions.\n",
    "- `generate_observations(conditions: Conditions) -> numpy.recarray`, which returns observations that would be selected by this survey for these conditions."
   ]
  },
  {
   "cell_type": "markdown",
   "id": "d6457905-2926-4bc3-b11c-9753393fedd4",
   "metadata": {},
   "source": [
    "Each element of `survey_lists` is a tier, a list of surveys with equal priority.\n",
    "\n",
    "The `scheduler` iterates over the list of tiers in `survey_lists` until it finds one for which there is at least one survey that returns a valid reward (one greater than `-np.inf`):\n",
    "\n",
    "```\n",
    "rewards = None\n",
    "for ns, surveys in enumerate(self.survey_lists):\n",
    "    rewards = np.zeros(len(surveys))\n",
    "    for i, survey in enumerate(surveys):\n",
    "        rewards[i] = np.nanmax(survey.calc_reward_function(self.conditions))\n",
    "    # If we have a good reward, break out of the loop\n",
    "    if np.nanmax(rewards) > -np.inf:\n",
    "        self.survey_index[0] = ns\n",
    "        break\n",
    "```\n",
    "\n",
    "If it finds one, it uses the survey in that list that provides the maximum reward to fill the queue:\n",
    "\n",
    "```\n",
    "if (np.nanmax(rewards) == -np.inf) | (np.isnan(np.nanmax(rewards))):\n",
    "    self.flush_queue()\n",
    "else:\n",
    "    to_fix = np.where(np.isnan(rewards) == True)\n",
    "    rewards[to_fix] = -np.inf\n",
    "    # Take a min here, so the surveys will be executed in the order they are\n",
    "    # entered if there is a tie.\n",
    "    self.survey_index[1] = np.min(np.where(rewards == np.nanmax(rewards)))\n",
    "    # Survey return list of observations\n",
    "    result = self.survey_lists[self.survey_index[0]][\n",
    "        self.survey_index[1]\n",
    "    ].generate_observations(self.conditions)\n",
    "\n",
    "    self.queue = result        rewards = None\n",
    "```\n",
    "\n",
    "If the `queue` is still empty after the attempt to fill it, then `generate_observations` returns `None`."
   ]
  },
  {
   "cell_type": "markdown",
   "id": "2bd97d70-3da7-4562-be73-f102aff0af7c",
   "metadata": {},
   "source": [
    "# Examine the scheduler"
   ]
  },
  {
   "cell_type": "markdown",
   "id": "fb6c10d4-b60a-4d81-b6cd-8780ab48f31f",
   "metadata": {},
   "source": [
    "Additional detail on how `scheduler` will fill its queue is available with `scheduler.make_reward_df`:"
   ]
  },
  {
   "cell_type": "code",
   "execution_count": null,
   "id": "1f520ddb-d00c-44e5-a1b3-a3d171f74037",
   "metadata": {
    "tags": []
   },
   "outputs": [],
   "source": [
    "reward_df = scheduler.make_reward_df(conditions)"
   ]
  },
  {
   "cell_type": "markdown",
   "id": "ad8def1d-6186-4c38-a074-616b169b085a",
   "metadata": {},
   "source": [
    "The return from `scheduler.make_reward_df` can be summarized with `schedview.compute.scheduler.make_scheduler_summary_df`:"
   ]
  },
  {
   "cell_type": "code",
   "execution_count": null,
   "id": "5f670549-e4b0-43d3-b6f9-fdf0e33dfff6",
   "metadata": {
    "tags": []
   },
   "outputs": [],
   "source": [
    "schedview.compute.scheduler.make_scheduler_summary_df(scheduler, conditions, reward_df)"
   ]
  },
  {
   "cell_type": "markdown",
   "id": "f3c2946f-9b9c-4dfc-9324-ccc94624700c",
   "metadata": {},
   "source": [
    "## Examining surveys"
   ]
  },
  {
   "cell_type": "markdown",
   "id": "345d02ef-1c46-401d-ac61-50a3f5012617",
   "metadata": {
    "execution": {
     "iopub.execute_input": "2023-06-15T18:53:57.592078Z",
     "iopub.status.busy": "2023-06-15T18:53:57.591625Z",
     "iopub.status.idle": "2023-06-15T18:53:57.596830Z",
     "shell.execute_reply": "2023-06-15T18:53:57.596517Z",
     "shell.execute_reply.started": "2023-06-15T18:53:57.592063Z"
    },
    "tags": []
   },
   "source": [
    "### The summary table for a survey"
   ]
  },
  {
   "cell_type": "markdown",
   "id": "efba9e30-3d6b-4026-87da-a4187afaf638",
   "metadata": {},
   "source": [
    "Each survey in the list of lists in `scheduler.survey_lists` is an instance of a subclass of `rubin_sim.scheduler.surveys.base_survey.BaseSurvey`.\n",
    "Some subclasses of `BaseSurvey` can provide additional data on their calculation of rewards and select of observations.\n",
    "In particular, `BlobSurvey` and `GreedySurvey` are subclasses of `BaseMarkovSurvey`, which computes rewards through a weighted sum of a set of basis functions, and examination of these basis functions provides valuable information for understanding why they behave the way they do."
   ]
  },
  {
   "cell_type": "markdown",
   "id": "84b364de-fae5-4c59-a767-f3e12b5d6c2a",
   "metadata": {},
   "source": [
    "To further explore a specific survey, first extract the instance of interest from `scheduler.survey_lists`:"
   ]
  },
  {
   "cell_type": "code",
   "execution_count": null,
   "id": "1bbb9513-236b-4e3c-ba09-e635ee94a41a",
   "metadata": {
    "tags": []
   },
   "outputs": [],
   "source": [
    "tier_id, survey_id = 2, 3\n",
    "survey = scheduler.survey_lists[tier_id][survey_id]"
   ]
  },
  {
   "cell_type": "markdown",
   "id": "b9d1911a-9272-46ac-a2cc-6fe062fe8422",
   "metadata": {},
   "source": [
    "Then, use `schedview.compute.survey.make_survey_reward_df` to extract the needed data from `reward_df` (computed above):"
   ]
  },
  {
   "cell_type": "code",
   "execution_count": null,
   "id": "a2daa77f-33c2-4414-acce-024fdea37bab",
   "metadata": {
    "tags": []
   },
   "outputs": [],
   "source": [
    "schedview.compute.survey.make_survey_reward_df(\n",
    "    survey, conditions, reward_df.loc[[(tier_id, survey_id)], :]\n",
    ")"
   ]
  },
  {
   "cell_type": "markdown",
   "id": "ec75a1bd-7ba6-4710-aa45-be1d19edcd94",
   "metadata": {},
   "source": [
    "Each row listed summarizes one basis function.\n",
    "\n",
    "The reward returned by any give basis function can either be an array (a healpix map) or a scalar.\n",
    "\n",
    "If the reward is an array (a healpix map of the sky), the `max_basis_reward` and `basis_area` show the maximum reward over the sky and the area of the sky with a reward > `-np.inf`.\n",
    "\n",
    "The `max_accum_reward` and the `accum_area` show the maximum reward and feasible area of all basis functions at that point in the list and above."
   ]
  },
  {
   "cell_type": "markdown",
   "id": "412b8b71-689b-4a30-9ce6-3a4d1df65fe3",
   "metadata": {},
   "source": [
    "### Maps of basis functions"
   ]
  },
  {
   "cell_type": "markdown",
   "id": "969ae0cc-8d7d-4fb8-aa16-2054a1aee729",
   "metadata": {},
   "source": [
    "Finally, we can show the full maps for basis functions that provide them."
   ]
  },
  {
   "cell_type": "markdown",
   "id": "bfc7bd69-3fd1-431e-87bb-d98ccbf5bda5",
   "metadata": {},
   "source": [
    "Set `nside` to the `healpix` `nside` at which you want the maps displayed. This can be lower than the native `nside` for the maps, in which case the maps will be shown at reduced resolution.\n",
    "\n",
    "Then, use `schedview.compute.survey.compute_maps` to collect the maps for all basis functions into a dictionary:"
   ]
  },
  {
   "cell_type": "code",
   "execution_count": null,
   "id": "a8458283-cfeb-4f47-a053-900e35eef4a4",
   "metadata": {
    "tags": []
   },
   "outputs": [],
   "source": [
    "nside = 16\n",
    "survey_maps = schedview.compute.survey.compute_maps(survey, conditions, nside=nside)\n",
    "survey_maps.keys()"
   ]
  },
  {
   "cell_type": "markdown",
   "id": "b892af19-f47b-40fc-a528-2f0c286da78c",
   "metadata": {},
   "source": [
    "Now, you can select the key for the map you want to look at, and use `schedview.plot.survey.map_survey_healpix` to display the map:"
   ]
  },
  {
   "cell_type": "code",
   "execution_count": null,
   "id": "a98190bc-4ce9-4b0e-af07-502fa6310f59",
   "metadata": {
    "tags": []
   },
   "outputs": [],
   "source": [
    "healpix_key = \"g_sky\"\n",
    "sky_map = schedview.plot.survey.map_survey_healpix(\n",
    "    conditions.mjd, survey_maps, healpix_key, nside\n",
    ")\n",
    "sky_map.notebook_display()"
   ]
  },
  {
   "cell_type": "markdown",
   "id": "c393d675-d3fa-4fdf-93e0-93144fccb157",
   "metadata": {
    "execution": {
     "iopub.execute_input": "2023-06-15T19:00:56.017431Z",
     "iopub.status.busy": "2023-06-15T19:00:56.017229Z",
     "iopub.status.idle": "2023-06-15T19:00:56.022140Z",
     "shell.execute_reply": "2023-06-15T19:00:56.021818Z",
     "shell.execute_reply.started": "2023-06-15T19:00:56.017414Z"
    },
    "tags": []
   },
   "source": [
    "## Putting it all together"
   ]
  },
  {
   "cell_type": "code",
   "execution_count": null,
   "id": "6dac69d3-f580-44a6-8028-7fb2c24d09c0",
   "metadata": {
    "tags": []
   },
   "outputs": [],
   "source": [
    "def show_scheduler(\n",
    "    pickle_fname, mjd, tier_id=2, survey_id=2, map_key=\"reward\", nside=None\n",
    "):\n",
    "    scheduler, conditions = schedview.collect.scheduler_pickle.read_scheduler(\n",
    "        pickle_fname\n",
    "    )\n",
    "\n",
    "    if nside is None:\n",
    "        nside = conditions.nside\n",
    "\n",
    "    # Set the date\n",
    "    conditions.mjd = mjd\n",
    "    scheduler.update_conditions(conditions)\n",
    "\n",
    "    # Get data on survey and basis funtions\n",
    "    reward_df = scheduler.make_reward_df(conditions)\n",
    "    survey = scheduler.survey_lists[tier_id][survey_id]\n",
    "    survey_maps = schedview.compute.survey.compute_maps(survey, conditions, nside=nside)\n",
    "\n",
    "    # Display the selected map\n",
    "    sky_map = schedview.plot.survey.map_survey_healpix(\n",
    "        conditions.mjd, survey_maps, healpix_key, nside\n",
    "    )\n",
    "    sky_map.notebook_display()\n",
    "\n",
    "    # Display the selected survey basis function summary\n",
    "    survey_reward_df = schedview.compute.survey.make_survey_reward_df(\n",
    "        survey, conditions, reward_df.loc[[(tier_id, survey_id)], :]\n",
    "    )\n",
    "    display(survey_reward_df)\n",
    "\n",
    "    # Summarize rewards from all surveys\n",
    "    scheduler_summary_df = schedview.compute.scheduler.make_scheduler_summary_df(\n",
    "        scheduler, conditions, reward_df\n",
    "    )\n",
    "    display(scheduler_summary_df)\n",
    "\n",
    "\n",
    "mjd = Time(\n",
    "    pd.Timestamp(\"2025-08-01 23:00:00\", tzinfo=ZoneInfo(\"Chile/Continental\"))\n",
    ").mjd\n",
    "show_scheduler(scheduler_pickle, mjd, 2, 2, \"reward\")"
   ]
  },
  {
   "cell_type": "markdown",
   "id": "cb258012-45d6-4dde-ba36-facffb8921f8",
   "metadata": {
    "execution": {
     "iopub.execute_input": "2023-06-15T19:46:08.704277Z",
     "iopub.status.busy": "2023-06-15T19:46:08.704077Z",
     "iopub.status.idle": "2023-06-15T19:46:08.709520Z",
     "shell.execute_reply": "2023-06-15T19:46:08.709146Z",
     "shell.execute_reply.started": "2023-06-15T19:46:08.704264Z"
    },
    "tags": []
   },
   "source": [
    "## Desired functionality in a dashboard\n",
    "\n",
    "Most of this is done already in the `sched_maps` dashboard, but this needs to be refactored.\n",
    "\n",
    "Needed functionality:\n",
    "\n",
    " - Clear layout, headings, and key.\n",
    " - A text entry box for a file path or URL for a pickle to load.\n",
    " - A date entry box to select the date in a user-friendly format (then to be converted to MJD)\n",
    " - Drop-downs (or similar) to select the tier, survey, and map to plot.\n",
    " - Clicking on the row for a basis function in the survey_reward_df table should cause that map to be shown in the map figure.\n",
    " - Clicking on the row for survey in the in the scheduler_summary_df table should cause that survey to be shown both the table and map figure.\n",
    " - URLs in the survey_reward_df and scheduler_summary_df tables should not be shown as urls, but rather be linked to by the basis_function and survey_name text.\n",
    " - Any errors need to be reported to the user.\n",
    " - Operations that take a long time (loading a new pickle, changing the date) should disable the interface and show a status message during the update.\n",
    "\n",
    "Needed soon:\n",
    "\n",
    "- Accept parameters (pickle file url, mjd, survey, nside) in the url so other dashboards can link to it in a given state.\n",
    "\n",
    "Even better:\n",
    "\n",
    "- A section box to display maps with different nsides. (nsides can be 8, 16, or 32)\n",
    "- Tools for changing the color scheme for the map"
   ]
  },
  {
   "cell_type": "code",
   "execution_count": null,
   "id": "c3e8591c-436e-458c-9e4c-75ea229dea4b",
   "metadata": {},
   "outputs": [],
   "source": []
  }
 ],
 "metadata": {
  "kernelspec": {
   "display_name": "schedview",
   "language": "python",
   "name": "schedview"
  },
  "language_info": {
   "codemirror_mode": {
    "name": "ipython",
    "version": 3
   },
   "file_extension": ".py",
   "mimetype": "text/x-python",
   "name": "python",
   "nbconvert_exporter": "python",
   "pygments_lexer": "ipython3",
   "version": "3.11.4"
  }
 },
 "nbformat": 4,
 "nbformat_minor": 5
}
